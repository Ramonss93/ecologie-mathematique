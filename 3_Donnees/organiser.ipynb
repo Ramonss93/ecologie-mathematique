{
 "cells": [
  {
   "cell_type": "markdown",
   "metadata": {},
   "source": [
    "### Organisation des données avec `pandas`\n",
    "\n",
    "La fonction `melt` permet d'organiser nos données selon la règle no 1."
   ]
  },
  {
   "cell_type": "code",
   "execution_count": null,
   "metadata": {},
   "outputs": [],
   "source": [
    "df1_tidy = df1.melt(id_vars='Site')\n",
    "df1_tidy"
   ]
  },
  {
   "cell_type": "markdown",
   "metadata": {},
   "source": [
    "L'argument `id_vars` spécifie quelles colonnes doivent rester intactes. Réajustons les noms des colonnes. Pour se faire, il faut extraire les noms de colonnes (`columns`), plus particulièrement leurs valeurs (`values`). La fonction `head` permet d'éviter de présenter le tableau entier, ce qui est pratique pour les tableaux comportantun grand nombre de lignes."
   ]
  },
  {
   "cell_type": "code",
   "execution_count": null,
   "metadata": {},
   "outputs": [],
   "source": [
    "df1_tidy.columns.values[[1, 2]] = ['Traitement', 'Rendement']\n",
    "df1_tidy.head()"
   ]
  },
  {
   "cell_type": "markdown",
   "metadata": {},
   "source": [
    "De la même manière que `head`, vous pouvez utiliser `tail` pour obtenir les dernières valeurs du tableau.\n",
    "\n",
    "Passons au tableau des précipitations. C'est un petit tableau, que nous pouvons entrer directement en Python. Pour ce faire, la fonction `DataFrame` peut importer un dictionnaire."
   ]
  },
  {
   "cell_type": "code",
   "execution_count": null,
   "metadata": {},
   "outputs": [],
   "source": [
    "df_prec = pd.DataFrame({'Site': ['Sainte-Paix', 'Saint-Foin', 'Saint-Coincoin'],\n",
    "                        'Précipitations': [813, 642, 1028]})\n",
    "df_prec"
   ]
  },
  {
   "cell_type": "markdown",
   "metadata": {},
   "source": [
    "Notre information est maintenant bien organisée. Mais comment fusionner l'information pour qu'elle puisse être utilisée dans son ensemble?  La fonction `merge` effectue cette opération typique avec les bases de données."
   ]
  },
  {
   "cell_type": "code",
   "execution_count": null,
   "metadata": {},
   "outputs": [],
   "source": [
    "df_merge = pd.merge(left=df1_tidy, right=df_prec, on='Site')\n",
    "df_merge"
   ]
  },
  {
   "cell_type": "markdown",
   "metadata": {},
   "source": [
    "Exportons notre tableau en format csv."
   ]
  },
  {
   "cell_type": "code",
   "execution_count": null,
   "metadata": {},
   "outputs": [],
   "source": [
    "df_merge.to_csv(path_or_buf='data/tableau1_tidy.csv')"
   ]
  },
  {
   "cell_type": "code",
   "execution_count": null,
   "metadata": {},
   "outputs": [],
   "source": []
  }
 ],
 "metadata": {
  "kernelspec": {
   "display_name": "Python 3",
   "language": "python",
   "name": "python3"
  },
  "language_info": {
   "codemirror_mode": {
    "name": "ipython",
    "version": 3
   },
   "file_extension": ".py",
   "mimetype": "text/x-python",
   "name": "python",
   "nbconvert_exporter": "python",
   "pygments_lexer": "ipython3",
   "version": "3.5.3"
  }
 },
 "nbformat": 4,
 "nbformat_minor": 2
}
