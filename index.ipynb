{
 "cells": [
  {
   "cell_type": "markdown",
   "metadata": {},
   "source": [
    "# Une introduction au génie bionumérique"
   ]
  },
  {
   "cell_type": "markdown",
   "metadata": {},
   "source": [
    "**Table des matières**\n",
    "\n",
    "0. [Guide de démarrage](1/index.ipynb)\n",
    "    0. [Lire CSGE](1/index.ipynb#1)\n",
    "        0. [Qui devrait lire CSGE?](1/1.ipynb#1)\n",
    "            0. Note: + Pourquoi le GE?\n",
    "        0. [Comment lire CSGE?](1/1.ipynb#2)\n",
    "        0. [Préparer son ordinateur](1/1.ipynb#3)\n",
    "        0. [Utiliser Jupyter lab](1/1.ipynb#4)\n",
    "        0. [Lectures complémentaires](1/1.ipynb#5)\n",
    "            0. [Getting started with Biology](1/1.ipynb#5.1)\n",
    "            0. [Getting started with Computer Science and programming](1/1.ipynb#5.2)\n",
    "            0. [Philosophy of biology and popular science books](1/1.ipynb#5.3)\n",
    "        0. [Besoin d'aide?](1/1.ipynb#6)\n",
    "        0. [Contribuer à CSGE](1/1.ipynb#7)\n",
    "        0. [À propos de l'auteur](1/1.ipynb#8)\n",
    "        0. [Remerciements](1/1.ipynb#9)\n",
    "0. [Python]()"
   ]
  }
 ],
 "metadata": {
  "anaconda-cloud": {},
  "kernelspec": {
   "display_name": "Python [default]",
   "language": "python",
   "name": "python3"
  },
  "language_info": {
   "codemirror_mode": {
    "name": "ipython",
    "version": 3
   },
   "file_extension": ".py",
   "mimetype": "text/x-python",
   "name": "python",
   "nbconvert_exporter": "python",
   "pygments_lexer": "ipython3",
   "version": "3.5.2"
  }
 },
 "nbformat": 4,
 "nbformat_minor": 2
}
