{
 "cells": [
  {
   "cell_type": "markdown",
   "metadata": {},
   "source": [
    "# Visualisation\n",
    "\n",
    "Lorsque j'aborde un document scientifique, la première chose que je fais après avoir lu le résumé est de regarder les graphiques. Un graphique bien conçu est dense en information, de sorte qu'il met en lumière une information qui pourrait passer inaperçue dans un tableau.\n",
    "\n",
    "Vous reconnaîtrez peut-être ce graphique.\n",
    "\n",
    "<img src=\"images/mann-hockey-stick-2001.png\" width=\"600\">\n",
    "<center>Source: [GIEC, Bilan 2001 des changements climatiques : Les éléments scientifiques](https://www.ipcc.ch/pdf/climate-changes-2001/scientific-basis/scientific-spm-ts-fr.pdf)</center>\n",
    "\n",
    "Ce graphique, conçu par Michael E. Mann, Raymond S. Bradley et Malcolm K. Hughes, montre l'évolution des températures en °C normalisées selon la température moyenne entre 1961 et 1990 sur l'axe des Y en fonction du temps, sur l'axe des X. On le connait aujourd'hui comme le *bâton de hockey*, et on reconnait son rôle clé pour sensibiliser la civilisation entière face au réchauffement global, et a repoussé dans la marge les courrants négateurs.\n",
    "\n",
    "Les températures précédent le 20ième siècle ont été reconstruites à partir de données indirectes. Les auteurs du graphique ont pris soin d'indiquer l'incertitude de leurs reconstruction, qui devient de plus en plus étroites avec le temps."
   ]
  },
  {
   "cell_type": "markdown",
   "metadata": {},
   "source": [
    "## Cinq qualités d'un bon graphique\n",
    "\n",
    "Alberto Cairo, chercheur spécialisé en visualisation de données, a fait paraître en 2016 le livre *The Truthful art*, note cinq qualités d'une visualisation bien conçue (les citations de cette section proviennent de ma traduction de Alberto Cairo, *The Truthful art* (2016), p. 45.).\n",
    "\n",
    "> 1- **Elle est véritable**, puisqu'elle est basée sur une recherche exhaustive et honnête.\n",
    "\n",
    "Cela vaut autant pourles graphiques que pour l'analyse de données. Il s'agit froidement de **présenter les données selon l'interprétation la plus exacte**. Les pièges à éviter sont le *picorage de cerises* et la *surinterprétation des données*. Le *picorage*, c'est lorsqu'on réduit les perspectives afin de soutenir un argumentaire. Par exemple, retirer des données d'une région ou d'une décénie qui rendraient factice une conclusion fixée *a priori*. Ceci vaut autant pour les graphiques que pour les statistiques (nous parlerons du p-hacking au prochain chapitre). La *surinterprétation*, c'est lorsque l'on saute rapidement aux conclusions: par exemple, que l'on génère des corrélations, voire même des relations de causalités à partir de ce qui n'est que du bruit de fond.\n",
    "\n",
    "> 2- **Elle est fonctionnelle**, puisqu'elle constitue une représentation précise des données, et qu'elle est construite de manière à laisser les observateurs.trices prendre des initiatives consquentes.\n",
    "\n",
    "\"La seule chose qui est pire qu'un diagramme en pointe de tarte, c'est d'en présenter plusieurs\" (Edward Tufte, designer, cité par Alberto Cairo, 2016, p. 50). Choisir le bon graphique pour représenter vos données est beaucoup moins une question de bon goût qu'une question de démarche rationnelle. Je présenterai des lignes guides pour sélectionner le type de graphique qui présentera vos données de manière fonctionnelle en fonction de l'objectif d'un graphique (d'ailleurs, avez-vous vraiment besoin d'un graphique?) et de l'audience (en ce qui nous concerne dans ce manuel, la communauté scientifique).\n",
    "\n",
    "> 3- **Elle est belle**, dans le sens d'attrayante, intrigauante, et même esthétiquement plaisante pour l'audience visée - les scientifiques d'abord, mais aussi le public en général.\n",
    "\n",
    "En sciences naturelles, la pensée rationnelle, la capacité à organiser la connaissance et créer de nouvelles avenues sont des qualités qui sont privilégiées au talent artistique. Que vous ayez où non des aptitudes en art visuel, *présentez de l'information, pas des décorations*. Excel vous permet d'ajouter une perspective 3D à un diagramme en barres. La profondeur contient-elle de l'information? Non. Cette décoration ne fait qu'ajouter de la confuusion. Minimalisez, fournissez le plus d'information possible avec le moins d'éléments possible. Si vous manquez d'idées, ouvrez un bon livre de référence en visualisation, comme le livre de Alberto Cairo (2016).\n",
    "\n",
    "> 4- **Elle est pertinente**, puisqu'elle révèle des évidences scientifiques autrement difficilement acessibles.\n",
    "\n",
    "Il s'agit de susciter un *euréka*, dans le sens qu'elle génère une idée en un coup d'oeil. Le graphique en bâton de hockey est un exemple où l'on a spontanément une idée de la situation. Cette situation peut être la présence d'un phénomène comme l'augmentation de la température globale, mais aussi l'absence de phénomène, par exemple l'absence d'augmentation du rendement d'une culture selon la dose de phosphore appliquée.\n",
    "\n",
    "> 5- **Elle est instructive**, parce que si l'on saisit et accepte les évidences scientifiques qu'elle décrit, cela changera notre perception pour le mieux.\n",
    "\n",
    "En présentant cette qualité, Alberto Cairo voulait insiter ses lecteurs.trices à choisir des sujets de discussion visuelle de manière à participer à un monde meilleur. En ce qui nous concerne, il s'agit de bien sélectionner l'information que l'on désire transmettre. Imaginez que vous avez travaillé quelques jours pour créer un graphique, sont vous êtes fier, mais vous (ou un collègue hiérarchiquement favorisé) vous rendez compte que le graphique soutient peu ou pas le propos de votre thèse/mémoire/rapport/article. Si c'est bien le cas, vous feriez mieux de laisser tomber votre oeuvre et considérer votre démarche comme une occasion d'apprentissage."
   ]
  },
  {
   "cell_type": "markdown",
   "metadata": {},
   "source": [
    "## Erreurs courrantes à éviter\n",
    "\n",
    "Une représentation visuelle est un outil tranchant qui peut autant présenter un état véritable des données qu'une perspective trompeuse, à l'insu même de ses concepteurs. Bien souvent, une ou plusieurs des 5 qualités ne sont pas respectées. Les occasions d'erreur ne manquent pas - j'en ferai mention dans la setion *Choisir le bon type de graphique*. Le statisticien et blogueur Kaiser Fung s'affaire quotidiennement à proposer des améliorations à de mauvais graphiques sur son blogue [Junk Charts](www.junkcharts.typepad.com)."
   ]
  },
  {
   "cell_type": "markdown",
   "metadata": {},
   "source": [
    "## Exploration\n",
    "\n",
    "Tout comme la création de sommaires (par exemple avec la méthode `describe` de `pandas`) vise d,abord à explorer des données, je parie que la majorité des graphiques que vous créerez ne seront pas voués à être publiés. Prenons deux variables quelconques, $X$ et $Y$. Vous calculez leur moyenne, écart-type et la corrélation entre les deux variables (nous verrons les statistiques en plus de détails dans le prochain chapitre). Je ne vous surprendrai pas en disant que ces statistiques sont insuffisantes pour bien apprécier ce que vous avez sous les yeux. Pour le démontrer, Matejka et Fitzmaurice (2017) ont généré 12 jeux de données $X$ et $Y$, ayant chacun pratiquement les mêmes statistiques. Mais avec des structures bien différentes.\n",
    "\n",
    "![](https://d2f99xq7vri1nk.cloudfront.net/DinoSequentialSmaller.gif)\n",
    "<center>Animation montrant la progression du jeu de onnées *Datasaurus* poir toutes les formes visées. Source: [Same Stats, Different Graphs: Generating Datasets with Varied Appearance and Identical Statistics through Simulated Annealing](https://www.autodeskresearch.com/publications/samestats).</center>"
   ]
  },
  {
   "cell_type": "markdown",
   "metadata": {},
   "source": [
    "## Visualisation en Python\n",
    "\n",
    "Les bibliothèques scientifique sur Python sont très bien organisées... sauf en ce qui a trait aux bibliothèques de visualisation.\n",
    "\n",
    "<center>\n",
    "  <img src=\"images/jake-vanderplas-pycon2017.jpg\" width=\"800\">\n",
    "  [The Python Visualization Landscape](https://www.youtube.com/watch?v=FytuB8nFHPQ). Conférence de Jake Vanderplas, développeur de la bibliothèque altair, sur les outils de visualisation disponibles sur Python, PyCon 2017.\n",
    "</center>\n",
    "\n",
    "Il existe plusieurs outils pour créer des graphiques en Python, certains génériques, d'autres spécialisés, chacune ayant un fonctionnement qui lui est propre. \n",
    "\n",
    "IMPÉRATIF VS DÉCLARATIF\n",
    "\n",
    "Il est difficile d'identifier les outils les plus pertinents pour les opérations courrantes en écologie mathématique. J'en suis arrivé à proposer les trois outils suivants.\n",
    "\n",
    "- **`matplotlib`** est l'outil de base. Il fonctionne en mode *impératif*. Peu de choses sont générées automatiquement, mais ce que vous perdez en convivialité, vous le gagnez en flexibilité.\n",
    "- **`pandas`** ne se limite pas aux opérations sur les tableaux. C'est aussi un outil graphique surtout exploratoire.\n",
    "- **`altair`** fonctionne en mode *déclaratif*. Il n'est en ce moment pas aussi mature et complet que `ggplot2` l'est dans le langage R, mais ses possibilités sont relativement complètes.\n",
    "\n",
    "Afin que les graphiques soient affichés dans un jupyter notebook, la commande `%matplotlib inline` doit être préalablement lancée."
   ]
  },
  {
   "cell_type": "code",
   "execution_count": 2,
   "metadata": {
    "collapsed": true
   },
   "outputs": [],
   "source": [
    "%matplotlib inline"
   ]
  },
  {
   "cell_type": "markdown",
   "metadata": {},
   "source": [
    "## Choisir bon type de graphique\n",
    "\n",
    "Vous connaissez sans doute les nuages de point, les lignes, les histogrammes, les diagrammes en barre et en pointe de tarte. Il en existe plusieurs autres. Les principaux seront couverts dans ce chapitre.\n",
    "\n",
    "Quoi qu'il en soit, selon Cairo (2016):\n",
    "\n",
    "1. Réfléchissez au message que vous désirez transmettre: comparer les catégories $A$ et $B$, visualiser une transition ou un changement de $A$ vers $B$, présenter une relation entre $A$ et $B$ ou la distribution de $A$ et $B$ sur une carte.\n",
    "\n",
    "2. Essayez différentes représentations: si le message que vous désirez transmettre a plusieurs volets, il se pourrait que vous ayaez besoin de plus d'un graphique.\n",
    "\n",
    "3. Mettez de l'ordre dans vos données. Le chapitre 3 visait à vous sensibilisé à l'importance d'avoir des données bien organisées, ce qui est impératif pour la visualisation.\n",
    "\n",
    "4. Testez le résultat. \"Hé, qu'est-ce que tu comprends de cela?\" Si la personne hausse les épaules, il va falloir réévaluer votre stratégie.\n",
    "\n"
   ]
  },
  {
   "cell_type": "markdown",
   "metadata": {},
   "source": [
    "### Diagramme en barre\n",
    "\n",
    "Le diagramme en barre est un ensemble de rectangles dont la longueur représente une quantité. Chaque barre représente une catégorie nominale ou ordinale."
   ]
  },
  {
   "cell_type": "markdown",
   "metadata": {},
   "source": [
    "Nous allons travailler avec `pandas` pour les opérations sur les tableaux et d'abord avec `altair` pour générer nos graphiques."
   ]
  },
  {
   "cell_type": "code",
   "execution_count": 216,
   "metadata": {
    "collapsed": true
   },
   "outputs": [],
   "source": [
    "import pandas as pd\n",
    "from altair import *"
   ]
  },
  {
   "cell_type": "markdown",
   "metadata": {},
   "source": [
    "#### Barres horizontales\n",
    "\n",
    "Pour les catégories nominales, les barres sont préférablement horizontales et ordonnées de la plus grande en haut à la plus petite, en bas."
   ]
  },
  {
   "cell_type": "markdown",
   "metadata": {},
   "source": [
    "Le site de l'OCDE (Organistion pour la coopération et de développement économique) compile de nnombreux types données, dont [des données des espèces menacées recensées par différents pays](https://stats.oecd.org/Index.aspx?DataSetCode=WILD_LIFE)."
   ]
  },
  {
   "cell_type": "code",
   "execution_count": 217,
   "metadata": {
    "scrolled": false
   },
   "outputs": [
    {
     "data": {
      "text/html": [
       "<div>\n",
       "<style>\n",
       "    .dataframe thead tr:only-child th {\n",
       "        text-align: right;\n",
       "    }\n",
       "\n",
       "    .dataframe thead th {\n",
       "        text-align: left;\n",
       "    }\n",
       "\n",
       "    .dataframe tbody tr th {\n",
       "        vertical-align: top;\n",
       "    }\n",
       "</style>\n",
       "<table border=\"1\" class=\"dataframe\">\n",
       "  <thead>\n",
       "    <tr style=\"text-align: right;\">\n",
       "      <th></th>\n",
       "      <th>IUCN</th>\n",
       "      <th>IUCN Category</th>\n",
       "      <th>SPEC</th>\n",
       "      <th>Species</th>\n",
       "      <th>COU</th>\n",
       "      <th>Country</th>\n",
       "      <th>Unit Code</th>\n",
       "      <th>Unit</th>\n",
       "      <th>PowerCode Code</th>\n",
       "      <th>PowerCode</th>\n",
       "      <th>Reference Period Code</th>\n",
       "      <th>Reference Period</th>\n",
       "      <th>Value</th>\n",
       "      <th>Flag Codes</th>\n",
       "      <th>Flags</th>\n",
       "    </tr>\n",
       "  </thead>\n",
       "  <tbody>\n",
       "    <tr>\n",
       "      <th>0</th>\n",
       "      <td>TOT_KNOWN</td>\n",
       "      <td>Total number of known species</td>\n",
       "      <td>MAMMAL</td>\n",
       "      <td>Mammals</td>\n",
       "      <td>AUS</td>\n",
       "      <td>Australia</td>\n",
       "      <td>NBR</td>\n",
       "      <td>Number</td>\n",
       "      <td>0</td>\n",
       "      <td>Units</td>\n",
       "      <td>NaN</td>\n",
       "      <td>NaN</td>\n",
       "      <td>401.0</td>\n",
       "      <td>NaN</td>\n",
       "      <td>NaN</td>\n",
       "    </tr>\n",
       "    <tr>\n",
       "      <th>1</th>\n",
       "      <td>TOT_KNOWN_IND</td>\n",
       "      <td>Total number of indigenous known species</td>\n",
       "      <td>MAMMAL</td>\n",
       "      <td>Mammals</td>\n",
       "      <td>AUS</td>\n",
       "      <td>Australia</td>\n",
       "      <td>NBR</td>\n",
       "      <td>Number</td>\n",
       "      <td>0</td>\n",
       "      <td>Units</td>\n",
       "      <td>NaN</td>\n",
       "      <td>NaN</td>\n",
       "      <td>349.0</td>\n",
       "      <td>NaN</td>\n",
       "      <td>NaN</td>\n",
       "    </tr>\n",
       "    <tr>\n",
       "      <th>2</th>\n",
       "      <td>ENDANGERED</td>\n",
       "      <td>Number of endangered species</td>\n",
       "      <td>MAMMAL</td>\n",
       "      <td>Mammals</td>\n",
       "      <td>AUS</td>\n",
       "      <td>Australia</td>\n",
       "      <td>NBR</td>\n",
       "      <td>Number</td>\n",
       "      <td>0</td>\n",
       "      <td>Units</td>\n",
       "      <td>NaN</td>\n",
       "      <td>NaN</td>\n",
       "      <td>38.0</td>\n",
       "      <td>NaN</td>\n",
       "      <td>NaN</td>\n",
       "    </tr>\n",
       "    <tr>\n",
       "      <th>3</th>\n",
       "      <td>CRITICAL</td>\n",
       "      <td>Number of critically endangered species</td>\n",
       "      <td>MAMMAL</td>\n",
       "      <td>Mammals</td>\n",
       "      <td>AUS</td>\n",
       "      <td>Australia</td>\n",
       "      <td>NBR</td>\n",
       "      <td>Number</td>\n",
       "      <td>0</td>\n",
       "      <td>Units</td>\n",
       "      <td>NaN</td>\n",
       "      <td>NaN</td>\n",
       "      <td>6.0</td>\n",
       "      <td>NaN</td>\n",
       "      <td>NaN</td>\n",
       "    </tr>\n",
       "    <tr>\n",
       "      <th>4</th>\n",
       "      <td>VULNERABLE</td>\n",
       "      <td>Number of vulnerable species</td>\n",
       "      <td>MAMMAL</td>\n",
       "      <td>Mammals</td>\n",
       "      <td>AUS</td>\n",
       "      <td>Australia</td>\n",
       "      <td>NBR</td>\n",
       "      <td>Number</td>\n",
       "      <td>0</td>\n",
       "      <td>Units</td>\n",
       "      <td>NaN</td>\n",
       "      <td>NaN</td>\n",
       "      <td>64.0</td>\n",
       "      <td>NaN</td>\n",
       "      <td>NaN</td>\n",
       "    </tr>\n",
       "  </tbody>\n",
       "</table>\n",
       "</div>"
      ],
      "text/plain": [
       "            IUCN                             IUCN Category    SPEC  Species  \\\n",
       "0      TOT_KNOWN             Total number of known species  MAMMAL  Mammals   \n",
       "1  TOT_KNOWN_IND  Total number of indigenous known species  MAMMAL  Mammals   \n",
       "2     ENDANGERED              Number of endangered species  MAMMAL  Mammals   \n",
       "3       CRITICAL   Number of critically endangered species  MAMMAL  Mammals   \n",
       "4     VULNERABLE              Number of vulnerable species  MAMMAL  Mammals   \n",
       "\n",
       "   COU    Country Unit Code    Unit  PowerCode Code PowerCode  \\\n",
       "0  AUS  Australia       NBR  Number               0     Units   \n",
       "1  AUS  Australia       NBR  Number               0     Units   \n",
       "2  AUS  Australia       NBR  Number               0     Units   \n",
       "3  AUS  Australia       NBR  Number               0     Units   \n",
       "4  AUS  Australia       NBR  Number               0     Units   \n",
       "\n",
       "   Reference Period Code  Reference Period  Value Flag Codes Flags  \n",
       "0                    NaN               NaN  401.0        NaN   NaN  \n",
       "1                    NaN               NaN  349.0        NaN   NaN  \n",
       "2                    NaN               NaN   38.0        NaN   NaN  \n",
       "3                    NaN               NaN    6.0        NaN   NaN  \n",
       "4                    NaN               NaN   64.0        NaN   NaN  "
      ]
     },
     "execution_count": 217,
     "metadata": {},
     "output_type": "execute_result"
    }
   ],
   "source": [
    "especes_danger = pd.read_csv('data/WILD_LIFE_17062017210614338.csv', sep=',')\n",
    "especes_danger.head()"
   ]
  },
  {
   "cell_type": "markdown",
   "metadata": {},
   "source": [
    "L'exercice consiste à créer un diagramme en barres horizontales du nombre d'espèces menacées de manière critique pour les 10 pays qui en contiennent le plus. Avec `pandas`, nous allons filter le tableau pour obtenir les espèces critiquement menacées, puis les grouper par pays, et enfin additionner toutes les espèces pour chaque pays (la création de graphique est liée de près avec la maipulation des tableaux)."
   ]
  },
  {
   "cell_type": "code",
   "execution_count": 218,
   "metadata": {
    "scrolled": true
   },
   "outputs": [
    {
     "data": {
      "text/html": [
       "<div>\n",
       "<style>\n",
       "    .dataframe thead tr:only-child th {\n",
       "        text-align: right;\n",
       "    }\n",
       "\n",
       "    .dataframe thead th {\n",
       "        text-align: left;\n",
       "    }\n",
       "\n",
       "    .dataframe tbody tr th {\n",
       "        vertical-align: top;\n",
       "    }\n",
       "</style>\n",
       "<table border=\"1\" class=\"dataframe\">\n",
       "  <thead>\n",
       "    <tr style=\"text-align: right;\">\n",
       "      <th></th>\n",
       "      <th>Value</th>\n",
       "    </tr>\n",
       "    <tr>\n",
       "      <th>Country</th>\n",
       "      <th></th>\n",
       "    </tr>\n",
       "  </thead>\n",
       "  <tbody>\n",
       "    <tr>\n",
       "      <th>Australia</th>\n",
       "      <td>225.0</td>\n",
       "    </tr>\n",
       "    <tr>\n",
       "      <th>Austria</th>\n",
       "      <td>618.0</td>\n",
       "    </tr>\n",
       "    <tr>\n",
       "      <th>Belgium</th>\n",
       "      <td>424.0</td>\n",
       "    </tr>\n",
       "    <tr>\n",
       "      <th>Brazil</th>\n",
       "      <td>453.0</td>\n",
       "    </tr>\n",
       "    <tr>\n",
       "      <th>Chile</th>\n",
       "      <td>114.0</td>\n",
       "    </tr>\n",
       "  </tbody>\n",
       "</table>\n",
       "</div>"
      ],
      "text/plain": [
       "           Value\n",
       "Country         \n",
       "Australia  225.0\n",
       "Austria    618.0\n",
       "Belgium    424.0\n",
       "Brazil     453.0\n",
       "Chile      114.0"
      ]
     },
     "execution_count": 218,
     "metadata": {},
     "output_type": "execute_result"
    }
   ],
   "source": [
    "especes_crit = especes_danger.\\\n",
    "    loc[especes_danger.IUCN == 'CRITICAL', ['Country', 'Value']].\\\n",
    "    groupby(['Country']).\\\n",
    "    sum()\n",
    "especes_crit.head()"
   ]
  },
  {
   "cell_type": "markdown",
   "metadata": {},
   "source": [
    "Les opérations `groupby` transposent le ou les groupes en indices de ligne: ce ne sont plus des noms de colonnes (lorsque plusieurs regroupements sont utilisés, vous obtenez des indices hiérarchisés). La méthode `reset_index` permet de placer les indices en colonne(s) et de réinitialiser les indices."
   ]
  },
  {
   "cell_type": "code",
   "execution_count": 219,
   "metadata": {},
   "outputs": [
    {
     "data": {
      "text/html": [
       "<div>\n",
       "<style>\n",
       "    .dataframe thead tr:only-child th {\n",
       "        text-align: right;\n",
       "    }\n",
       "\n",
       "    .dataframe thead th {\n",
       "        text-align: left;\n",
       "    }\n",
       "\n",
       "    .dataframe tbody tr th {\n",
       "        vertical-align: top;\n",
       "    }\n",
       "</style>\n",
       "<table border=\"1\" class=\"dataframe\">\n",
       "  <thead>\n",
       "    <tr style=\"text-align: right;\">\n",
       "      <th></th>\n",
       "      <th>Country</th>\n",
       "      <th>Value</th>\n",
       "    </tr>\n",
       "  </thead>\n",
       "  <tbody>\n",
       "    <tr>\n",
       "      <th>0</th>\n",
       "      <td>Australia</td>\n",
       "      <td>225.0</td>\n",
       "    </tr>\n",
       "    <tr>\n",
       "      <th>1</th>\n",
       "      <td>Austria</td>\n",
       "      <td>618.0</td>\n",
       "    </tr>\n",
       "    <tr>\n",
       "      <th>2</th>\n",
       "      <td>Belgium</td>\n",
       "      <td>424.0</td>\n",
       "    </tr>\n",
       "    <tr>\n",
       "      <th>3</th>\n",
       "      <td>Brazil</td>\n",
       "      <td>453.0</td>\n",
       "    </tr>\n",
       "    <tr>\n",
       "      <th>4</th>\n",
       "      <td>Chile</td>\n",
       "      <td>114.0</td>\n",
       "    </tr>\n",
       "  </tbody>\n",
       "</table>\n",
       "</div>"
      ],
      "text/plain": [
       "     Country  Value\n",
       "0  Australia  225.0\n",
       "1    Austria  618.0\n",
       "2    Belgium  424.0\n",
       "3     Brazil  453.0\n",
       "4      Chile  114.0"
      ]
     },
     "execution_count": 219,
     "metadata": {},
     "output_type": "execute_result"
    }
   ],
   "source": [
    "especes_crit.reset_index(inplace=True)\n",
    "especes_crit.head()"
   ]
  },
  {
   "cell_type": "markdown",
   "metadata": {},
   "source": [
    "Utilisons la méthode `sort_values`, telle que nous l'avons vue dans le chapitre précédent."
   ]
  },
  {
   "cell_type": "code",
   "execution_count": 220,
   "metadata": {},
   "outputs": [
    {
     "data": {
      "text/html": [
       "<div>\n",
       "<style>\n",
       "    .dataframe thead tr:only-child th {\n",
       "        text-align: right;\n",
       "    }\n",
       "\n",
       "    .dataframe thead th {\n",
       "        text-align: left;\n",
       "    }\n",
       "\n",
       "    .dataframe tbody tr th {\n",
       "        vertical-align: top;\n",
       "    }\n",
       "</style>\n",
       "<table border=\"1\" class=\"dataframe\">\n",
       "  <thead>\n",
       "    <tr style=\"text-align: right;\">\n",
       "      <th></th>\n",
       "      <th>Country</th>\n",
       "      <th>Value</th>\n",
       "    </tr>\n",
       "  </thead>\n",
       "  <tbody>\n",
       "    <tr>\n",
       "      <th>7</th>\n",
       "      <td>Czech Republic</td>\n",
       "      <td>2159.0</td>\n",
       "    </tr>\n",
       "    <tr>\n",
       "      <th>35</th>\n",
       "      <td>United States</td>\n",
       "      <td>1409.0</td>\n",
       "    </tr>\n",
       "    <tr>\n",
       "      <th>12</th>\n",
       "      <td>Germany</td>\n",
       "      <td>915.0</td>\n",
       "    </tr>\n",
       "    <tr>\n",
       "      <th>18</th>\n",
       "      <td>Japan</td>\n",
       "      <td>628.0</td>\n",
       "    </tr>\n",
       "    <tr>\n",
       "      <th>1</th>\n",
       "      <td>Austria</td>\n",
       "      <td>618.0</td>\n",
       "    </tr>\n",
       "    <tr>\n",
       "      <th>28</th>\n",
       "      <td>Slovak Republic</td>\n",
       "      <td>594.0</td>\n",
       "    </tr>\n",
       "    <tr>\n",
       "      <th>26</th>\n",
       "      <td>Poland</td>\n",
       "      <td>485.0</td>\n",
       "    </tr>\n",
       "    <tr>\n",
       "      <th>32</th>\n",
       "      <td>Switzerland</td>\n",
       "      <td>483.0</td>\n",
       "    </tr>\n",
       "    <tr>\n",
       "      <th>3</th>\n",
       "      <td>Brazil</td>\n",
       "      <td>453.0</td>\n",
       "    </tr>\n",
       "    <tr>\n",
       "      <th>2</th>\n",
       "      <td>Belgium</td>\n",
       "      <td>424.0</td>\n",
       "    </tr>\n",
       "  </tbody>\n",
       "</table>\n",
       "</div>"
      ],
      "text/plain": [
       "            Country   Value\n",
       "7    Czech Republic  2159.0\n",
       "35    United States  1409.0\n",
       "12          Germany   915.0\n",
       "18            Japan   628.0\n",
       "1           Austria   618.0\n",
       "28  Slovak Republic   594.0\n",
       "26           Poland   485.0\n",
       "32      Switzerland   483.0\n",
       "3            Brazil   453.0\n",
       "2           Belgium   424.0"
      ]
     },
     "execution_count": 220,
     "metadata": {},
     "output_type": "execute_result"
    }
   ],
   "source": [
    "especes_crit_10 = especes_crit.sort_values(by='Value', ascending=False).head(10)\n",
    "especes_crit_10"
   ]
  },
  {
   "cell_type": "markdown",
   "metadata": {},
   "source": [
    "La bibliotèque `altair` contient de nombreuses options. L'objectif de ce chapitre n'est pas de les couvrir toutes, mais de présenter quelques recettes. Pour aller plus loin, consultez la [documentation](https://altair-viz.github.io).\n",
    "\n",
    "Pour initialiser un graphique, on utilise la fonction `Chart`, dont l'argument est un `pandas.DataFrame`. Ensuite on indique le type de graphique: `mark_bar` pour un graphique en barre (je couvrirai d'autres types au fur et à mesure). Puis on encode les propriétés des axes x et y. Dans l'encodage, il est possible de spécifier certaines propriétés, dont le titre des axes et la manière de trier les données dans le graphique."
   ]
  },
  {
   "cell_type": "code",
   "execution_count": 221,
   "metadata": {},
   "outputs": [
    {
     "data": {
      "text/html": [
       "<div class=\"vega-embed\" id=\"8359b597-b334-4122-97b8-2cff9515a8bc\"></div>\n",
       "\n",
       "<style>\n",
       ".vega-embed svg, .vega-embed canvas {\n",
       "  border: 1px dotted gray;\n",
       "}\n",
       "\n",
       ".vega-embed .vega-actions a {\n",
       "  margin-right: 6px;\n",
       "}\n",
       "</style>\n"
      ]
     },
     "metadata": {
      "jupyter-vega": "#8359b597-b334-4122-97b8-2cff9515a8bc"
     },
     "output_type": "display_data"
    },
    {
     "data": {
      "application/javascript": [
       "var spec = {\"config\": {\"cell\": {\"width\": 500, \"height\": 350}, \"mark\": {\"opacity\": 0.75}}, \"encoding\": {\"x\": {\"field\": \"Value\", \"title\": \"Number of critically endangered species\", \"type\": \"quantitative\"}, \"y\": {\"field\": \"Country\", \"sort\": {\"field\": \"Value\", \"op\": \"sum\", \"order\": \"descending\"}, \"type\": \"nominal\"}}, \"mark\": \"bar\", \"data\": {\"values\": [{\"Country\": \"Czech Republic\", \"Value\": 2159.0}, {\"Country\": \"United States\", \"Value\": 1409.0}, {\"Country\": \"Germany\", \"Value\": 915.0}, {\"Country\": \"Japan\", \"Value\": 628.0}, {\"Country\": \"Austria\", \"Value\": 618.0}, {\"Country\": \"Slovak Republic\", \"Value\": 594.0}, {\"Country\": \"Poland\", \"Value\": 485.0}, {\"Country\": \"Switzerland\", \"Value\": 483.0}, {\"Country\": \"Brazil\", \"Value\": 453.0}, {\"Country\": \"Belgium\", \"Value\": 424.0}]}};\n",
       "var selector = \"#8359b597-b334-4122-97b8-2cff9515a8bc\";\n",
       "var type = \"vega-lite\";\n",
       "\n",
       "var output_area = this;\n",
       "require(['nbextensions/jupyter-vega/index'], function(vega) {\n",
       "  vega.render(selector, spec, type, output_area);\n",
       "}, function (err) {\n",
       "  if (err.requireType !== 'scripterror') {\n",
       "    throw(err);\n",
       "  }\n",
       "});\n"
      ]
     },
     "metadata": {
      "jupyter-vega": "#8359b597-b334-4122-97b8-2cff9515a8bc"
     },
     "output_type": "display_data"
    },
    {
     "data": {
      "image/png": "[encoded data removed]"
     },
     "metadata": {
      "jupyter-vega": "#8359b597-b334-4122-97b8-2cff9515a8bc"
     },
     "output_type": "display_data"
    }
   ],
   "source": [
    "bar_especes_crit = Chart(especes_crit_10).\\\n",
    "    mark_bar(opacity=0.75).\\\n",
    "    encode(x = X('Value', title=\"Number of critically endangered species\"),\n",
    "           y = Y('Country', sort=SortField(field='Value', order='descending', op='sum')))\n",
    "bar_especes_crit"
   ]
  },
  {
   "cell_type": "markdown",
   "metadata": {},
   "source": [
    "Il n'est toujours pas possible d'enregistrer le graphique en format vectoriel (pdf, eps, svg, etc.), mais vous pouvez exporter le graphique en format matriciel (png)."
   ]
  },
  {
   "cell_type": "markdown",
   "metadata": {},
   "source": [
    "Les **diagrammes en barres regroupées** devraient être utilisés avec un bon jugement: ils peuvent devenir difficilement lisibles s'ils contiennent de nombreuses catégories, et si ces catégories sont hiérarchisées. Ils peuvent néanmoins offir des perspectives intéressantes.\n",
    "\n",
    "Utilisons les opérations en chaîne de `pandas` pour créer un tableau montrant les espèces vulnérables, en danger et en état critique, toutes catégories d'espèces confondues.\n",
    "\n",
    "Description des opérations:\n",
    "\n",
    "1. `loc` filtre le tableau grâce à la méthode `isin` pour ne retenir que les lignes correspondant aux catégories IUCN que nous désirons retenir, puis sélectionne les colonnes désirées.\n",
    "2. `groupby` regroupe les colonnes par pays et par IUCN.\n",
    "3. On effectue la somme de ces regroupement, qui par élimination est appliquée à la colonne `Value`."
   ]
  },
  {
   "cell_type": "code",
   "execution_count": 190,
   "metadata": {
    "scrolled": true
   },
   "outputs": [
    {
     "data": {
      "text/html": [
       "<div>\n",
       "<style>\n",
       "    .dataframe thead tr:only-child th {\n",
       "        text-align: right;\n",
       "    }\n",
       "\n",
       "    .dataframe thead th {\n",
       "        text-align: left;\n",
       "    }\n",
       "\n",
       "    .dataframe tbody tr th {\n",
       "        vertical-align: top;\n",
       "    }\n",
       "</style>\n",
       "<table border=\"1\" class=\"dataframe\">\n",
       "  <thead>\n",
       "    <tr style=\"text-align: right;\">\n",
       "      <th></th>\n",
       "      <th></th>\n",
       "      <th>Value</th>\n",
       "    </tr>\n",
       "    <tr>\n",
       "      <th>Country</th>\n",
       "      <th>IUCN</th>\n",
       "      <th></th>\n",
       "    </tr>\n",
       "  </thead>\n",
       "  <tbody>\n",
       "    <tr>\n",
       "      <th rowspan=\"3\" valign=\"top\">Australia</th>\n",
       "      <th>CRITICAL</th>\n",
       "      <td>225.0</td>\n",
       "    </tr>\n",
       "    <tr>\n",
       "      <th>ENDANGERED</th>\n",
       "      <td>697.0</td>\n",
       "    </tr>\n",
       "    <tr>\n",
       "      <th>VULNERABLE</th>\n",
       "      <td>822.0</td>\n",
       "    </tr>\n",
       "    <tr>\n",
       "      <th rowspan=\"3\" valign=\"top\">Austria</th>\n",
       "      <th>CRITICAL</th>\n",
       "      <td>618.0</td>\n",
       "    </tr>\n",
       "    <tr>\n",
       "      <th>ENDANGERED</th>\n",
       "      <td>924.0</td>\n",
       "    </tr>\n",
       "    <tr>\n",
       "      <th>VULNERABLE</th>\n",
       "      <td>1284.0</td>\n",
       "    </tr>\n",
       "    <tr>\n",
       "      <th rowspan=\"3\" valign=\"top\">Belgium</th>\n",
       "      <th>CRITICAL</th>\n",
       "      <td>424.0</td>\n",
       "    </tr>\n",
       "    <tr>\n",
       "      <th>ENDANGERED</th>\n",
       "      <td>333.0</td>\n",
       "    </tr>\n",
       "    <tr>\n",
       "      <th>VULNERABLE</th>\n",
       "      <td>370.0</td>\n",
       "    </tr>\n",
       "    <tr>\n",
       "      <th>Brazil</th>\n",
       "      <th>CRITICAL</th>\n",
       "      <td>453.0</td>\n",
       "    </tr>\n",
       "  </tbody>\n",
       "</table>\n",
       "</div>"
      ],
      "text/plain": [
       "                       Value\n",
       "Country   IUCN              \n",
       "Australia CRITICAL     225.0\n",
       "          ENDANGERED   697.0\n",
       "          VULNERABLE   822.0\n",
       "Austria   CRITICAL     618.0\n",
       "          ENDANGERED   924.0\n",
       "          VULNERABLE  1284.0\n",
       "Belgium   CRITICAL     424.0\n",
       "          ENDANGERED   333.0\n",
       "          VULNERABLE   370.0\n",
       "Brazil    CRITICAL     453.0"
      ]
     },
     "execution_count": 190,
     "metadata": {},
     "output_type": "execute_result"
    }
   ],
   "source": [
    "especes_iucn = especes_danger.\\\n",
    "    loc[especes_danger.IUCN.isin(['ENDANGERED', 'VULNERABLE', 'CRITICAL']),\n",
    "        ['IUCN', 'Country', 'Value']].\\\n",
    "    groupby(['Country', 'IUCN']).\\\n",
    "    sum()\n",
    "especes_iucn.head(10)"
   ]
  },
  {
   "cell_type": "code",
   "execution_count": 191,
   "metadata": {
    "scrolled": true
   },
   "outputs": [
    {
     "data": {
      "text/html": [
       "<div>\n",
       "<style>\n",
       "    .dataframe thead tr:only-child th {\n",
       "        text-align: right;\n",
       "    }\n",
       "\n",
       "    .dataframe thead th {\n",
       "        text-align: left;\n",
       "    }\n",
       "\n",
       "    .dataframe tbody tr th {\n",
       "        vertical-align: top;\n",
       "    }\n",
       "</style>\n",
       "<table border=\"1\" class=\"dataframe\">\n",
       "  <thead>\n",
       "    <tr style=\"text-align: right;\">\n",
       "      <th></th>\n",
       "      <th>Country</th>\n",
       "      <th>IUCN</th>\n",
       "      <th>Value</th>\n",
       "    </tr>\n",
       "  </thead>\n",
       "  <tbody>\n",
       "    <tr>\n",
       "      <th>0</th>\n",
       "      <td>Australia</td>\n",
       "      <td>CRITICAL</td>\n",
       "      <td>225.0</td>\n",
       "    </tr>\n",
       "    <tr>\n",
       "      <th>1</th>\n",
       "      <td>Australia</td>\n",
       "      <td>ENDANGERED</td>\n",
       "      <td>697.0</td>\n",
       "    </tr>\n",
       "    <tr>\n",
       "      <th>2</th>\n",
       "      <td>Australia</td>\n",
       "      <td>VULNERABLE</td>\n",
       "      <td>822.0</td>\n",
       "    </tr>\n",
       "    <tr>\n",
       "      <th>3</th>\n",
       "      <td>Austria</td>\n",
       "      <td>CRITICAL</td>\n",
       "      <td>618.0</td>\n",
       "    </tr>\n",
       "    <tr>\n",
       "      <th>4</th>\n",
       "      <td>Austria</td>\n",
       "      <td>ENDANGERED</td>\n",
       "      <td>924.0</td>\n",
       "    </tr>\n",
       "    <tr>\n",
       "      <th>5</th>\n",
       "      <td>Austria</td>\n",
       "      <td>VULNERABLE</td>\n",
       "      <td>1284.0</td>\n",
       "    </tr>\n",
       "    <tr>\n",
       "      <th>6</th>\n",
       "      <td>Belgium</td>\n",
       "      <td>CRITICAL</td>\n",
       "      <td>424.0</td>\n",
       "    </tr>\n",
       "    <tr>\n",
       "      <th>7</th>\n",
       "      <td>Belgium</td>\n",
       "      <td>ENDANGERED</td>\n",
       "      <td>333.0</td>\n",
       "    </tr>\n",
       "    <tr>\n",
       "      <th>8</th>\n",
       "      <td>Belgium</td>\n",
       "      <td>VULNERABLE</td>\n",
       "      <td>370.0</td>\n",
       "    </tr>\n",
       "    <tr>\n",
       "      <th>9</th>\n",
       "      <td>Brazil</td>\n",
       "      <td>CRITICAL</td>\n",
       "      <td>453.0</td>\n",
       "    </tr>\n",
       "  </tbody>\n",
       "</table>\n",
       "</div>"
      ],
      "text/plain": [
       "     Country        IUCN   Value\n",
       "0  Australia    CRITICAL   225.0\n",
       "1  Australia  ENDANGERED   697.0\n",
       "2  Australia  VULNERABLE   822.0\n",
       "3    Austria    CRITICAL   618.0\n",
       "4    Austria  ENDANGERED   924.0\n",
       "5    Austria  VULNERABLE  1284.0\n",
       "6    Belgium    CRITICAL   424.0\n",
       "7    Belgium  ENDANGERED   333.0\n",
       "8    Belgium  VULNERABLE   370.0\n",
       "9     Brazil    CRITICAL   453.0"
      ]
     },
     "execution_count": 191,
     "metadata": {},
     "output_type": "execute_result"
    }
   ],
   "source": [
    "especes_iucn.reset_index(inplace=True)\n",
    "especes_iucn.head(10)"
   ]
  },
  {
   "cell_type": "markdown",
   "metadata": {},
   "source": [
    "Ces colonnes permettront de travailler en mode déclaratif, en créant une grille de graphiques en foncction de l'IUCN et en demandant des couleurs selon le pays. Mais tel que mentionné précédemment, un graphique en barres horizontales est préférablement trié. J'utilise ici la méthode `transform` pour ajouter une colonne de tri, qui me permet de trier. "
   ]
  },
  {
   "cell_type": "code",
   "execution_count": 212,
   "metadata": {},
   "outputs": [
    {
     "data": {
      "text/html": [
       "<div>\n",
       "<style>\n",
       "    .dataframe thead tr:only-child th {\n",
       "        text-align: right;\n",
       "    }\n",
       "\n",
       "    .dataframe thead th {\n",
       "        text-align: left;\n",
       "    }\n",
       "\n",
       "    .dataframe tbody tr th {\n",
       "        vertical-align: top;\n",
       "    }\n",
       "</style>\n",
       "<table border=\"1\" class=\"dataframe\">\n",
       "  <thead>\n",
       "    <tr style=\"text-align: right;\">\n",
       "      <th></th>\n",
       "      <th>Country</th>\n",
       "      <th>IUCN</th>\n",
       "      <th>Value</th>\n",
       "      <th>tri</th>\n",
       "    </tr>\n",
       "  </thead>\n",
       "  <tbody>\n",
       "    <tr>\n",
       "      <th>24</th>\n",
       "      <td>Czech Republic</td>\n",
       "      <td>ENDANGERED</td>\n",
       "      <td>2376.0</td>\n",
       "      <td>7540.0</td>\n",
       "    </tr>\n",
       "    <tr>\n",
       "      <th>25</th>\n",
       "      <td>Czech Republic</td>\n",
       "      <td>VULNERABLE</td>\n",
       "      <td>3005.0</td>\n",
       "      <td>7540.0</td>\n",
       "    </tr>\n",
       "    <tr>\n",
       "      <th>23</th>\n",
       "      <td>Czech Republic</td>\n",
       "      <td>CRITICAL</td>\n",
       "      <td>2159.0</td>\n",
       "      <td>7540.0</td>\n",
       "    </tr>\n",
       "    <tr>\n",
       "      <th>109</th>\n",
       "      <td>United States</td>\n",
       "      <td>CRITICAL</td>\n",
       "      <td>1409.0</td>\n",
       "      <td>6005.0</td>\n",
       "    </tr>\n",
       "    <tr>\n",
       "      <th>111</th>\n",
       "      <td>United States</td>\n",
       "      <td>VULNERABLE</td>\n",
       "      <td>2965.0</td>\n",
       "      <td>6005.0</td>\n",
       "    </tr>\n",
       "    <tr>\n",
       "      <th>110</th>\n",
       "      <td>United States</td>\n",
       "      <td>ENDANGERED</td>\n",
       "      <td>1631.0</td>\n",
       "      <td>6005.0</td>\n",
       "    </tr>\n",
       "    <tr>\n",
       "      <th>40</th>\n",
       "      <td>Germany</td>\n",
       "      <td>VULNERABLE</td>\n",
       "      <td>2867.0</td>\n",
       "      <td>5039.0</td>\n",
       "    </tr>\n",
       "    <tr>\n",
       "      <th>39</th>\n",
       "      <td>Germany</td>\n",
       "      <td>ENDANGERED</td>\n",
       "      <td>1257.0</td>\n",
       "      <td>5039.0</td>\n",
       "    </tr>\n",
       "    <tr>\n",
       "      <th>38</th>\n",
       "      <td>Germany</td>\n",
       "      <td>CRITICAL</td>\n",
       "      <td>915.0</td>\n",
       "      <td>5039.0</td>\n",
       "    </tr>\n",
       "    <tr>\n",
       "      <th>89</th>\n",
       "      <td>Slovak Republic</td>\n",
       "      <td>ENDANGERED</td>\n",
       "      <td>731.0</td>\n",
       "      <td>2833.0</td>\n",
       "    </tr>\n",
       "    <tr>\n",
       "      <th>88</th>\n",
       "      <td>Slovak Republic</td>\n",
       "      <td>CRITICAL</td>\n",
       "      <td>594.0</td>\n",
       "      <td>2833.0</td>\n",
       "    </tr>\n",
       "    <tr>\n",
       "      <th>90</th>\n",
       "      <td>Slovak Republic</td>\n",
       "      <td>VULNERABLE</td>\n",
       "      <td>1508.0</td>\n",
       "      <td>2833.0</td>\n",
       "    </tr>\n",
       "  </tbody>\n",
       "</table>\n",
       "</div>"
      ],
      "text/plain": [
       "             Country        IUCN   Value     tri\n",
       "24    Czech Republic  ENDANGERED  2376.0  7540.0\n",
       "25    Czech Republic  VULNERABLE  3005.0  7540.0\n",
       "23    Czech Republic    CRITICAL  2159.0  7540.0\n",
       "109    United States    CRITICAL  1409.0  6005.0\n",
       "111    United States  VULNERABLE  2965.0  6005.0\n",
       "110    United States  ENDANGERED  1631.0  6005.0\n",
       "40           Germany  VULNERABLE  2867.0  5039.0\n",
       "39           Germany  ENDANGERED  1257.0  5039.0\n",
       "38           Germany    CRITICAL   915.0  5039.0\n",
       "89   Slovak Republic  ENDANGERED   731.0  2833.0\n",
       "88   Slovak Republic    CRITICAL   594.0  2833.0\n",
       "90   Slovak Republic  VULNERABLE  1508.0  2833.0"
      ]
     },
     "execution_count": 212,
     "metadata": {},
     "output_type": "execute_result"
    }
   ],
   "source": [
    "especes_iucn['tri'] = especes_iucn['Value'].groupby(especes_iucn['Country']).transform('sum')\n",
    "especes_iucn.sort_values(by='tri', ascending=False, inplace=True)\n",
    "especes_iucn.head(4*3) # il y a 3 catégories, alors si je désire retenir 4 pays, je dois retenir les 12 premières lignes"
   ]
  },
  {
   "cell_type": "markdown",
   "metadata": {},
   "source": [
    "`altair` permet de spécifier les variables pour la séparation des groupes en lignes ou en colonne: nous allons créer une ligne de graphique par IUCN (`row='IUCN'`), et colorer les barres par pays (`color='Country'`). J'ajoute quelques décorations."
   ]
  },
  {
   "cell_type": "code",
   "execution_count": 215,
   "metadata": {},
   "outputs": [
    {
     "data": {
      "text/html": [
       "<div class=\"vega-embed\" id=\"96ed3c26-ffc2-43ec-b1cb-5b9583a0ff16\"></div>\n",
       "\n",
       "<style>\n",
       ".vega-embed svg, .vega-embed canvas {\n",
       "  border: 1px dotted gray;\n",
       "}\n",
       "\n",
       ".vega-embed .vega-actions a {\n",
       "  margin-right: 6px;\n",
       "}\n",
       "</style>\n"
      ]
     },
     "metadata": {
      "jupyter-vega": "#96ed3c26-ffc2-43ec-b1cb-5b9583a0ff16"
     },
     "output_type": "display_data"
    },
    {
     "data": {
      "application/javascript": [
       "var spec = {\"config\": {\"cell\": {\"width\": 500, \"height\": 350}, \"facet\": {\"cell\": {\"strokeWidth\": 0.0}}}, \"encoding\": {\"color\": {\"field\": \"Country\", \"type\": \"nominal\"}, \"row\": {\"field\": \"IUCN\", \"type\": \"nominal\"}, \"x\": {\"axis\": {\"grid\": false}, \"field\": \"Value\", \"title\": \"Number of critically endangered species\", \"type\": \"quantitative\"}, \"y\": {\"field\": \"Country\", \"sort\": {\"field\": \"Value\", \"op\": \"sum\", \"order\": \"descending\"}, \"type\": \"nominal\"}}, \"mark\": \"bar\", \"data\": {\"values\": [{\"Country\": \"Czech Republic\", \"IUCN\": \"ENDANGERED\", \"Value\": 2376.0, \"tri\": 7540.0}, {\"Country\": \"Czech Republic\", \"IUCN\": \"VULNERABLE\", \"Value\": 3005.0, \"tri\": 7540.0}, {\"Country\": \"Czech Republic\", \"IUCN\": \"CRITICAL\", \"Value\": 2159.0, \"tri\": 7540.0}, {\"Country\": \"United States\", \"IUCN\": \"CRITICAL\", \"Value\": 1409.0, \"tri\": 6005.0}, {\"Country\": \"United States\", \"IUCN\": \"VULNERABLE\", \"Value\": 2965.0, \"tri\": 6005.0}, {\"Country\": \"United States\", \"IUCN\": \"ENDANGERED\", \"Value\": 1631.0, \"tri\": 6005.0}, {\"Country\": \"Germany\", \"IUCN\": \"VULNERABLE\", \"Value\": 2867.0, \"tri\": 5039.0}, {\"Country\": \"Germany\", \"IUCN\": \"ENDANGERED\", \"Value\": 1257.0, \"tri\": 5039.0}, {\"Country\": \"Germany\", \"IUCN\": \"CRITICAL\", \"Value\": 915.0, \"tri\": 5039.0}, {\"Country\": \"Slovak Republic\", \"IUCN\": \"ENDANGERED\", \"Value\": 731.0, \"tri\": 2833.0}, {\"Country\": \"Slovak Republic\", \"IUCN\": \"CRITICAL\", \"Value\": 594.0, \"tri\": 2833.0}, {\"Country\": \"Slovak Republic\", \"IUCN\": \"VULNERABLE\", \"Value\": 1508.0, \"tri\": 2833.0}, {\"Country\": \"Austria\", \"IUCN\": \"VULNERABLE\", \"Value\": 1284.0, \"tri\": 2826.0}, {\"Country\": \"Austria\", \"IUCN\": \"ENDANGERED\", \"Value\": 924.0, \"tri\": 2826.0}, {\"Country\": \"Austria\", \"IUCN\": \"CRITICAL\", \"Value\": 618.0, \"tri\": 2826.0}, {\"Country\": \"Switzerland\", \"IUCN\": \"VULNERABLE\", \"Value\": 1332.0, \"tri\": 2571.0}, {\"Country\": \"Switzerland\", \"IUCN\": \"ENDANGERED\", \"Value\": 756.0, \"tri\": 2571.0}, {\"Country\": \"Switzerland\", \"IUCN\": \"CRITICAL\", \"Value\": 483.0, \"tri\": 2571.0}, {\"Country\": \"Japan\", \"IUCN\": \"VULNERABLE\", \"Value\": 1035.0, \"tri\": 2497.0}, {\"Country\": \"Japan\", \"IUCN\": \"ENDANGERED\", \"Value\": 834.0, \"tri\": 2497.0}, {\"Country\": \"Japan\", \"IUCN\": \"CRITICAL\", \"Value\": 628.0, \"tri\": 2497.0}, {\"Country\": \"Poland\", \"IUCN\": \"CRITICAL\", \"Value\": 485.0, \"tri\": 2308.0}, {\"Country\": \"Poland\", \"IUCN\": \"ENDANGERED\", \"Value\": 798.0, \"tri\": 2308.0}, {\"Country\": \"Poland\", \"IUCN\": \"VULNERABLE\", \"Value\": 1025.0, \"tri\": 2308.0}]}};\n",
       "var selector = \"#96ed3c26-ffc2-43ec-b1cb-5b9583a0ff16\";\n",
       "var type = \"vega-lite\";\n",
       "\n",
       "var output_area = this;\n",
       "require(['nbextensions/jupyter-vega/index'], function(vega) {\n",
       "  vega.render(selector, spec, type, output_area);\n",
       "}, function (err) {\n",
       "  if (err.requireType !== 'scripterror') {\n",
       "    throw(err);\n",
       "  }\n",
       "});\n"
      ]
     },
     "metadata": {
      "jupyter-vega": "#96ed3c26-ffc2-43ec-b1cb-5b9583a0ff16"
     },
     "output_type": "display_data"
    },
    {
     "data": {
      "image/png": "[encoded data removed]"
     },
     "metadata": {
      "jupyter-vega": "#96ed3c26-ffc2-43ec-b1cb-5b9583a0ff16"
     },
     "output_type": "display_data"
    }
   ],
   "source": [
    "bar_especes_group = Chart(especes_iucn.head(8*3)).\\\n",
    "    mark_bar().\\\n",
    "    encode(x = X('Value', title=\"Number of critically endangered species\", axis=Axis(grid=False)),\n",
    "           y = Y('Country', sort=SortField(field='Value', order='descending', op='sum')),\n",
    "          row='IUCN',\n",
    "          color='Country').\\\n",
    "    configure_facet_cell(strokeWidth=0.0)\n",
    "bar_especes_group"
   ]
  },
  {
   "cell_type": "markdown",
   "metadata": {},
   "source": [
    "Les barres ne sont pas triées par regroupement de ligne (l'Autriche a davantage d'espèces en danger que la Slovaquie). En fait, les barres sont triées par la somme totale (`op='sum'`)."
   ]
  },
  {
   "cell_type": "markdown",
   "metadata": {},
   "source": [
    "#### Barres verticales\n",
    "\n",
    "Pour les catégories ordinlaes, on utilise des barres vertiales, ordonnées selon l'ordre des catégories. "
   ]
  },
  {
   "cell_type": "markdown",
   "metadata": {},
   "source": [
    "Les barres empilées sont d'excellentes options pour représenter des proportions.\n",
    "\n",
    "http://annkemery.com/essentials/\n",
    "\n",
    "Les barres peuvent être fragmentées en différentes sous-catégories, une stratégie à utiliser avec parcimonie."
   ]
  },
  {
   "cell_type": "markdown",
   "metadata": {},
   "source": [
    "### Choisir les bonnes couleurs\n",
    "\n",
    "*La couleur est une information*. Les couleurs devraient être sélectionnées d'abord pour être lisibles par les personnes ne percevant pas les couleurs, selon le support (apte à être photocopié, lisible à l'écran, lisible sur des documents imprimés en noir et blanc) et selon le type de données.\n",
    "- Données continues ou catégorielles ordinales: gradient (transition graduelle d'une couleur à l'autre), séquence (transition saccadée selon des groupes de données continues) ou divergentes (transition saccadée d'une couleur à l'autre vers des couleurs divergentes, par exemple orange vers blanc vers bleu).\n",
    "- Données catégorielles nominales: couleurs éloignées d'une catégorie à une autre (plus il y a de catégories, plus les couleurs sont susceptibles de se ressembler).\n",
    "\n",
    "<center> \n",
    "  <img src=\"images/colorbrewer2.png\" width=\"200\">\n",
    "  Capture d'écran de [colorbrewer2.org](http://colorbrewer2.org), qui propose des palettes de couleurs pour créer des cartes, mais l'information est pertinente pour tout type de graphique.\n",
    "</center>\n"
   ]
  },
  {
   "cell_type": "markdown",
   "metadata": {},
   "source": [
    "Présenter un tableau de trois dessins, avec describe.\n",
    "\n",
    "Pour montrer que ce n'est pas suffisant, présenter des boxplots\n",
    "\n",
    "Puis des scatter\n",
    "\n",
    "Puis cette image"
   ]
  },
  {
   "cell_type": "markdown",
   "metadata": {},
   "source": []
  },
  {
   "cell_type": "markdown",
   "metadata": {},
   "source": [
    "Pour montrer le danger des boxplots.\n",
    "\n",
    "![](https://d2f99xq7vri1nk.cloudfront.net/boxplots.gif)"
   ]
  },
  {
   "cell_type": "markdown",
   "metadata": {},
   "source": []
  },
  {
   "cell_type": "code",
   "execution_count": 4,
   "metadata": {
    "collapsed": true
   },
   "outputs": [],
   "source": [
    "ascombe = pd.read_csv('data/ascombe.csv', sep=';') # réserver ascombe pour les stats"
   ]
  },
  {
   "cell_type": "markdown",
   "metadata": {},
   "source": [
    "Besoins:\n",
    "\n",
    "- scatter\n",
    "    - Altair: Oui\n",
    "- boxplot\n",
    "    - Altair: Non\n",
    "    - pandas: oui\n",
    "- density\n",
    "    - Altair: oui, avec scipy (voir ci-dessous)\n",
    "    - pndas: oui\n",
    "- superposition\n",
    "    - Altair: LayeredChart\n",
    "- polygones (e.g. ellipses)\n",
    "    - Altair: Path?\n",
    "- texte\n",
    "    - Altair: mark text\n",
    "- facet\n",
    "    - Altair: oui\n",
    "- légendes\n",
    "    - Altair: oui\n",
    "- annotations\n",
    "    - Altair: mark text\n",
    "- intervalles de confiance\n",
    "    - Altair: custom\n",
    "- barres\n",
    "    - Altair: oui\n",
    "- histogrammes\n",
    "    - Altair: oui\n",
    "- cartes\n",
    "    - Altair: non\n",
    "    - geopandas: oui"
   ]
  },
  {
   "cell_type": "code",
   "execution_count": 1,
   "metadata": {
    "collapsed": true
   },
   "outputs": [],
   "source": [
    "import scipy.stats as stats\n",
    "import numpy as np\n",
    "import matplotlib.pylab as plt\n",
    "import pandas as pd\n",
    "%matplotlib inline"
   ]
  },
  {
   "cell_type": "code",
   "execution_count": 2,
   "metadata": {
    "collapsed": true
   },
   "outputs": [],
   "source": [
    "A = np.random.normal(loc=0, scale=1, size=10)\n",
    "B = np.random.normal(loc=1, scale=0.5, size=10)\n",
    "kernelA = stats.gaussian_kde(dataset=A)\n",
    "kernelB = stats.gaussian_kde(dataset=B)\n",
    "\n",
    "x = np.linspace(start=-3, #np.min(np.hstack((A, B))),\n",
    "                stop=3,#np.max(np.hstack((A, B))),\n",
    "                num=100)\n",
    "yA = kernelA(x)\n",
    "yB = kernelB(x)"
   ]
  },
  {
   "cell_type": "code",
   "execution_count": 3,
   "metadata": {
    "inputHidden": false,
    "outputHidden": false
   },
   "outputs": [
    {
     "data": {
      "text/plain": [
       "[<matplotlib.lines.Line2D at 0x7fc68ec614e0>,\n",
       " <matplotlib.lines.Line2D at 0x7fc68ec61e48>]"
      ]
     },
     "execution_count": 3,
     "metadata": {},
     "output_type": "execute_result"
    },
    {
     "data": {
      "image/png": "[encoded data removed]",
      "text/plain": [
       "<matplotlib.figure.Figure at 0x7fc6c451b4e0>"
      ]
     },
     "metadata": {},
     "output_type": "display_data"
    }
   ],
   "source": [
    "plt.plot(x, yA, x, yB)"
   ]
  },
  {
   "cell_type": "code",
   "execution_count": 4,
   "metadata": {
    "collapsed": true,
    "inputHidden": false,
    "outputHidden": false
   },
   "outputs": [],
   "source": [
    "kde_df = pd.DataFrame({'x': x, 'yA': yA, 'yB': yB}).melt(id_vars='x')"
   ]
  },
  {
   "cell_type": "code",
   "execution_count": 12,
   "metadata": {
    "collapsed": true,
    "inputHidden": false,
    "outputHidden": false
   },
   "outputs": [],
   "source": [
    "from altair import Chart, LayeredChart"
   ]
  },
  {
   "cell_type": "code",
   "execution_count": 15,
   "metadata": {
    "inputHidden": false,
    "outputHidden": false
   },
   "outputs": [
    {
     "data": {
      "text/html": [
       "<div class=\"vega-embed\" id=\"ad95e753-3794-4f2e-ba0b-8dab391aaae2\"></div>\n",
       "\n",
       "<style>\n",
       ".vega-embed svg, .vega-embed canvas {\n",
       "  border: 1px dotted gray;\n",
       "}\n",
       "\n",
       ".vega-embed .vega-actions a {\n",
       "  margin-right: 6px;\n",
       "}\n",
       "</style>\n"
      ]
     },
     "metadata": {
      "jupyter-vega": "#ad95e753-3794-4f2e-ba0b-8dab391aaae2"
     },
     "output_type": "display_data"
    },
    {
     "data": {
      "application/javascript": [
       "var spec = {\"config\": {\"cell\": {\"width\": 500, \"height\": 350}}, \"layers\": [{\"config\": {\"mark\": {\"opacity\": 0.5}}, \"encoding\": {\"color\": {\"field\": \"variable\", \"type\": \"nominal\"}, \"x\": {\"field\": \"x\", \"type\": \"quantitative\"}, \"y\": {\"field\": \"value\", \"type\": \"quantitative\"}}, \"mark\": \"area\"}, {\"encoding\": {\"color\": {\"field\": \"variable\", \"type\": \"nominal\"}, \"x\": {\"field\": \"x\", \"type\": \"quantitative\"}, \"y\": {\"field\": \"value\", \"type\": \"quantitative\"}}, \"mark\": \"line\"}], \"data\": {\"values\": [{\"x\": -3.0, \"variable\": \"yA\", \"value\": 0.049818154931987886}, {\"x\": -2.9393939393939394, \"variable\": \"yA\", \"value\": 0.05400364074583449}, {\"x\": -2.878787878787879, \"variable\": \"yA\", \"value\": 0.05791663057126151}, {\"x\": -2.8181818181818183, \"variable\": \"yA\", \"value\": 0.061458257572433735}, {\"x\": -2.757575757575758, \"variable\": \"yA\", \"value\": 0.06453946175441885}, {\"x\": -2.696969696969697, \"variable\": \"yA\", \"value\": 0.0670867653526151}, {\"x\": -2.6363636363636362, \"variable\": \"yA\", \"value\": 0.0690477807766285}, {\"x\": -2.5757575757575757, \"variable\": \"yA\", \"value\": 0.07039611336940008}, {\"x\": -2.515151515151515, \"variable\": \"yA\", \"value\": 0.0711353496930318}, {\"x\": -2.4545454545454546, \"variable\": \"yA\", \"value\": 0.07130187416877298}, {\"x\": -2.393939393939394, \"variable\": \"yA\", \"value\": 0.07096632725454351}, {\"x\": -2.333333333333333, \"variable\": \"yA\", \"value\": 0.07023359958044145}, {\"x\": -2.2727272727272725, \"variable\": \"yA\", \"value\": 0.06924134029079487}, {\"x\": -2.212121212121212, \"variable\": \"yA\", \"value\": 0.06815703618683579}, {\"x\": -2.1515151515151514, \"variable\": \"yA\", \"value\": 0.06717378438535164}, {\"x\": -2.090909090909091, \"variable\": \"yA\", \"value\": 0.06650493060053721}, {\"x\": -2.0303030303030303, \"variable\": \"yA\", \"value\": 0.0663777760952279}, {\"x\": -1.9696969696969697, \"variable\": \"yA\", \"value\": 0.06702656998609943}, {\"x\": -1.9090909090909092, \"variable\": \"yA\", \"value\": 0.06868500357871707}, {\"x\": -1.8484848484848484, \"variable\": \"yA\", \"value\": 0.07157841512346971}, {\"x\": -1.7878787878787878, \"variable\": \"yA\", \"value\": 0.07591590284769552}, {\"x\": -1.7272727272727273, \"variable\": \"yA\", \"value\": 0.08188253684647681}, {\"x\": -1.6666666666666665, \"variable\": \"yA\", \"value\": 0.08963186033402123}, {\"x\": -1.606060606060606, \"variable\": \"yA\", \"value\": 0.09927887941530869}, {\"x\": -1.5454545454545454, \"variable\": \"yA\", \"value\": 0.11089375670834245}, {\"x\": -1.4848484848484849, \"variable\": \"yA\", \"value\": 0.12449644392645014}, {\"x\": -1.4242424242424243, \"variable\": \"yA\", \"value\": 0.14005250589897478}, {\"x\": -1.3636363636363635, \"variable\": \"yA\", \"value\": 0.15747039628724213}, {\"x\": -1.303030303030303, \"variable\": \"yA\", \"value\": 0.1766004362935544}, {\"x\": -1.2424242424242424, \"variable\": \"yA\", \"value\": 0.1972357161007641}, {\"x\": -1.1818181818181817, \"variable\": \"yA\", \"value\": 0.21911508115404946}, {\"x\": -1.121212121212121, \"variable\": \"yA\", \"value\": 0.24192828144511447}, {\"x\": -1.0606060606060606, \"variable\": \"yA\", \"value\": 0.26532325499975484}, {\"x\": -1.0, \"variable\": \"yA\", \"value\": 0.28891539357558016}, {\"x\": -0.9393939393939394, \"variable\": \"yA\", \"value\": 0.31229850877115567}, {\"x\": -0.8787878787878789, \"variable\": \"yA\", \"value\": 0.33505709179632565}, {\"x\": -0.8181818181818183, \"variable\": \"yA\", \"value\": 0.3567793520854092}, {\"x\": -0.7575757575757573, \"variable\": \"yA\", \"value\": 0.3770704399640117}, {\"x\": -0.6969696969696968, \"variable\": \"yA\", \"value\": 0.39556521580032944}, {\"x\": -0.6363636363636362, \"variable\": \"yA\", \"value\": 0.41193992839061033}, {\"x\": -0.5757575757575757, \"variable\": \"yA\", \"value\": 0.425922210763951}, {\"x\": -0.5151515151515151, \"variable\": \"yA\", \"value\": 0.43729889000827454}, {\"x\": -0.4545454545454546, \"variable\": \"yA\", \"value\": 0.44592123302068193}, {\"x\": -0.39393939393939403, \"variable\": \"yA\", \"value\": 0.4517074028258889}, {\"x\": -0.33333333333333304, \"variable\": \"yA\", \"value\": 0.4546420684369369}, {\"x\": -0.2727272727272725, \"variable\": \"yA\", \"value\": 0.45477328205966505}, {\"x\": -0.21212121212121193, \"variable\": \"yA\", \"value\": 0.45220689766831945}, {\"x\": -0.15151515151515138, \"variable\": \"yA\", \"value\": 0.44709894268414413}, {\"x\": -0.09090909090909083, \"variable\": \"yA\", \"value\": 0.4396464599408165}, {\"x\": -0.030303030303030276, \"variable\": \"yA\", \"value\": 0.4300774035275927}, {\"x\": 0.030303030303030276, \"variable\": \"yA\", \"value\": 0.4186401960453567}, {\"x\": 0.09090909090909083, \"variable\": \"yA\", \"value\": 0.40559353635838535}, {\"x\": 0.15151515151515138, \"variable\": \"yA\", \"value\": 0.39119698942660736}, {\"x\": 0.21212121212121238, \"variable\": \"yA\", \"value\": 0.3757027994372597}, {\"x\": 0.27272727272727293, \"variable\": \"yA\", \"value\": 0.35934925257315486}, {\"x\": 0.3333333333333335, \"variable\": \"yA\", \"value\": 0.3423557861097325}, {\"x\": 0.39393939393939403, \"variable\": \"yA\", \"value\": 0.324919906455119}, {\"x\": 0.4545454545454546, \"variable\": \"yA\", \"value\": 0.30721585033782967}, {\"x\": 0.5151515151515151, \"variable\": \"yA\", \"value\": 0.28939480973967124}, {\"x\": 0.5757575757575757, \"variable\": \"yA\", \"value\": 0.27158644990601766}, {\"x\": 0.6363636363636367, \"variable\": \"yA\", \"value\": 0.25390138629979686}, {\"x\": 0.6969696969696972, \"variable\": \"yA\", \"value\": 0.23643425375275115}, {\"x\": 0.7575757575757578, \"variable\": \"yA\", \"value\": 0.21926699981320869}, {\"x\": 0.8181818181818183, \"variable\": \"yA\", \"value\": 0.2024720623951977}, {\"x\": 0.8787878787878789, \"variable\": \"yA\", \"value\": 0.18611514502966053}, {\"x\": 0.9393939393939394, \"variable\": \"yA\", \"value\": 0.17025737517580675}, {\"x\": 1.0, \"variable\": \"yA\", \"value\": 0.15495671474655393}, {\"x\": 1.0606060606060606, \"variable\": \"yA\", \"value\": 0.14026857919933863}, {\"x\": 1.121212121212121, \"variable\": \"yA\", \"value\": 0.1262457043265525}, {\"x\": 1.1818181818181817, \"variable\": \"yA\", \"value\": 0.11293737117765652}, {\"x\": 1.2424242424242422, \"variable\": \"yA\", \"value\": 0.10038815376838128}, {\"x\": 1.3030303030303028, \"variable\": \"yA\", \"value\": 0.08863638775304966}, {\"x\": 1.3636363636363633, \"variable\": \"yA\", \"value\": 0.07771256965341314}, {\"x\": 1.4242424242424248, \"variable\": \"yA\", \"value\": 0.06763788640148409}, {\"x\": 1.4848484848484853, \"variable\": \"yA\", \"value\": 0.05842304674325139}, {\"x\": 1.5454545454545459, \"variable\": \"yA\", \"value\": 0.05006754393626682}, {\"x\": 1.6060606060606064, \"variable\": \"yA\", \"value\": 0.04255942863072372}, {\"x\": 1.666666666666667, \"variable\": \"yA\", \"value\": 0.03587561766079972}, {\"x\": 1.7272727272727275, \"variable\": \"yA\", \"value\": 0.02998271418102358}, {\"x\": 1.787878787878788, \"variable\": \"yA\", \"value\": 0.02483827176727916}, {\"x\": 1.8484848484848486, \"variable\": \"yA\", \"value\": 0.020392403075959138}, {\"x\": 1.9090909090909092, \"variable\": \"yA\", \"value\": 0.016589614219396257}, {\"x\": 1.9696969696969697, \"variable\": \"yA\", \"value\": 0.01337073944690646}, {\"x\": 2.0303030303030303, \"variable\": \"yA\", \"value\": 0.010674855934850772}, {\"x\": 2.090909090909091, \"variable\": \"yA\", \"value\": 0.008441073347797187}, {\"x\": 2.1515151515151514, \"variable\": \"yA\", \"value\": 0.006610114530754772}, {\"x\": 2.212121212121212, \"variable\": \"yA\", \"value\": 0.005125629166308966}, {\"x\": 2.2727272727272725, \"variable\": \"yA\", \"value\": 0.003935208535239468}, {\"x\": 2.333333333333334, \"variable\": \"yA\", \"value\": 0.002991094128462845}, {\"x\": 2.3939393939393945, \"variable\": \"yA\", \"value\": 0.0022505938638354467}, {\"x\": 2.454545454545455, \"variable\": \"yA\", \"value\": 0.0016762358650501792}, {\"x\": 2.5151515151515156, \"variable\": \"yA\", \"value\": 0.0012357006643560302}, {\"x\": 2.575757575757576, \"variable\": \"yA\", \"value\": 0.0009015784122561669}, {\"x\": 2.6363636363636367, \"variable\": \"yA\", \"value\": 0.0006509988048367677}, {\"x\": 2.6969696969696972, \"variable\": \"yA\", \"value\": 0.00046517887068139337}, {\"x\": 2.757575757575758, \"variable\": \"yA\", \"value\": 0.0003289285378473937}, {\"x\": 2.8181818181818183, \"variable\": \"yA\", \"value\": 0.00023014707438782553}, {\"x\": 2.878787878787879, \"variable\": \"yA\", \"value\": 0.00015933600611956898}, {\"x\": 2.9393939393939394, \"variable\": \"yA\", \"value\": 0.00010914673097120879}, {\"x\": 3.0, \"variable\": \"yA\", \"value\": 7.397433117554622e-05}, {\"x\": -3.0, \"variable\": \"yB\", \"value\": 1.777292467805186e-18}, {\"x\": -2.9393939393939394, \"variable\": \"yB\", \"value\": 7.592936240353788e-18}, {\"x\": -2.878787878787879, \"variable\": \"yB\", \"value\": 3.155691587555137e-17}, {\"x\": -2.8181818181818183, \"variable\": \"yB\", \"value\": 1.275905325840483e-16}, {\"x\": -2.757575757575758, \"variable\": \"yB\", \"value\": 5.018651434737286e-16}, {\"x\": -2.696969696969697, \"variable\": \"yB\", \"value\": 1.9204648313858018e-15}, {\"x\": -2.6363636363636362, \"variable\": \"yB\", \"value\": 7.149620622185767e-15}, {\"x\": -2.5757575757575757, \"variable\": \"yB\", \"value\": 2.5895486966159818e-14}, {\"x\": -2.515151515151515, \"variable\": \"yB\", \"value\": 9.12509418929566e-14}, {\"x\": -2.4545454545454546, \"variable\": \"yB\", \"value\": 3.1284644785364235e-13}, {\"x\": -2.393939393939394, \"variable\": \"yB\", \"value\": 1.0435537832774224e-12}, {\"x\": -2.333333333333333, \"variable\": \"yB\", \"value\": 3.3868667780951376e-12}, {\"x\": -2.2727272727272725, \"variable\": \"yB\", \"value\": 1.0695272632573927e-11}, {\"x\": -2.212121212121212, \"variable\": \"yB\", \"value\": 3.286304650387427e-11}, {\"x\": -2.1515151515151514, \"variable\": \"yB\", \"value\": 9.82559328207909e-11}, {\"x\": -2.090909090909091, \"variable\": \"yB\", \"value\": 2.8586346990466147e-10}, {\"x\": -2.0303030303030303, \"variable\": \"yB\", \"value\": 8.093243546136956e-10}, {\"x\": -1.9696969696969697, \"variable\": \"yB\", \"value\": 2.229806297806031e-09}, {\"x\": -1.9090909090909092, \"variable\": \"yB\", \"value\": 5.978747825983675e-09}, {\"x\": -1.8484848484848484, \"variable\": \"yB\", \"value\": 1.560168539618297e-08}, {\"x\": -1.7878787878787878, \"variable\": \"yB\", \"value\": 3.96252819161299e-08}, {\"x\": -1.7272727272727273, \"variable\": \"yB\", \"value\": 9.795714333719577e-08}, {\"x\": -1.6666666666666665, \"variable\": \"yB\", \"value\": 2.3571553817354086e-07}, {\"x\": -1.606060606060606, \"variable\": \"yB\", \"value\": 5.521492040702354e-07}, {\"x\": -1.5454545454545454, \"variable\": \"yB\", \"value\": 1.2591317126449743e-06}, {\"x\": -1.4848484848484849, \"variable\": \"yB\", \"value\": 2.7955384757933735e-06}, {\"x\": -1.4242424242424243, \"variable\": \"yB\", \"value\": 6.043319691451482e-06}, {\"x\": -1.3636363636363635, \"variable\": \"yB\", \"value\": 1.2721577752328622e-05}, {\"x\": -1.303030303030303, \"variable\": \"yB\", \"value\": 2.6079837814144686e-05}, {\"x\": -1.2424242424242424, \"variable\": \"yB\", \"value\": 5.207322674354503e-05}, {\"x\": -1.1818181818181817, \"variable\": \"yB\", \"value\": 0.00010127945394778604}, {\"x\": -1.121212121212121, \"variable\": \"yB\", \"value\": 0.00019190301805888774}, {\"x\": -1.0606060606060606, \"variable\": \"yB\", \"value\": 0.00035428876644695134}, {\"x\": -1.0, \"variable\": \"yB\", \"value\": 0.0006374047014586829}, {\"x\": -0.9393939393939394, \"variable\": \"yB\", \"value\": 0.0011177089971043037}, {\"x\": -0.8787878787878789, \"variable\": \"yB\", \"value\": 0.0019106350765926753}, {\"x\": -0.8181818181818183, \"variable\": \"yB\", \"value\": 0.003184558826956094}, {\"x\": -0.7575757575757573, \"variable\": \"yB\", \"value\": 0.005176520460743787}, {\"x\": -0.6969696969696968, \"variable\": \"yB\", \"value\": 0.008208170364900673}, {\"x\": -0.6363636363636362, \"variable\": \"yB\", \"value\": 0.012699470852769318}, {\"x\": -0.5757575757575757, \"variable\": \"yB\", \"value\": 0.019176772889426805}, {\"x\": -0.5151515151515151, \"variable\": \"yB\", \"value\": 0.02827123280861038}, {\"x\": -0.4545454545454546, \"variable\": \"yB\", \"value\": 0.04070341352611252}, {\"x\": -0.39393939393939403, \"variable\": \"yB\", \"value\": 0.057250578797723786}, {\"x\": -0.33333333333333304, \"variable\": \"yB\", \"value\": 0.07869478232230388}, {\"x\": -0.2727272727272725, \"variable\": \"yB\", \"value\": 0.10575233619595169}, {\"x\": -0.21212121212121193, \"variable\": \"yB\", \"value\": 0.13898834741703836}, {\"x\": -0.15151515151515138, \"variable\": \"yB\", \"value\": 0.1787232568976735}, {\"x\": -0.09090909090909083, \"variable\": \"yB\", \"value\": 0.2249410966174196}, {\"x\": -0.030303030303030276, \"variable\": \"yB\", \"value\": 0.2772109043229049}, {\"x\": 0.030303030303030276, \"variable\": \"yB\", \"value\": 0.33463297475184256}, {\"x\": 0.09090909090909083, \"variable\": \"yB\", \"value\": 0.39582023403017935}, {\"x\": 0.15151515151515138, \"variable\": \"yB\", \"value\": 0.4589221600796492}, {\"x\": 0.21212121212121238, \"variable\": \"yB\", \"value\": 0.5216947365106244}, {\"x\": 0.27272727272727293, \"variable\": \"yB\", \"value\": 0.5816154215049857}, {\"x\": 0.3333333333333335, \"variable\": \"yB\", \"value\": 0.6360374920936193}, {\"x\": 0.39393939393939403, \"variable\": \"yB\", \"value\": 0.6823737134079585}, {\"x\": 0.4545454545454546, \"variable\": \"yB\", \"value\": 0.7182952976448975}, {\"x\": 0.5151515151515151, \"variable\": \"yB\", \"value\": 0.7419287796876953}, {\"x\": 0.5757575757575757, \"variable\": \"yB\", \"value\": 0.7520311147684162}, {\"x\": 0.6363636363636367, \"variable\": \"yB\", \"value\": 0.7481225887973941}, {\"x\": 0.6969696969696972, \"variable\": \"yB\", \"value\": 0.7305587587399338}, {\"x\": 0.7575757575757578, \"variable\": \"yB\", \"value\": 0.7005272421150217}, {\"x\": 0.8181818181818183, \"variable\": \"yB\", \"value\": 0.6599629374099112}, {\"x\": 0.8787878787878789, \"variable\": \"yB\", \"value\": 0.6113856098484612}, {\"x\": 0.9393939393939394, \"variable\": \"yB\", \"value\": 0.557675271398809}, {\"x\": 1.0, \"variable\": \"yB\", \"value\": 0.5018112688697419}, {\"x\": 1.0606060606060606, \"variable\": \"yB\", \"value\": 0.44660808351978876}, {\"x\": 1.121212121212121, \"variable\": \"yB\", \"value\": 0.3944825672589747}, {\"x\": 1.1818181818181817, \"variable\": \"yB\", \"value\": 0.3472827642806646}, {\"x\": 1.2424242424242422, \"variable\": \"yB\", \"value\": 0.30619810220723703}, {\"x\": 1.3030303030303028, \"variable\": \"yB\", \"value\": 0.2717565438985338}, {\"x\": 1.3636363636363633, \"variable\": \"yB\", \"value\": 0.243899270985131}, {\"x\": 1.4242424242424248, \"variable\": \"yB\", \"value\": 0.22211092858952436}, {\"x\": 1.4848484848484853, \"variable\": \"yB\", \"value\": 0.20557614738646363}, {\"x\": 1.5454545454545459, \"variable\": \"yB\", \"value\": 0.19333243030912586}, {\"x\": 1.6060606060606064, \"variable\": \"yB\", \"value\": 0.1843953131478523}, {\"x\": 1.666666666666667, \"variable\": \"yB\", \"value\": 0.177842127236519}, {\"x\": 1.7272727272727275, \"variable\": \"yB\", \"value\": 0.17285276018113585}, {\"x\": 1.787878787878788, \"variable\": \"yB\", \"value\": 0.16871631935034467}, {\"x\": 1.8484848484848486, \"variable\": \"yB\", \"value\": 0.1648189848761107}, {\"x\": 1.9090909090909092, \"variable\": \"yB\", \"value\": 0.16062936129403427}, {\"x\": 1.9696969696969697, \"variable\": \"yB\", \"value\": 0.15569368127336566}, {\"x\": 2.0303030303030303, \"variable\": \"yB\", \"value\": 0.14964606179002957}, {\"x\": 2.090909090909091, \"variable\": \"yB\", \"value\": 0.14223121180216372}, {\"x\": 2.1515151515151514, \"variable\": \"yB\", \"value\": 0.13333102840274222}, {\"x\": 2.212121212121212, \"variable\": \"yB\", \"value\": 0.1229840669074145}, {\"x\": 2.2727272727272725, \"variable\": \"yB\", \"value\": 0.111388346496524}, {\"x\": 2.333333333333334, \"variable\": \"yB\", \"value\": 0.09888251786251186}, {\"x\": 2.3939393939393945, \"variable\": \"yB\", \"value\": 0.08590637581086291}, {\"x\": 2.454545454545455, \"variable\": \"yB\", \"value\": 0.07294712075097569}, {\"x\": 2.5151515151515156, \"variable\": \"yB\", \"value\": 0.060481126048172344}, {\"x\": 2.575757575757576, \"variable\": \"yB\", \"value\": 0.04892153179200646}, {\"x\": 2.6363636363636367, \"variable\": \"yB\", \"value\": 0.03857994854334684}, {\"x\": 2.6969696969696972, \"variable\": \"yB\", \"value\": 0.029646814568058927}, {\"x\": 2.757575757575758, \"variable\": \"yB\", \"value\": 0.0221907260689363}, {\"x\": 2.8181818181818183, \"variable\": \"yB\", \"value\": 0.01617347905601023}, {\"x\": 2.878787878787879, \"variable\": \"yB\", \"value\": 0.01147535620660666}, {\"x\": 2.9393939393939394, \"variable\": \"yB\", \"value\": 0.007924581182752837}, {\"x\": 3.0, \"variable\": \"yB\", \"value\": 0.00532561168000665}]}};\n",
       "var selector = \"#ad95e753-3794-4f2e-ba0b-8dab391aaae2\";\n",
       "var type = \"vega-lite\";\n",
       "\n",
       "var output_area = this;\n",
       "require(['nbextensions/jupyter-vega/index'], function(vega) {\n",
       "  vega.render(selector, spec, type, output_area);\n",
       "}, function (err) {\n",
       "  if (err.requireType !== 'scripterror') {\n",
       "    throw(err);\n",
       "  }\n",
       "});\n"
      ]
     },
     "metadata": {
      "jupyter-vega": "#ad95e753-3794-4f2e-ba0b-8dab391aaae2"
     },
     "output_type": "display_data"
    },
    {
     "data": {
      "image/png": "[encoded data removed]"
     },
     "metadata": {
      "jupyter-vega": "#ad95e753-3794-4f2e-ba0b-8dab391aaae2"
     },
     "output_type": "display_data"
    }
   ],
   "source": [
    "kdeplot = LayeredChart(kde_df)\n",
    "kdeplot += Chart().\\\n",
    "    mark_area(opacity=0.5).\\\n",
    "    encode(x='x', y='value', color='variable')\n",
    "kdeplot += Chart().\\\n",
    "    mark_line().\\\n",
    "    encode(x='x', y='value', color='variable')\n",
    "kdeplot"
   ]
  },
  {
   "cell_type": "code",
   "execution_count": null,
   "metadata": {
    "collapsed": true,
    "inputHidden": false,
    "outputHidden": false
   },
   "outputs": [],
   "source": []
  },
  {
   "cell_type": "code",
   "execution_count": null,
   "metadata": {
    "collapsed": true,
    "inputHidden": false,
    "outputHidden": false
   },
   "outputs": [],
   "source": []
  },
  {
   "cell_type": "code",
   "execution_count": null,
   "metadata": {
    "collapsed": true,
    "inputHidden": false,
    "outputHidden": false
   },
   "outputs": [],
   "source": []
  },
  {
   "cell_type": "code",
   "execution_count": null,
   "metadata": {
    "collapsed": true,
    "inputHidden": false,
    "outputHidden": false
   },
   "outputs": [],
   "source": []
  },
  {
   "cell_type": "code",
   "execution_count": null,
   "metadata": {
    "collapsed": true,
    "inputHidden": false,
    "outputHidden": false
   },
   "outputs": [],
   "source": []
  },
  {
   "cell_type": "code",
   "execution_count": null,
   "metadata": {
    "collapsed": true,
    "inputHidden": false,
    "outputHidden": false
   },
   "outputs": [],
   "source": []
  },
  {
   "cell_type": "markdown",
   "metadata": {
    "inputHidden": false,
    "outputHidden": false
   },
   "source": [
    "Un coup d'oeil sur bokeh, ggpy/plotine."
   ]
  },
  {
   "cell_type": "markdown",
   "metadata": {},
   "source": [
    "Utilisation de Inkscape pour les retouches."
   ]
  }
 ],
 "metadata": {
  "kernel_info": {
   "name": "python3"
  },
  "kernelspec": {
   "display_name": "Python 3",
   "language": "python",
   "name": "python3"
  },
  "language_info": {
   "codemirror_mode": {
    "name": "ipython",
    "version": 3
   },
   "file_extension": ".py",
   "mimetype": "text/x-python",
   "name": "python",
   "nbconvert_exporter": "python",
   "pygments_lexer": "ipython3",
   "version": "3.6.1"
  }
 },
 "nbformat": 4,
 "nbformat_minor": 2
}
