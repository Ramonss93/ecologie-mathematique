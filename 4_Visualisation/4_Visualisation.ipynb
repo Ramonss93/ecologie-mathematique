{
 "cells": [
  {
   "cell_type": "markdown",
   "metadata": {},
   "source": [
    "# Visualisation\n",
    "\n",
    "Lorsque j'aborde un document scientifique, la première chose que je fais après avoir lu le résumé est de regarder les graphiques. Un graphique bien conçu est dense en information, de sorte qu'il met en lumière une information qui pourrait passer inaperçue dans un tableau.\n",
    "\n",
    "Vous reconnaîtrez peut-être ce graphique.\n",
    "\n",
    "<img src=\"images/mann-hockey-stick-2001.png\" width=\"600\">\n",
    "<center>Source: [GIEC, Bilan 2001 des changements climatiques : Les éléments scientifiques](https://www.ipcc.ch/pdf/climate-changes-2001/scientific-basis/scientific-spm-ts-fr.pdf)</center>\n",
    "\n",
    "Ce graphique, conçu par Michael E. Mann, Raymond S. Bradley et Malcolm K. Hughes, montre l'évolution des températures en °C normalisées selon la température moyenne entre 1961 et 1990 sur l'axe des Y en fonction du temps, sur l'axe des X. On le connait aujourd'hui comme le *bâton de hockey*, et on reconnait son rôle clé pour sensibiliser la civilisation entière face au réchauffement global, et a repoussé dans la marge les courrants négateurs.\n",
    "\n",
    "Les températures précédent le 20ième siècle ont été reconstruites à partir de données indirectes. Les auteurs du graphique ont pris soin d'indiquer l'incertitude de leurs reconstruction, qui devient de plus en plus étroites avec le temps."
   ]
  },
  {
   "cell_type": "markdown",
   "metadata": {},
   "source": [
    "## Cinq qualités d'un bon graphique\n",
    "\n",
    "Alberto Cairo, chercheur spécialisé en visualisation de données, a fait paraître en 2016 le livre *The Truthful art*, note cinq qualités d'une visualisation bien conçue (les citations de cette section proviennent de ma traduction de Alberto Cairo, *The Truthful art* (2016), p. 45.).\n",
    "\n",
    "> 1- **Elle est véritable**, puisqu'elle est basée sur une recherche exhaustive et honnête.\n",
    "\n",
    "Cela vaut autant pourles graphiques que pour l'analyse de données. Il s'agit froidement de **présenter les données selon l'interprétation la plus exacte**. Les pièges à éviter sont le *picorage de cerises* et la *surinterprétation des données*. Le *picorage*, c'est lorsqu'on réduit les perspectives afin de soutenir un argumentaire. Par exemple, retirer des données d'une région ou d'une décénie qui rendraient factice une conclusion fixée *a priori*. Ceci vaut autant pour les graphiques que pour les statistiques (nous parlerons du p-hacking au prochain chapitre). La *surinterprétation*, c'est lorsque l'on saute rapidement aux conclusions: par exemple, que l'on génère des corrélations, voire même des relations de causalités à partir de ce qui n'est que du bruit de fond.\n",
    "\n",
    "> 2- **Elle est fonctionnelle**, puisqu'elle constitue une représentation précise des données, et qu'elle est construite de manière à laisser les observateurs.trices prendre des initiatives consquentes.\n",
    "\n",
    "\"La seule chose qui est pire qu'un diagramme en pointe de tarte, c'est d'en présenter plusieurs\" (Edward Tufte, designer, cité par Alberto Cairo, 2016, p. 50). Choisir le bon graphique pour représenter vos données est beaucoup moins une question de bon goût qu'une question de démarche rationnelle. Je présenterai des lignes guides pour sélectionner le type de graphique qui présentera vos données de manière fonctionnelle en fonction de l'objectif d'un graphique (d'ailleurs, avez-vous vraiment besoin d'un graphique?) et de l'audience (en ce qui nous concerne dans ce manuel, la communauté scientifique).\n",
    "\n",
    "> 3- **Elle est belle**, dans le sens d'attrayante, intrigauante, et même esthétiquement plaisante pour l'audience visée - les scientifiques d'abord, mais aussi le public en général.\n",
    "\n",
    "En sciences naturelles, la pensée rationnelle, la capacité à organiser la connaissance et créer de nouvelles avenues sont des qualités qui sont privilégiées au talent artistique. Que vous ayez où non des aptitudes en art visuel, *présentez de l'information, pas des décorations*. Excel vous permet d'ajouter une perspective 3D à un diagramme en barres. La profondeur contient-elle de l'information? Non. Cette décoration ne fait qu'ajouter de la confuusion. Minimalisez, fournissez le plus d'information possible avec le moins d'éléments possible. Si vous manquez d'idées, ouvrez un bon livre de référence en visualisation, comme le livre de Alberto Cairo (2016).\n",
    "\n",
    "> 4- **Elle est pertinente**, puisqu'elle révèle des évidences scientifiques autrement difficilement acessibles.\n",
    "\n",
    "Il s'agit de susciter un *euréka*, dans le sens qu'elle génère une idée en un coup d'oeil. Le graphique en bâton de hockey est un exemple où l'on a spontanément une idée de la situation. Cette situation peut être la présence d'un phénomène comme l'augmentation de la température globale, mais aussi l'absence de phénomène, par exemple l'absence d'augmentation du rendement d'une culture selon la dose de phosphore appliquée.\n",
    "\n",
    "> 5- **Elle est instructive**, parce que si l'on saisit et accepte les évidences scientifiques qu'elle décrit, cela changera notre perception pour le mieux.\n",
    "\n",
    "En présentant cette qualité, Alberto Cairo voulait insiter ses lecteurs.trices à choisir des sujets de discussion visuelle de manière à participer à un monde meilleur. En ce qui nous concerne, il s'agit de bien sélectionner l'information que l'on désire transmettre. Imaginez que vous avez travaillé quelques jours pour créer un graphique, sont vous êtes fier, mais vous (ou un collègue hiérarchiquement favorisé) vous rendez compte que le graphique soutient peu ou pas le propos de votre thèse/mémoire/rapport/article. Si c'est bien le cas, vous feriez mieux de laisser tomber votre oeuvre et considérer votre démarche comme une occasion d'apprentissage.\n",
    "\n",
    "Alberto Cairo résume son livre *The Truthful Art* dans [une entrevue avec le National Geographic](http://news.nationalgeographic.com/2015/10/151016-data-points-alberto-cairo-interview/)."
   ]
  },
  {
   "cell_type": "markdown",
   "metadata": {},
   "source": [
    "## Erreurs courrantes à éviter\n",
    "\n",
    "Une représentation visuelle est un outil tranchant qui peut autant présenter un état véritable des données qu'une perspective trompeuse, à l'insu même de ses concepteurs. Bien souvent, une ou plusieurs des 5 qualités ne sont pas respectées. Les occasions d'erreur ne manquent pas - j'en ferai mention dans la setion *Choisir le bon type de graphique*. Le statisticien et blogueur Kaiser Fung s'affaire quotidiennement à proposer des améliorations à de mauvais graphiques sur son blogue [Junk Charts](www.junkcharts.typepad.com)."
   ]
  },
  {
   "cell_type": "markdown",
   "metadata": {},
   "source": [
    "## Exploration\n",
    "\n",
    "Tout comme la création de sommaires (par exemple avec la méthode `describe` de `pandas`) vise d,abord à explorer des données, je parie que la majorité des graphiques que vous créerez ne seront pas voués à être publiés. Prenons deux variables quelconques, $X$ et $Y$. Vous calculez leur moyenne, écart-type et la corrélation entre les deux variables (nous verrons les statistiques en plus de détails dans le prochain chapitre). Je ne vous surprendrai pas en disant que ces statistiques sont insuffisantes pour bien apprécier ce que vous avez sous les yeux. Pour le démontrer, Matejka et Fitzmaurice (2017) ont généré 12 jeux de données $X$ et $Y$, ayant chacun pratiquement les mêmes statistiques. Mais avec des structures bien différentes.\n",
    "\n",
    "![](https://d2f99xq7vri1nk.cloudfront.net/DinoSequentialSmaller.gif)\n",
    "<center>Animation montrant la progression du jeu de onnées *Datasaurus* poir toutes les formes visées. Source: [Same Stats, Different Graphs: Generating Datasets with Varied Appearance and Identical Statistics through Simulated Annealing](https://www.autodeskresearch.com/publications/samestats).</center>"
   ]
  },
  {
   "cell_type": "markdown",
   "metadata": {},
   "source": [
    "## Visualisation en Python\n",
    "\n",
    "Les bibliothèques scientifique sur Python sont très bien organisées... sauf en ce qui a trait aux bibliothèques de visualisation.\n",
    "\n",
    "<center>\n",
    "  <img src=\"images/jake-vanderplas-pycon2017.jpg\" width=\"800\">\n",
    "  [The Python Visualization Landscape](https://www.youtube.com/watch?v=FytuB8nFHPQ). Conférence de Jake Vanderplas, développeur de la bibliothèque altair, sur les outils de visualisation disponibles sur Python, PyCon 2017.\n",
    "</center>\n",
    "\n",
    "Il existe plusieurs outils pour créer des graphiques en Python, certains génériques, d'autres spécialisés, chacune ayant un fonctionnement qui lui est propre. \n",
    "\n",
    "IMPÉRATIF VS DÉCLARATIF\n",
    "\n",
    "Il est difficile d'identifier les outils les plus pertinents pour les opérations courrantes en écologie mathématique. J'en suis arrivé à proposer les trois outils suivants.\n",
    "\n",
    "- **`matplotlib`** est l'outil de base. Il fonctionne en mode *impératif*. Peu de choses sont générées automatiquement, mais ce que vous perdez en convivialité, vous le gagnez en flexibilité.\n",
    "- **`pandas`** ne se limite pas aux opérations sur les tableaux. C'est aussi un outil graphique surtout exploratoire.\n",
    "- **`altair`** fonctionne en mode *déclaratif*. Il n'est en ce moment pas aussi mature et complet que `ggplot2` l'est dans le langage R, mais ses possibilités sont relativement complètes.\n",
    "\n",
    "Afin que les graphiques soient affichés dans un jupyter notebook, la commande `%matplotlib inline` doit être préalablement lancée."
   ]
  },
  {
   "cell_type": "code",
   "execution_count": 2,
   "metadata": {
    "collapsed": true
   },
   "outputs": [],
   "source": [
    "%matplotlib inline"
   ]
  },
  {
   "cell_type": "markdown",
   "metadata": {},
   "source": [
    "## Choisir bon type de graphique\n",
    "\n",
    "Vous connaissez sans doute les nuages de point, les lignes, les histogrammes, les diagrammes en barre et en pointe de tarte. Il en existe plusieurs autres. Les principaux seront couverts dans ce chapitre. D'autres types spécialisés (biplots, arbres, diagrammes ternaires, etc.) seront couverts dans les chapitres appropriés.\n",
    "\n",
    "Quoi qu'il en soit, selon Cairo (2016):\n",
    "\n",
    "1. Réfléchissez au message que vous désirez transmettre: comparer les catégories $A$ et $B$, visualiser une transition ou un changement de $A$ vers $B$, présenter une relation entre $A$ et $B$ ou la distribution de $A$ et $B$ sur une carte.\n",
    "\n",
    "2. Essayez différentes représentations: si le message que vous désirez transmettre a plusieurs volets, il se pourrait que vous ayaez besoin de plus d'un graphique.\n",
    "\n",
    "3. Mettez de l'ordre dans vos données. Le chapitre 3 visait à vous sensibilisé à l'importance d'avoir des données bien organisées, ce qui est impératif pour la visualisation.\n",
    "\n",
    "4. Testez le résultat. \"Hé, qu'est-ce que tu comprends de cela?\" Si la personne hausse les épaules, il va falloir réévaluer votre stratégie.\n",
    "\n"
   ]
  },
  {
   "cell_type": "markdown",
   "metadata": {},
   "source": [
    "### Diagramme en barre\n",
    "\n",
    "Le diagramme en barre est un ensemble de rectangles dont la longueur représente une quantité. Chaque barre représente une catégorie nominale ou ordinale. Une règle de base avec les diagrammes en barre est d'utiliser le zéro comme référence: utiliser une référence arbitraire peut mener à une interprétation fausse. La règle peut s'appliquer aussi aux séries temporelles, comme le diagramme de Mann et al. (2001), présenté précédemment.\n",
    "\n",
    "<center>\n",
    "<img src=\"https://i2.wp.com/flowingdata.com/wp-content/uploads/2015/08/bar-plots1.png?w=1800\">\n",
    "Source: Yau (2015), [Real Chart Rules to Follow](https://flowingdata.com/2015/08/11/real-chart-rules-to-follow/).\n",
    "</center>\n",
    "\n",
    "Mais il y a des exceptions. Le zéro est parfois une référence arbitraire: la température de 0°C, par exemple. Ça n'a pas empêché Mann et al. (2001) de présenter un graphique relativement à zéro. Les données sont présentées relativement à la température moyenne entre 1961 et 1990."
   ]
  },
  {
   "cell_type": "markdown",
   "metadata": {},
   "source": [
    "Nous allons travailler avec `pandas` pour les opérations sur les tableaux et d'abord avec `altair` pour générer nos graphiques. La manipulation de tableaux et la représentation graphique des données sont étroitement liées. Je profiterai des exemples pour présenter les flux de travail du tableau initial vers le graphique."
   ]
  },
  {
   "cell_type": "code",
   "execution_count": 3,
   "metadata": {
    "collapsed": true
   },
   "outputs": [],
   "source": [
    "import pandas as pd\n",
    "from altair import *"
   ]
  },
  {
   "cell_type": "markdown",
   "metadata": {},
   "source": [
    "#### Barres horizontales\n",
    "\n",
    "Pour les catégories nominales, les barres sont préférablement horizontales et ordonnées de la plus grande en haut à la plus petite, en bas."
   ]
  },
  {
   "cell_type": "markdown",
   "metadata": {},
   "source": [
    "Le site de l'OCDE (Organistion pour la coopération et de développement économique) compile de nnombreux types données, dont [des données des espèces menacées recensées par différents pays](https://stats.oecd.org/Index.aspx?DataSetCode=WILD_LIFE)."
   ]
  },
  {
   "cell_type": "code",
   "execution_count": 4,
   "metadata": {
    "scrolled": false
   },
   "outputs": [
    {
     "data": {
      "text/html": [
       "<div>\n",
       "<style>\n",
       "    .dataframe thead tr:only-child th {\n",
       "        text-align: right;\n",
       "    }\n",
       "\n",
       "    .dataframe thead th {\n",
       "        text-align: left;\n",
       "    }\n",
       "\n",
       "    .dataframe tbody tr th {\n",
       "        vertical-align: top;\n",
       "    }\n",
       "</style>\n",
       "<table border=\"1\" class=\"dataframe\">\n",
       "  <thead>\n",
       "    <tr style=\"text-align: right;\">\n",
       "      <th></th>\n",
       "      <th>IUCN</th>\n",
       "      <th>IUCN Category</th>\n",
       "      <th>SPEC</th>\n",
       "      <th>Species</th>\n",
       "      <th>COU</th>\n",
       "      <th>Country</th>\n",
       "      <th>Unit Code</th>\n",
       "      <th>Unit</th>\n",
       "      <th>PowerCode Code</th>\n",
       "      <th>PowerCode</th>\n",
       "      <th>Reference Period Code</th>\n",
       "      <th>Reference Period</th>\n",
       "      <th>Value</th>\n",
       "      <th>Flag Codes</th>\n",
       "      <th>Flags</th>\n",
       "    </tr>\n",
       "  </thead>\n",
       "  <tbody>\n",
       "    <tr>\n",
       "      <th>0</th>\n",
       "      <td>TOT_KNOWN</td>\n",
       "      <td>Total number of known species</td>\n",
       "      <td>MAMMAL</td>\n",
       "      <td>Mammals</td>\n",
       "      <td>AUS</td>\n",
       "      <td>Australia</td>\n",
       "      <td>NBR</td>\n",
       "      <td>Number</td>\n",
       "      <td>0</td>\n",
       "      <td>Units</td>\n",
       "      <td>NaN</td>\n",
       "      <td>NaN</td>\n",
       "      <td>401.0</td>\n",
       "      <td>NaN</td>\n",
       "      <td>NaN</td>\n",
       "    </tr>\n",
       "    <tr>\n",
       "      <th>1</th>\n",
       "      <td>TOT_KNOWN_IND</td>\n",
       "      <td>Total number of indigenous known species</td>\n",
       "      <td>MAMMAL</td>\n",
       "      <td>Mammals</td>\n",
       "      <td>AUS</td>\n",
       "      <td>Australia</td>\n",
       "      <td>NBR</td>\n",
       "      <td>Number</td>\n",
       "      <td>0</td>\n",
       "      <td>Units</td>\n",
       "      <td>NaN</td>\n",
       "      <td>NaN</td>\n",
       "      <td>349.0</td>\n",
       "      <td>NaN</td>\n",
       "      <td>NaN</td>\n",
       "    </tr>\n",
       "    <tr>\n",
       "      <th>2</th>\n",
       "      <td>ENDANGERED</td>\n",
       "      <td>Number of endangered species</td>\n",
       "      <td>MAMMAL</td>\n",
       "      <td>Mammals</td>\n",
       "      <td>AUS</td>\n",
       "      <td>Australia</td>\n",
       "      <td>NBR</td>\n",
       "      <td>Number</td>\n",
       "      <td>0</td>\n",
       "      <td>Units</td>\n",
       "      <td>NaN</td>\n",
       "      <td>NaN</td>\n",
       "      <td>38.0</td>\n",
       "      <td>NaN</td>\n",
       "      <td>NaN</td>\n",
       "    </tr>\n",
       "    <tr>\n",
       "      <th>3</th>\n",
       "      <td>CRITICAL</td>\n",
       "      <td>Number of critically endangered species</td>\n",
       "      <td>MAMMAL</td>\n",
       "      <td>Mammals</td>\n",
       "      <td>AUS</td>\n",
       "      <td>Australia</td>\n",
       "      <td>NBR</td>\n",
       "      <td>Number</td>\n",
       "      <td>0</td>\n",
       "      <td>Units</td>\n",
       "      <td>NaN</td>\n",
       "      <td>NaN</td>\n",
       "      <td>6.0</td>\n",
       "      <td>NaN</td>\n",
       "      <td>NaN</td>\n",
       "    </tr>\n",
       "    <tr>\n",
       "      <th>4</th>\n",
       "      <td>VULNERABLE</td>\n",
       "      <td>Number of vulnerable species</td>\n",
       "      <td>MAMMAL</td>\n",
       "      <td>Mammals</td>\n",
       "      <td>AUS</td>\n",
       "      <td>Australia</td>\n",
       "      <td>NBR</td>\n",
       "      <td>Number</td>\n",
       "      <td>0</td>\n",
       "      <td>Units</td>\n",
       "      <td>NaN</td>\n",
       "      <td>NaN</td>\n",
       "      <td>64.0</td>\n",
       "      <td>NaN</td>\n",
       "      <td>NaN</td>\n",
       "    </tr>\n",
       "  </tbody>\n",
       "</table>\n",
       "</div>"
      ],
      "text/plain": [
       "            IUCN                             IUCN Category    SPEC  Species  \\\n",
       "0      TOT_KNOWN             Total number of known species  MAMMAL  Mammals   \n",
       "1  TOT_KNOWN_IND  Total number of indigenous known species  MAMMAL  Mammals   \n",
       "2     ENDANGERED              Number of endangered species  MAMMAL  Mammals   \n",
       "3       CRITICAL   Number of critically endangered species  MAMMAL  Mammals   \n",
       "4     VULNERABLE              Number of vulnerable species  MAMMAL  Mammals   \n",
       "\n",
       "   COU    Country Unit Code    Unit  PowerCode Code PowerCode  \\\n",
       "0  AUS  Australia       NBR  Number               0     Units   \n",
       "1  AUS  Australia       NBR  Number               0     Units   \n",
       "2  AUS  Australia       NBR  Number               0     Units   \n",
       "3  AUS  Australia       NBR  Number               0     Units   \n",
       "4  AUS  Australia       NBR  Number               0     Units   \n",
       "\n",
       "   Reference Period Code  Reference Period  Value Flag Codes Flags  \n",
       "0                    NaN               NaN  401.0        NaN   NaN  \n",
       "1                    NaN               NaN  349.0        NaN   NaN  \n",
       "2                    NaN               NaN   38.0        NaN   NaN  \n",
       "3                    NaN               NaN    6.0        NaN   NaN  \n",
       "4                    NaN               NaN   64.0        NaN   NaN  "
      ]
     },
     "execution_count": 4,
     "metadata": {},
     "output_type": "execute_result"
    }
   ],
   "source": [
    "especes_menacees = pd.read_csv('data/WILD_LIFE_17062017210614338.csv', sep=',')\n",
    "especes_menacees.head()"
   ]
  },
  {
   "cell_type": "markdown",
   "metadata": {},
   "source": [
    "L'exercice consiste à créer un diagramme en barres horizontales du nombre d'espèces menacées de manière critique pour les 10 pays qui en contiennent le plus. Avec `pandas`, nous allons filter le tableau pour obtenir les espèces critiquement menacées, puis les grouper par pays, et enfin additionner toutes les espèces pour chaque pays (la création de graphique est liée de près avec la maipulation des tableaux)."
   ]
  },
  {
   "cell_type": "code",
   "execution_count": 5,
   "metadata": {
    "scrolled": true
   },
   "outputs": [
    {
     "data": {
      "text/html": [
       "<div>\n",
       "<style>\n",
       "    .dataframe thead tr:only-child th {\n",
       "        text-align: right;\n",
       "    }\n",
       "\n",
       "    .dataframe thead th {\n",
       "        text-align: left;\n",
       "    }\n",
       "\n",
       "    .dataframe tbody tr th {\n",
       "        vertical-align: top;\n",
       "    }\n",
       "</style>\n",
       "<table border=\"1\" class=\"dataframe\">\n",
       "  <thead>\n",
       "    <tr style=\"text-align: right;\">\n",
       "      <th></th>\n",
       "      <th>Value</th>\n",
       "    </tr>\n",
       "    <tr>\n",
       "      <th>Country</th>\n",
       "      <th></th>\n",
       "    </tr>\n",
       "  </thead>\n",
       "  <tbody>\n",
       "    <tr>\n",
       "      <th>Australia</th>\n",
       "      <td>225.0</td>\n",
       "    </tr>\n",
       "    <tr>\n",
       "      <th>Austria</th>\n",
       "      <td>618.0</td>\n",
       "    </tr>\n",
       "    <tr>\n",
       "      <th>Belgium</th>\n",
       "      <td>424.0</td>\n",
       "    </tr>\n",
       "    <tr>\n",
       "      <th>Brazil</th>\n",
       "      <td>453.0</td>\n",
       "    </tr>\n",
       "    <tr>\n",
       "      <th>Chile</th>\n",
       "      <td>114.0</td>\n",
       "    </tr>\n",
       "  </tbody>\n",
       "</table>\n",
       "</div>"
      ],
      "text/plain": [
       "           Value\n",
       "Country         \n",
       "Australia  225.0\n",
       "Austria    618.0\n",
       "Belgium    424.0\n",
       "Brazil     453.0\n",
       "Chile      114.0"
      ]
     },
     "execution_count": 5,
     "metadata": {},
     "output_type": "execute_result"
    }
   ],
   "source": [
    "especes_crit = especes_menacees.\\\n",
    "    loc[especes_menacees.IUCN == 'CRITICAL', ['Country', 'Value']].\\\n",
    "    groupby(['Country']).\\\n",
    "    sum()\n",
    "especes_crit.head()"
   ]
  },
  {
   "cell_type": "markdown",
   "metadata": {},
   "source": [
    "Les opérations `groupby` transposent le ou les groupes en indices de ligne: ce ne sont plus des noms de colonnes (lorsque plusieurs regroupements sont utilisés, vous obtenez des indices hiérarchisés). La méthode `reset_index` permet de placer les indices en colonne(s) et de réinitialiser les indices."
   ]
  },
  {
   "cell_type": "code",
   "execution_count": 6,
   "metadata": {},
   "outputs": [
    {
     "data": {
      "text/html": [
       "<div>\n",
       "<style>\n",
       "    .dataframe thead tr:only-child th {\n",
       "        text-align: right;\n",
       "    }\n",
       "\n",
       "    .dataframe thead th {\n",
       "        text-align: left;\n",
       "    }\n",
       "\n",
       "    .dataframe tbody tr th {\n",
       "        vertical-align: top;\n",
       "    }\n",
       "</style>\n",
       "<table border=\"1\" class=\"dataframe\">\n",
       "  <thead>\n",
       "    <tr style=\"text-align: right;\">\n",
       "      <th></th>\n",
       "      <th>Country</th>\n",
       "      <th>Value</th>\n",
       "    </tr>\n",
       "  </thead>\n",
       "  <tbody>\n",
       "    <tr>\n",
       "      <th>0</th>\n",
       "      <td>Australia</td>\n",
       "      <td>225.0</td>\n",
       "    </tr>\n",
       "    <tr>\n",
       "      <th>1</th>\n",
       "      <td>Austria</td>\n",
       "      <td>618.0</td>\n",
       "    </tr>\n",
       "    <tr>\n",
       "      <th>2</th>\n",
       "      <td>Belgium</td>\n",
       "      <td>424.0</td>\n",
       "    </tr>\n",
       "    <tr>\n",
       "      <th>3</th>\n",
       "      <td>Brazil</td>\n",
       "      <td>453.0</td>\n",
       "    </tr>\n",
       "    <tr>\n",
       "      <th>4</th>\n",
       "      <td>Chile</td>\n",
       "      <td>114.0</td>\n",
       "    </tr>\n",
       "  </tbody>\n",
       "</table>\n",
       "</div>"
      ],
      "text/plain": [
       "     Country  Value\n",
       "0  Australia  225.0\n",
       "1    Austria  618.0\n",
       "2    Belgium  424.0\n",
       "3     Brazil  453.0\n",
       "4      Chile  114.0"
      ]
     },
     "execution_count": 6,
     "metadata": {},
     "output_type": "execute_result"
    }
   ],
   "source": [
    "especes_crit.reset_index(inplace=True)\n",
    "especes_crit.head()"
   ]
  },
  {
   "cell_type": "markdown",
   "metadata": {},
   "source": [
    "Utilisons la méthode `sort_values`, telle que nous l'avons vue dans le chapitre précédent."
   ]
  },
  {
   "cell_type": "code",
   "execution_count": 7,
   "metadata": {},
   "outputs": [
    {
     "data": {
      "text/html": [
       "<div>\n",
       "<style>\n",
       "    .dataframe thead tr:only-child th {\n",
       "        text-align: right;\n",
       "    }\n",
       "\n",
       "    .dataframe thead th {\n",
       "        text-align: left;\n",
       "    }\n",
       "\n",
       "    .dataframe tbody tr th {\n",
       "        vertical-align: top;\n",
       "    }\n",
       "</style>\n",
       "<table border=\"1\" class=\"dataframe\">\n",
       "  <thead>\n",
       "    <tr style=\"text-align: right;\">\n",
       "      <th></th>\n",
       "      <th>Country</th>\n",
       "      <th>Value</th>\n",
       "    </tr>\n",
       "  </thead>\n",
       "  <tbody>\n",
       "    <tr>\n",
       "      <th>7</th>\n",
       "      <td>Czech Republic</td>\n",
       "      <td>2159.0</td>\n",
       "    </tr>\n",
       "    <tr>\n",
       "      <th>35</th>\n",
       "      <td>United States</td>\n",
       "      <td>1409.0</td>\n",
       "    </tr>\n",
       "    <tr>\n",
       "      <th>12</th>\n",
       "      <td>Germany</td>\n",
       "      <td>915.0</td>\n",
       "    </tr>\n",
       "    <tr>\n",
       "      <th>18</th>\n",
       "      <td>Japan</td>\n",
       "      <td>628.0</td>\n",
       "    </tr>\n",
       "    <tr>\n",
       "      <th>1</th>\n",
       "      <td>Austria</td>\n",
       "      <td>618.0</td>\n",
       "    </tr>\n",
       "    <tr>\n",
       "      <th>28</th>\n",
       "      <td>Slovak Republic</td>\n",
       "      <td>594.0</td>\n",
       "    </tr>\n",
       "    <tr>\n",
       "      <th>26</th>\n",
       "      <td>Poland</td>\n",
       "      <td>485.0</td>\n",
       "    </tr>\n",
       "    <tr>\n",
       "      <th>32</th>\n",
       "      <td>Switzerland</td>\n",
       "      <td>483.0</td>\n",
       "    </tr>\n",
       "    <tr>\n",
       "      <th>3</th>\n",
       "      <td>Brazil</td>\n",
       "      <td>453.0</td>\n",
       "    </tr>\n",
       "    <tr>\n",
       "      <th>2</th>\n",
       "      <td>Belgium</td>\n",
       "      <td>424.0</td>\n",
       "    </tr>\n",
       "  </tbody>\n",
       "</table>\n",
       "</div>"
      ],
      "text/plain": [
       "            Country   Value\n",
       "7    Czech Republic  2159.0\n",
       "35    United States  1409.0\n",
       "12          Germany   915.0\n",
       "18            Japan   628.0\n",
       "1           Austria   618.0\n",
       "28  Slovak Republic   594.0\n",
       "26           Poland   485.0\n",
       "32      Switzerland   483.0\n",
       "3            Brazil   453.0\n",
       "2           Belgium   424.0"
      ]
     },
     "execution_count": 7,
     "metadata": {},
     "output_type": "execute_result"
    }
   ],
   "source": [
    "especes_crit_10 = especes_crit.sort_values(by='Value', ascending=False).head(10)\n",
    "especes_crit_10"
   ]
  },
  {
   "cell_type": "markdown",
   "metadata": {},
   "source": [
    "La bibliotèque `altair` contient de nombreuses options. L'objectif de ce chapitre n'est pas de les couvrir toutes, mais de présenter quelques recettes. Pour aller plus loin, consultez la [documentation](https://altair-viz.github.io).\n",
    "\n",
    "Pour initialiser un graphique, on utilise la fonction `Chart`, dont l'argument est un `pandas.DataFrame`. Ensuite on indique le type de graphique: `mark_bar` pour un graphique en barre (je couvrirai d'autres types au fur et à mesure). Puis on encode les propriétés des axes x et y. Dans l'encodage, il est possible de spécifier certaines propriétés, dont le titre des axes et la manière de trier les données dans le graphique."
   ]
  },
  {
   "cell_type": "code",
   "execution_count": 8,
   "metadata": {},
   "outputs": [
    {
     "name": "stderr",
     "output_type": "stream",
     "text": [
      "/home/essicolo/bin/anaconda3/lib/python3.6/site-packages/altair/utils/core.py:110: FutureWarning: pandas.lib is deprecated and will be removed in a future version.\n",
      "You can access infer_dtype as pandas.api.types.infer_dtype\n",
      "  typ = pd.lib.infer_dtype(data)\n"
     ]
    },
    {
     "data": {
      "text/html": [
       "<div class=\"vega-embed\" id=\"2a9d3fbb-223b-41b4-8d06-914770602428\"></div>\n",
       "\n",
       "<style>\n",
       ".vega-embed svg, .vega-embed canvas {\n",
       "  border: 1px dotted gray;\n",
       "}\n",
       "\n",
       ".vega-embed .vega-actions a {\n",
       "  margin-right: 6px;\n",
       "}\n",
       "</style>\n"
      ]
     },
     "metadata": {
      "jupyter-vega": "#2a9d3fbb-223b-41b4-8d06-914770602428"
     },
     "output_type": "display_data"
    },
    {
     "data": {
      "application/javascript": [
       "var spec = {\"config\": {\"cell\": {\"width\": 500, \"height\": 350}}, \"encoding\": {\"x\": {\"field\": \"Value\", \"title\": \"Number of critically endangered species\", \"type\": \"quantitative\"}, \"y\": {\"field\": \"Country\", \"sort\": {\"field\": \"Value\", \"op\": \"sum\", \"order\": \"descending\"}, \"type\": \"nominal\"}}, \"mark\": \"bar\", \"data\": {\"values\": [{\"Country\": \"Czech Republic\", \"Value\": 2159.0}, {\"Country\": \"United States\", \"Value\": 1409.0}, {\"Country\": \"Germany\", \"Value\": 915.0}, {\"Country\": \"Japan\", \"Value\": 628.0}, {\"Country\": \"Austria\", \"Value\": 618.0}, {\"Country\": \"Slovak Republic\", \"Value\": 594.0}, {\"Country\": \"Poland\", \"Value\": 485.0}, {\"Country\": \"Switzerland\", \"Value\": 483.0}, {\"Country\": \"Brazil\", \"Value\": 453.0}, {\"Country\": \"Belgium\", \"Value\": 424.0}]}};\n",
       "var selector = \"#2a9d3fbb-223b-41b4-8d06-914770602428\";\n",
       "var type = \"vega-lite\";\n",
       "\n",
       "var output_area = this;\n",
       "require(['nbextensions/jupyter-vega/index'], function(vega) {\n",
       "  vega.render(selector, spec, type, output_area);\n",
       "}, function (err) {\n",
       "  if (err.requireType !== 'scripterror') {\n",
       "    throw(err);\n",
       "  }\n",
       "});\n"
      ]
     },
     "metadata": {
      "jupyter-vega": "#2a9d3fbb-223b-41b4-8d06-914770602428"
     },
     "output_type": "display_data"
    }
   ],
   "source": [
    "bar_especes_crit = Chart(especes_crit_10).\\\n",
    "    mark_bar().\\\n",
    "    encode(x = X('Value', title=\"Number of critically endangered species\"),\n",
    "           y = Y('Country', sort=SortField(field='Value', order='descending', op='sum')))\n",
    "bar_especes_crit"
   ]
  },
  {
   "cell_type": "markdown",
   "metadata": {},
   "source": [
    "Il n'est toujours pas possible d'enregistrer le graphique en format vectoriel (pdf, eps, svg, etc.), mais vous pouvez exporter le graphique en format matriciel (png)."
   ]
  },
  {
   "cell_type": "markdown",
   "metadata": {},
   "source": [
    "#### Barres verticales\n",
    "\n",
    "Pour les catégories ordinales, on utilise des barres vertiales, ordonnées selon l'ordre des catégories. La menace posée sur les espèces est une variable contenant les catégories ordonnées selon la gravité: vulnérable, en danger et critique.\n",
    "\n",
    "Utilisons les opérations en chaîne de `pandas` pour créer un tableau montrant les espèces vulnérables, en danger et en état critique, toutes catégories d'espèces confondues.\n",
    "\n",
    "Description des opérations:\n",
    "\n",
    "1. `loc` filtre le tableau grâce à la méthode `isin` pour ne retenir que les lignes correspondant aux catégories IUCN que nous désirons retenir, puis sélectionne les colonnes désirées.\n",
    "2. `groupby` regroupe les colonnes par pays et par IUCN.\n",
    "3. On effectue la somme de ces regroupement, qui par élimination est appliquée à la colonne `Value`."
   ]
  },
  {
   "cell_type": "code",
   "execution_count": 9,
   "metadata": {},
   "outputs": [
    {
     "data": {
      "text/html": [
       "<div>\n",
       "<style>\n",
       "    .dataframe thead tr:only-child th {\n",
       "        text-align: right;\n",
       "    }\n",
       "\n",
       "    .dataframe thead th {\n",
       "        text-align: left;\n",
       "    }\n",
       "\n",
       "    .dataframe tbody tr th {\n",
       "        vertical-align: top;\n",
       "    }\n",
       "</style>\n",
       "<table border=\"1\" class=\"dataframe\">\n",
       "  <thead>\n",
       "    <tr style=\"text-align: right;\">\n",
       "      <th></th>\n",
       "      <th>IUCN</th>\n",
       "      <th>Value</th>\n",
       "      <th>Tri</th>\n",
       "    </tr>\n",
       "  </thead>\n",
       "  <tbody>\n",
       "    <tr>\n",
       "      <th>0</th>\n",
       "      <td>CRITICAL</td>\n",
       "      <td>11072.0</td>\n",
       "      <td>3</td>\n",
       "    </tr>\n",
       "    <tr>\n",
       "      <th>1</th>\n",
       "      <td>ENDANGERED</td>\n",
       "      <td>16837.0</td>\n",
       "      <td>2</td>\n",
       "    </tr>\n",
       "    <tr>\n",
       "      <th>2</th>\n",
       "      <td>VULNERABLE</td>\n",
       "      <td>26435.0</td>\n",
       "      <td>1</td>\n",
       "    </tr>\n",
       "  </tbody>\n",
       "</table>\n",
       "</div>"
      ],
      "text/plain": [
       "         IUCN    Value  Tri\n",
       "0    CRITICAL  11072.0    3\n",
       "1  ENDANGERED  16837.0    2\n",
       "2  VULNERABLE  26435.0    1"
      ]
     },
     "execution_count": 9,
     "metadata": {},
     "output_type": "execute_result"
    }
   ],
   "source": [
    "especes_iucn = especes_menacees.\\\n",
    "    loc[especes_menacees.IUCN.isin(['ENDANGERED', 'VULNERABLE', 'CRITICAL']),\n",
    "        ['IUCN', 'Value']].\\\n",
    "    groupby('IUCN').\\\n",
    "    sum()\n",
    "especes_iucn.reset_index(inplace=True)\n",
    "especes_iucn['Tri'] = [3, 2, 1]\n",
    "especes_iucn"
   ]
  },
  {
   "cell_type": "code",
   "execution_count": 10,
   "metadata": {},
   "outputs": [
    {
     "data": {
      "text/html": [
       "<div class=\"vega-embed\" id=\"721a3b65-8cee-47ae-8a59-08a2c8245486\"></div>\n",
       "\n",
       "<style>\n",
       ".vega-embed svg, .vega-embed canvas {\n",
       "  border: 1px dotted gray;\n",
       "}\n",
       "\n",
       ".vega-embed .vega-actions a {\n",
       "  margin-right: 6px;\n",
       "}\n",
       "</style>\n"
      ]
     },
     "metadata": {
      "jupyter-vega": "#721a3b65-8cee-47ae-8a59-08a2c8245486"
     },
     "output_type": "display_data"
    },
    {
     "data": {
      "application/javascript": [
       "var spec = {\"config\": {\"cell\": {\"width\": 500, \"height\": 350}}, \"encoding\": {\"x\": {\"field\": \"IUCN\", \"sort\": {\"field\": \"Tri\", \"op\": \"sum\", \"order\": \"ascending\"}, \"type\": \"nominal\"}, \"y\": {\"field\": \"Value\", \"type\": \"quantitative\"}}, \"mark\": \"bar\", \"data\": {\"values\": [{\"IUCN\": \"CRITICAL\", \"Value\": 11072.0, \"Tri\": 3}, {\"IUCN\": \"ENDANGERED\", \"Value\": 16837.0, \"Tri\": 2}, {\"IUCN\": \"VULNERABLE\", \"Value\": 26435.0, \"Tri\": 1}]}};\n",
       "var selector = \"#721a3b65-8cee-47ae-8a59-08a2c8245486\";\n",
       "var type = \"vega-lite\";\n",
       "\n",
       "var output_area = this;\n",
       "require(['nbextensions/jupyter-vega/index'], function(vega) {\n",
       "  vega.render(selector, spec, type, output_area);\n",
       "}, function (err) {\n",
       "  if (err.requireType !== 'scripterror') {\n",
       "    throw(err);\n",
       "  }\n",
       "});\n"
      ]
     },
     "metadata": {
      "jupyter-vega": "#721a3b65-8cee-47ae-8a59-08a2c8245486"
     },
     "output_type": "display_data"
    },
    {
     "data": {
      "image/png": "[encoded data removed]"
     },
     "metadata": {
      "jupyter-vega": "#721a3b65-8cee-47ae-8a59-08a2c8245486"
     },
     "output_type": "display_data"
    }
   ],
   "source": [
    "iucn_barres = Chart(especes_iucn).\\\n",
    "    mark_bar().\\\n",
    "    encode(x = X('IUCN', sort=SortField(field='Tri', order='ascending', op='sum')),\n",
    "           y = 'Value')\n",
    "iucn_barres"
   ]
  },
  {
   "cell_type": "markdown",
   "metadata": {},
   "source": [
    "#### Barres regroupées\n",
    "\n",
    "Ces diagrammes devraient être utilisés avec un bon jugement: ils peuvent devenir difficilement lisibles s'ils contiennent de nombreuses catégories, et si ces catégories sont hiérarchisées. Ils peuvent néanmoins offir des perspectives intéressantes.\n",
    "\n",
    "Nous utilisons la même chaîne `pandas` que précédemment, mais en ajoutant les pays."
   ]
  },
  {
   "cell_type": "code",
   "execution_count": 11,
   "metadata": {
    "scrolled": true
   },
   "outputs": [
    {
     "data": {
      "text/html": [
       "<div>\n",
       "<style>\n",
       "    .dataframe thead tr:only-child th {\n",
       "        text-align: right;\n",
       "    }\n",
       "\n",
       "    .dataframe thead th {\n",
       "        text-align: left;\n",
       "    }\n",
       "\n",
       "    .dataframe tbody tr th {\n",
       "        vertical-align: top;\n",
       "    }\n",
       "</style>\n",
       "<table border=\"1\" class=\"dataframe\">\n",
       "  <thead>\n",
       "    <tr style=\"text-align: right;\">\n",
       "      <th></th>\n",
       "      <th>Country</th>\n",
       "      <th>IUCN</th>\n",
       "      <th>Value</th>\n",
       "    </tr>\n",
       "  </thead>\n",
       "  <tbody>\n",
       "    <tr>\n",
       "      <th>0</th>\n",
       "      <td>Australia</td>\n",
       "      <td>CRITICAL</td>\n",
       "      <td>225.0</td>\n",
       "    </tr>\n",
       "    <tr>\n",
       "      <th>1</th>\n",
       "      <td>Australia</td>\n",
       "      <td>ENDANGERED</td>\n",
       "      <td>697.0</td>\n",
       "    </tr>\n",
       "    <tr>\n",
       "      <th>2</th>\n",
       "      <td>Australia</td>\n",
       "      <td>VULNERABLE</td>\n",
       "      <td>822.0</td>\n",
       "    </tr>\n",
       "    <tr>\n",
       "      <th>3</th>\n",
       "      <td>Austria</td>\n",
       "      <td>CRITICAL</td>\n",
       "      <td>618.0</td>\n",
       "    </tr>\n",
       "    <tr>\n",
       "      <th>4</th>\n",
       "      <td>Austria</td>\n",
       "      <td>ENDANGERED</td>\n",
       "      <td>924.0</td>\n",
       "    </tr>\n",
       "    <tr>\n",
       "      <th>5</th>\n",
       "      <td>Austria</td>\n",
       "      <td>VULNERABLE</td>\n",
       "      <td>1284.0</td>\n",
       "    </tr>\n",
       "    <tr>\n",
       "      <th>6</th>\n",
       "      <td>Belgium</td>\n",
       "      <td>CRITICAL</td>\n",
       "      <td>424.0</td>\n",
       "    </tr>\n",
       "    <tr>\n",
       "      <th>7</th>\n",
       "      <td>Belgium</td>\n",
       "      <td>ENDANGERED</td>\n",
       "      <td>333.0</td>\n",
       "    </tr>\n",
       "    <tr>\n",
       "      <th>8</th>\n",
       "      <td>Belgium</td>\n",
       "      <td>VULNERABLE</td>\n",
       "      <td>370.0</td>\n",
       "    </tr>\n",
       "    <tr>\n",
       "      <th>9</th>\n",
       "      <td>Brazil</td>\n",
       "      <td>CRITICAL</td>\n",
       "      <td>453.0</td>\n",
       "    </tr>\n",
       "  </tbody>\n",
       "</table>\n",
       "</div>"
      ],
      "text/plain": [
       "     Country        IUCN   Value\n",
       "0  Australia    CRITICAL   225.0\n",
       "1  Australia  ENDANGERED   697.0\n",
       "2  Australia  VULNERABLE   822.0\n",
       "3    Austria    CRITICAL   618.0\n",
       "4    Austria  ENDANGERED   924.0\n",
       "5    Austria  VULNERABLE  1284.0\n",
       "6    Belgium    CRITICAL   424.0\n",
       "7    Belgium  ENDANGERED   333.0\n",
       "8    Belgium  VULNERABLE   370.0\n",
       "9     Brazil    CRITICAL   453.0"
      ]
     },
     "execution_count": 11,
     "metadata": {},
     "output_type": "execute_result"
    }
   ],
   "source": [
    "especes_pays_iucn = especes_menacees.\\\n",
    "    loc[especes_menacees.IUCN.isin(['ENDANGERED', 'VULNERABLE', 'CRITICAL']),\n",
    "        ['IUCN', 'Country', 'Value']].\\\n",
    "    groupby(['Country', 'IUCN']).\\\n",
    "    sum()\n",
    "especes_pays_iucn.reset_index(inplace=True)\n",
    "especes_pays_iucn.head(10)"
   ]
  },
  {
   "cell_type": "markdown",
   "metadata": {},
   "source": [
    "Ces colonnes permettront de travailler en mode déclaratif, en créant une grille de graphiques en fonction de l'IUCN et en demandant des couleurs selon le pays. Mais tel que mentionné précédemment, un graphique en barres horizontales est préférablement trié. J'utilise ici la méthode `transform` pour ajouter une colonne de tri, qui me permet de trier. "
   ]
  },
  {
   "cell_type": "code",
   "execution_count": 12,
   "metadata": {},
   "outputs": [
    {
     "data": {
      "text/html": [
       "<div>\n",
       "<style>\n",
       "    .dataframe thead tr:only-child th {\n",
       "        text-align: right;\n",
       "    }\n",
       "\n",
       "    .dataframe thead th {\n",
       "        text-align: left;\n",
       "    }\n",
       "\n",
       "    .dataframe tbody tr th {\n",
       "        vertical-align: top;\n",
       "    }\n",
       "</style>\n",
       "<table border=\"1\" class=\"dataframe\">\n",
       "  <thead>\n",
       "    <tr style=\"text-align: right;\">\n",
       "      <th></th>\n",
       "      <th>Country</th>\n",
       "      <th>IUCN</th>\n",
       "      <th>Value</th>\n",
       "      <th>tri</th>\n",
       "    </tr>\n",
       "  </thead>\n",
       "  <tbody>\n",
       "    <tr>\n",
       "      <th>24</th>\n",
       "      <td>Czech Republic</td>\n",
       "      <td>ENDANGERED</td>\n",
       "      <td>2376.0</td>\n",
       "      <td>7540.0</td>\n",
       "    </tr>\n",
       "    <tr>\n",
       "      <th>25</th>\n",
       "      <td>Czech Republic</td>\n",
       "      <td>VULNERABLE</td>\n",
       "      <td>3005.0</td>\n",
       "      <td>7540.0</td>\n",
       "    </tr>\n",
       "    <tr>\n",
       "      <th>23</th>\n",
       "      <td>Czech Republic</td>\n",
       "      <td>CRITICAL</td>\n",
       "      <td>2159.0</td>\n",
       "      <td>7540.0</td>\n",
       "    </tr>\n",
       "    <tr>\n",
       "      <th>109</th>\n",
       "      <td>United States</td>\n",
       "      <td>CRITICAL</td>\n",
       "      <td>1409.0</td>\n",
       "      <td>6005.0</td>\n",
       "    </tr>\n",
       "    <tr>\n",
       "      <th>111</th>\n",
       "      <td>United States</td>\n",
       "      <td>VULNERABLE</td>\n",
       "      <td>2965.0</td>\n",
       "      <td>6005.0</td>\n",
       "    </tr>\n",
       "    <tr>\n",
       "      <th>110</th>\n",
       "      <td>United States</td>\n",
       "      <td>ENDANGERED</td>\n",
       "      <td>1631.0</td>\n",
       "      <td>6005.0</td>\n",
       "    </tr>\n",
       "    <tr>\n",
       "      <th>40</th>\n",
       "      <td>Germany</td>\n",
       "      <td>VULNERABLE</td>\n",
       "      <td>2867.0</td>\n",
       "      <td>5039.0</td>\n",
       "    </tr>\n",
       "    <tr>\n",
       "      <th>39</th>\n",
       "      <td>Germany</td>\n",
       "      <td>ENDANGERED</td>\n",
       "      <td>1257.0</td>\n",
       "      <td>5039.0</td>\n",
       "    </tr>\n",
       "    <tr>\n",
       "      <th>38</th>\n",
       "      <td>Germany</td>\n",
       "      <td>CRITICAL</td>\n",
       "      <td>915.0</td>\n",
       "      <td>5039.0</td>\n",
       "    </tr>\n",
       "    <tr>\n",
       "      <th>89</th>\n",
       "      <td>Slovak Republic</td>\n",
       "      <td>ENDANGERED</td>\n",
       "      <td>731.0</td>\n",
       "      <td>2833.0</td>\n",
       "    </tr>\n",
       "    <tr>\n",
       "      <th>88</th>\n",
       "      <td>Slovak Republic</td>\n",
       "      <td>CRITICAL</td>\n",
       "      <td>594.0</td>\n",
       "      <td>2833.0</td>\n",
       "    </tr>\n",
       "    <tr>\n",
       "      <th>90</th>\n",
       "      <td>Slovak Republic</td>\n",
       "      <td>VULNERABLE</td>\n",
       "      <td>1508.0</td>\n",
       "      <td>2833.0</td>\n",
       "    </tr>\n",
       "  </tbody>\n",
       "</table>\n",
       "</div>"
      ],
      "text/plain": [
       "             Country        IUCN   Value     tri\n",
       "24    Czech Republic  ENDANGERED  2376.0  7540.0\n",
       "25    Czech Republic  VULNERABLE  3005.0  7540.0\n",
       "23    Czech Republic    CRITICAL  2159.0  7540.0\n",
       "109    United States    CRITICAL  1409.0  6005.0\n",
       "111    United States  VULNERABLE  2965.0  6005.0\n",
       "110    United States  ENDANGERED  1631.0  6005.0\n",
       "40           Germany  VULNERABLE  2867.0  5039.0\n",
       "39           Germany  ENDANGERED  1257.0  5039.0\n",
       "38           Germany    CRITICAL   915.0  5039.0\n",
       "89   Slovak Republic  ENDANGERED   731.0  2833.0\n",
       "88   Slovak Republic    CRITICAL   594.0  2833.0\n",
       "90   Slovak Republic  VULNERABLE  1508.0  2833.0"
      ]
     },
     "execution_count": 12,
     "metadata": {},
     "output_type": "execute_result"
    }
   ],
   "source": [
    "especes_pays_iucn['tri'] = especes_pays_iucn['Value'].groupby(especes_pays_iucn['Country']).transform('sum')\n",
    "especes_pays_iucn.sort_values(by='tri', ascending=False, inplace=True)\n",
    "especes_pays_iucn.head(4*3) # il y a 3 catégories, alors si je désire retenir 4 pays, je dois retenir les 12 premières lignes"
   ]
  },
  {
   "cell_type": "markdown",
   "metadata": {},
   "source": [
    "`altair` permet de spécifier les variables pour la séparation des groupes en lignes ou en colonne: nous allons créer une ligne de graphique par IUCN (`row='IUCN'`), et colorer les barres par pays (`color='Country'`). J'ajoute quelques décorations."
   ]
  },
  {
   "cell_type": "code",
   "execution_count": 13,
   "metadata": {},
   "outputs": [
    {
     "data": {
      "text/html": [
       "<div class=\"vega-embed\" id=\"a5748eb4-1c4b-441c-99c8-81ffe2b04b33\"></div>\n",
       "\n",
       "<style>\n",
       ".vega-embed svg, .vega-embed canvas {\n",
       "  border: 1px dotted gray;\n",
       "}\n",
       "\n",
       ".vega-embed .vega-actions a {\n",
       "  margin-right: 6px;\n",
       "}\n",
       "</style>\n"
      ]
     },
     "metadata": {
      "jupyter-vega": "#a5748eb4-1c4b-441c-99c8-81ffe2b04b33"
     },
     "output_type": "display_data"
    },
    {
     "data": {
      "application/javascript": [
       "var spec = {\"config\": {\"cell\": {\"width\": 500, \"height\": 350}, \"facet\": {\"cell\": {\"strokeWidth\": 0.0}}}, \"encoding\": {\"color\": {\"field\": \"Country\", \"type\": \"nominal\"}, \"row\": {\"field\": \"IUCN\", \"type\": \"nominal\"}, \"x\": {\"axis\": {\"grid\": false}, \"field\": \"Value\", \"title\": \"Number of critically endangered species\", \"type\": \"quantitative\"}, \"y\": {\"field\": \"Country\", \"sort\": {\"field\": \"Value\", \"op\": \"sum\", \"order\": \"descending\"}, \"type\": \"nominal\"}}, \"mark\": \"bar\", \"data\": {\"values\": [{\"Country\": \"Czech Republic\", \"IUCN\": \"ENDANGERED\", \"Value\": 2376.0, \"tri\": 7540.0}, {\"Country\": \"Czech Republic\", \"IUCN\": \"VULNERABLE\", \"Value\": 3005.0, \"tri\": 7540.0}, {\"Country\": \"Czech Republic\", \"IUCN\": \"CRITICAL\", \"Value\": 2159.0, \"tri\": 7540.0}, {\"Country\": \"United States\", \"IUCN\": \"CRITICAL\", \"Value\": 1409.0, \"tri\": 6005.0}, {\"Country\": \"United States\", \"IUCN\": \"VULNERABLE\", \"Value\": 2965.0, \"tri\": 6005.0}, {\"Country\": \"United States\", \"IUCN\": \"ENDANGERED\", \"Value\": 1631.0, \"tri\": 6005.0}, {\"Country\": \"Germany\", \"IUCN\": \"VULNERABLE\", \"Value\": 2867.0, \"tri\": 5039.0}, {\"Country\": \"Germany\", \"IUCN\": \"ENDANGERED\", \"Value\": 1257.0, \"tri\": 5039.0}, {\"Country\": \"Germany\", \"IUCN\": \"CRITICAL\", \"Value\": 915.0, \"tri\": 5039.0}, {\"Country\": \"Slovak Republic\", \"IUCN\": \"ENDANGERED\", \"Value\": 731.0, \"tri\": 2833.0}, {\"Country\": \"Slovak Republic\", \"IUCN\": \"CRITICAL\", \"Value\": 594.0, \"tri\": 2833.0}, {\"Country\": \"Slovak Republic\", \"IUCN\": \"VULNERABLE\", \"Value\": 1508.0, \"tri\": 2833.0}, {\"Country\": \"Austria\", \"IUCN\": \"VULNERABLE\", \"Value\": 1284.0, \"tri\": 2826.0}, {\"Country\": \"Austria\", \"IUCN\": \"ENDANGERED\", \"Value\": 924.0, \"tri\": 2826.0}, {\"Country\": \"Austria\", \"IUCN\": \"CRITICAL\", \"Value\": 618.0, \"tri\": 2826.0}, {\"Country\": \"Switzerland\", \"IUCN\": \"VULNERABLE\", \"Value\": 1332.0, \"tri\": 2571.0}, {\"Country\": \"Switzerland\", \"IUCN\": \"ENDANGERED\", \"Value\": 756.0, \"tri\": 2571.0}, {\"Country\": \"Switzerland\", \"IUCN\": \"CRITICAL\", \"Value\": 483.0, \"tri\": 2571.0}, {\"Country\": \"Japan\", \"IUCN\": \"VULNERABLE\", \"Value\": 1035.0, \"tri\": 2497.0}, {\"Country\": \"Japan\", \"IUCN\": \"ENDANGERED\", \"Value\": 834.0, \"tri\": 2497.0}, {\"Country\": \"Japan\", \"IUCN\": \"CRITICAL\", \"Value\": 628.0, \"tri\": 2497.0}, {\"Country\": \"Poland\", \"IUCN\": \"CRITICAL\", \"Value\": 485.0, \"tri\": 2308.0}, {\"Country\": \"Poland\", \"IUCN\": \"ENDANGERED\", \"Value\": 798.0, \"tri\": 2308.0}, {\"Country\": \"Poland\", \"IUCN\": \"VULNERABLE\", \"Value\": 1025.0, \"tri\": 2308.0}]}};\n",
       "var selector = \"#a5748eb4-1c4b-441c-99c8-81ffe2b04b33\";\n",
       "var type = \"vega-lite\";\n",
       "\n",
       "var output_area = this;\n",
       "require(['nbextensions/jupyter-vega/index'], function(vega) {\n",
       "  vega.render(selector, spec, type, output_area);\n",
       "}, function (err) {\n",
       "  if (err.requireType !== 'scripterror') {\n",
       "    throw(err);\n",
       "  }\n",
       "});\n"
      ]
     },
     "metadata": {
      "jupyter-vega": "#a5748eb4-1c4b-441c-99c8-81ffe2b04b33"
     },
     "output_type": "display_data"
    },
    {
     "data": {
      "image/png": "[encoded data removed]"
     },
     "metadata": {
      "jupyter-vega": "#a5748eb4-1c4b-441c-99c8-81ffe2b04b33"
     },
     "output_type": "display_data"
    }
   ],
   "source": [
    "bar_especes_group = Chart(especes_pays_iucn.head(8*3)).\\\n",
    "    mark_bar().\\\n",
    "    encode(x = X('Value', title=\"Number of critically endangered species\", axis=Axis(grid=False)),\n",
    "           y = Y('Country', sort=SortField(field='Value', order='descending', op='sum')),\n",
    "          row='IUCN',\n",
    "          color='Country').\\\n",
    "    configure_facet_cell(strokeWidth=0.0)\n",
    "bar_especes_group"
   ]
  },
  {
   "cell_type": "markdown",
   "metadata": {},
   "source": [
    "Les barres ne sont pas triées par regroupement de ligne (l'Autriche a davantage d'espèces en danger que la Slovaquie). En fait, les barres sont triées par la somme totale (`op='sum'`)."
   ]
  },
  {
   "cell_type": "markdown",
   "metadata": {},
   "source": [
    "#### Barres empilées\n",
    "\n",
    "Les barres empilées sont d'excellentes options pour représenter des proportions. J'utilise un truc pour calculer les proportions, puis je filtre pour obtenir seulement les proportions des 10 pays ayant le plus d'espèces menacées en nombres absolus."
   ]
  },
  {
   "cell_type": "code",
   "execution_count": 14,
   "metadata": {},
   "outputs": [
    {
     "data": {
      "text/html": [
       "<div>\n",
       "<style>\n",
       "    .dataframe thead tr:only-child th {\n",
       "        text-align: right;\n",
       "    }\n",
       "\n",
       "    .dataframe thead th {\n",
       "        text-align: left;\n",
       "    }\n",
       "\n",
       "    .dataframe tbody tr th {\n",
       "        vertical-align: top;\n",
       "    }\n",
       "</style>\n",
       "<table border=\"1\" class=\"dataframe\">\n",
       "  <thead>\n",
       "    <tr style=\"text-align: right;\">\n",
       "      <th></th>\n",
       "      <th>Country</th>\n",
       "      <th>IUCN</th>\n",
       "      <th>Value</th>\n",
       "      <th>tri</th>\n",
       "      <th>Proportion</th>\n",
       "    </tr>\n",
       "  </thead>\n",
       "  <tbody>\n",
       "    <tr>\n",
       "      <th>24</th>\n",
       "      <td>Czech Republic</td>\n",
       "      <td>ENDANGERED</td>\n",
       "      <td>2376.0</td>\n",
       "      <td>7540.0</td>\n",
       "      <td>0.315119</td>\n",
       "    </tr>\n",
       "    <tr>\n",
       "      <th>25</th>\n",
       "      <td>Czech Republic</td>\n",
       "      <td>VULNERABLE</td>\n",
       "      <td>3005.0</td>\n",
       "      <td>7540.0</td>\n",
       "      <td>0.398541</td>\n",
       "    </tr>\n",
       "    <tr>\n",
       "      <th>23</th>\n",
       "      <td>Czech Republic</td>\n",
       "      <td>CRITICAL</td>\n",
       "      <td>2159.0</td>\n",
       "      <td>7540.0</td>\n",
       "      <td>0.28634</td>\n",
       "    </tr>\n",
       "    <tr>\n",
       "      <th>109</th>\n",
       "      <td>United States</td>\n",
       "      <td>CRITICAL</td>\n",
       "      <td>1409.0</td>\n",
       "      <td>6005.0</td>\n",
       "      <td>0.234638</td>\n",
       "    </tr>\n",
       "    <tr>\n",
       "      <th>111</th>\n",
       "      <td>United States</td>\n",
       "      <td>VULNERABLE</td>\n",
       "      <td>2965.0</td>\n",
       "      <td>6005.0</td>\n",
       "      <td>0.493755</td>\n",
       "    </tr>\n",
       "    <tr>\n",
       "      <th>110</th>\n",
       "      <td>United States</td>\n",
       "      <td>ENDANGERED</td>\n",
       "      <td>1631.0</td>\n",
       "      <td>6005.0</td>\n",
       "      <td>0.271607</td>\n",
       "    </tr>\n",
       "  </tbody>\n",
       "</table>\n",
       "</div>"
      ],
      "text/plain": [
       "            Country        IUCN   Value     tri Proportion\n",
       "24   Czech Republic  ENDANGERED  2376.0  7540.0   0.315119\n",
       "25   Czech Republic  VULNERABLE  3005.0  7540.0   0.398541\n",
       "23   Czech Republic    CRITICAL  2159.0  7540.0    0.28634\n",
       "109   United States    CRITICAL  1409.0  6005.0   0.234638\n",
       "111   United States  VULNERABLE  2965.0  6005.0   0.493755\n",
       "110   United States  ENDANGERED  1631.0  6005.0   0.271607"
      ]
     },
     "execution_count": 14,
     "metadata": {},
     "output_type": "execute_result"
    }
   ],
   "source": [
    "especes_pays_iucn['Proportion'] = especes_pays_iucn.Value / especes_pays_iucn.groupby('Country').transform('sum').Value\n",
    "especes_pays_iucn_10 = especes_pays_iucn.loc[especes_pays_iucn.Country.isin(especes_crit_10.Country), :]\n",
    "especes_pays_iucn_10.head(6)"
   ]
  },
  {
   "cell_type": "markdown",
   "metadata": {},
   "source": [
    "Pour empiler les barres l'une sur l'autre, il faut utiliser l'option `sum` dans l'encodage des valeurs. En valeurs absolus:"
   ]
  },
  {
   "cell_type": "code",
   "execution_count": 15,
   "metadata": {},
   "outputs": [
    {
     "data": {
      "text/html": [
       "<div class=\"vega-embed\" id=\"02583a4b-9219-4410-93a0-d2db9bc59df7\"></div>\n",
       "\n",
       "<style>\n",
       ".vega-embed svg, .vega-embed canvas {\n",
       "  border: 1px dotted gray;\n",
       "}\n",
       "\n",
       ".vega-embed .vega-actions a {\n",
       "  margin-right: 6px;\n",
       "}\n",
       "</style>\n"
      ]
     },
     "metadata": {
      "jupyter-vega": "#02583a4b-9219-4410-93a0-d2db9bc59df7"
     },
     "output_type": "display_data"
    },
    {
     "data": {
      "application/javascript": [
       "var spec = {\"config\": {\"cell\": {\"width\": 500, \"height\": 350}}, \"encoding\": {\"color\": {\"field\": \"IUCN\", \"type\": \"nominal\"}, \"x\": {\"aggregate\": \"sum\", \"field\": \"Value\", \"title\": \"Nombre d'esp\\u00e8ces\", \"type\": \"quantitative\"}, \"y\": {\"field\": \"Country\", \"sort\": {\"field\": \"tri\", \"op\": \"sum\", \"order\": \"descending\"}, \"title\": \"Pays\", \"type\": \"nominal\"}}, \"mark\": \"bar\", \"data\": {\"values\": [{\"Country\": \"Czech Republic\", \"IUCN\": \"ENDANGERED\", \"Value\": 2376.0, \"tri\": 7540.0, \"Proportion\": 0.31511936339522545}, {\"Country\": \"Czech Republic\", \"IUCN\": \"VULNERABLE\", \"Value\": 3005.0, \"tri\": 7540.0, \"Proportion\": 0.39854111405835546}, {\"Country\": \"Czech Republic\", \"IUCN\": \"CRITICAL\", \"Value\": 2159.0, \"tri\": 7540.0, \"Proportion\": 0.2863395225464191}, {\"Country\": \"United States\", \"IUCN\": \"CRITICAL\", \"Value\": 1409.0, \"tri\": 6005.0, \"Proportion\": 0.23463780183180682}, {\"Country\": \"United States\", \"IUCN\": \"VULNERABLE\", \"Value\": 2965.0, \"tri\": 6005.0, \"Proportion\": 0.49375520399666945}, {\"Country\": \"United States\", \"IUCN\": \"ENDANGERED\", \"Value\": 1631.0, \"tri\": 6005.0, \"Proportion\": 0.27160699417152373}, {\"Country\": \"Germany\", \"IUCN\": \"VULNERABLE\", \"Value\": 2867.0, \"tri\": 5039.0, \"Proportion\": 0.5689620956538995}, {\"Country\": \"Germany\", \"IUCN\": \"ENDANGERED\", \"Value\": 1257.0, \"tri\": 5039.0, \"Proportion\": 0.24945425679698352}, {\"Country\": \"Germany\", \"IUCN\": \"CRITICAL\", \"Value\": 915.0, \"tri\": 5039.0, \"Proportion\": 0.18158364754911688}, {\"Country\": \"Slovak Republic\", \"IUCN\": \"ENDANGERED\", \"Value\": 731.0, \"tri\": 2833.0, \"Proportion\": 0.25803035651253087}, {\"Country\": \"Slovak Republic\", \"IUCN\": \"CRITICAL\", \"Value\": 594.0, \"tri\": 2833.0, \"Proportion\": 0.2096717260854218}, {\"Country\": \"Slovak Republic\", \"IUCN\": \"VULNERABLE\", \"Value\": 1508.0, \"tri\": 2833.0, \"Proportion\": 0.5322979174020473}, {\"Country\": \"Austria\", \"IUCN\": \"VULNERABLE\", \"Value\": 1284.0, \"tri\": 2826.0, \"Proportion\": 0.4543524416135881}, {\"Country\": \"Austria\", \"IUCN\": \"ENDANGERED\", \"Value\": 924.0, \"tri\": 2826.0, \"Proportion\": 0.32696390658174096}, {\"Country\": \"Austria\", \"IUCN\": \"CRITICAL\", \"Value\": 618.0, \"tri\": 2826.0, \"Proportion\": 0.21868365180467092}, {\"Country\": \"Switzerland\", \"IUCN\": \"VULNERABLE\", \"Value\": 1332.0, \"tri\": 2571.0, \"Proportion\": 0.5180863477246208}, {\"Country\": \"Switzerland\", \"IUCN\": \"ENDANGERED\", \"Value\": 756.0, \"tri\": 2571.0, \"Proportion\": 0.294049008168028}, {\"Country\": \"Switzerland\", \"IUCN\": \"CRITICAL\", \"Value\": 483.0, \"tri\": 2571.0, \"Proportion\": 0.18786464410735124}, {\"Country\": \"Japan\", \"IUCN\": \"VULNERABLE\", \"Value\": 1035.0, \"tri\": 2497.0, \"Proportion\": 0.4144973968762515}, {\"Country\": \"Japan\", \"IUCN\": \"ENDANGERED\", \"Value\": 834.0, \"tri\": 2497.0, \"Proportion\": 0.33400080096115337}, {\"Country\": \"Japan\", \"IUCN\": \"CRITICAL\", \"Value\": 628.0, \"tri\": 2497.0, \"Proportion\": 0.2515018021625951}, {\"Country\": \"Poland\", \"IUCN\": \"CRITICAL\", \"Value\": 485.0, \"tri\": 2308.0, \"Proportion\": 0.21013864818024264}, {\"Country\": \"Poland\", \"IUCN\": \"ENDANGERED\", \"Value\": 798.0, \"tri\": 2308.0, \"Proportion\": 0.34575389948006935}, {\"Country\": \"Poland\", \"IUCN\": \"VULNERABLE\", \"Value\": 1025.0, \"tri\": 2308.0, \"Proportion\": 0.44410745233968807}, {\"Country\": \"Brazil\", \"IUCN\": \"ENDANGERED\", \"Value\": 532.0, \"tri\": 1581.0, \"Proportion\": 0.33649588867805186}, {\"Country\": \"Brazil\", \"IUCN\": \"CRITICAL\", \"Value\": 453.0, \"tri\": 1581.0, \"Proportion\": 0.286527514231499}, {\"Country\": \"Brazil\", \"IUCN\": \"VULNERABLE\", \"Value\": 596.0, \"tri\": 1581.0, \"Proportion\": 0.37697659709044906}, {\"Country\": \"Belgium\", \"IUCN\": \"ENDANGERED\", \"Value\": 333.0, \"tri\": 1127.0, \"Proportion\": 0.29547471162378}, {\"Country\": \"Belgium\", \"IUCN\": \"CRITICAL\", \"Value\": 424.0, \"tri\": 1127.0, \"Proportion\": 0.3762200532386868}, {\"Country\": \"Belgium\", \"IUCN\": \"VULNERABLE\", \"Value\": 370.0, \"tri\": 1127.0, \"Proportion\": 0.3283052351375333}]}};\n",
       "var selector = \"#02583a4b-9219-4410-93a0-d2db9bc59df7\";\n",
       "var type = \"vega-lite\";\n",
       "\n",
       "var output_area = this;\n",
       "require(['nbextensions/jupyter-vega/index'], function(vega) {\n",
       "  vega.render(selector, spec, type, output_area);\n",
       "}, function (err) {\n",
       "  if (err.requireType !== 'scripterror') {\n",
       "    throw(err);\n",
       "  }\n",
       "});\n"
      ]
     },
     "metadata": {
      "jupyter-vega": "#02583a4b-9219-4410-93a0-d2db9bc59df7"
     },
     "output_type": "display_data"
    },
    {
     "data": {
      "image/png": "[encoded data removed]"
     },
     "metadata": {
      "jupyter-vega": "#02583a4b-9219-4410-93a0-d2db9bc59df7"
     },
     "output_type": "display_data"
    }
   ],
   "source": [
    "bar_especes_pays_iucn_10_v = Chart(especes_pays_iucn_10).\\\n",
    "    mark_bar().\\\n",
    "    encode(x = X('sum(Value)', title=\"Nombre d'espèces\"),\n",
    "           y = Y('Country', title=\"Pays\", sort=SortField(field='tri', order='descending', op='sum')),\n",
    "          color='IUCN')\n",
    "bar_especes_pays_iucn_10_v"
   ]
  },
  {
   "cell_type": "markdown",
   "metadata": {},
   "source": [
    "Et en termes relatifs."
   ]
  },
  {
   "cell_type": "code",
   "execution_count": 16,
   "metadata": {
    "scrolled": false
   },
   "outputs": [
    {
     "data": {
      "text/html": [
       "<div class=\"vega-embed\" id=\"4ebb8324-ed5d-4e2e-af82-fb29031900e8\"></div>\n",
       "\n",
       "<style>\n",
       ".vega-embed svg, .vega-embed canvas {\n",
       "  border: 1px dotted gray;\n",
       "}\n",
       "\n",
       ".vega-embed .vega-actions a {\n",
       "  margin-right: 6px;\n",
       "}\n",
       "</style>\n"
      ]
     },
     "metadata": {
      "jupyter-vega": "#4ebb8324-ed5d-4e2e-af82-fb29031900e8"
     },
     "output_type": "display_data"
    },
    {
     "data": {
      "application/javascript": [
       "var spec = {\"config\": {\"cell\": {\"width\": 500, \"height\": 350}}, \"encoding\": {\"color\": {\"field\": \"IUCN\", \"type\": \"nominal\"}, \"x\": {\"aggregate\": \"sum\", \"field\": \"Proportion\", \"title\": \"Proportion d'esp\\u00e8ces\", \"type\": \"quantitative\"}, \"y\": {\"field\": \"Country\", \"title\": \"Pays\", \"type\": \"nominal\"}}, \"mark\": \"bar\", \"data\": {\"values\": [{\"Country\": \"Czech Republic\", \"IUCN\": \"ENDANGERED\", \"Value\": 2376.0, \"tri\": 7540.0, \"Proportion\": 0.31511936339522545}, {\"Country\": \"Czech Republic\", \"IUCN\": \"VULNERABLE\", \"Value\": 3005.0, \"tri\": 7540.0, \"Proportion\": 0.39854111405835546}, {\"Country\": \"Czech Republic\", \"IUCN\": \"CRITICAL\", \"Value\": 2159.0, \"tri\": 7540.0, \"Proportion\": 0.2863395225464191}, {\"Country\": \"United States\", \"IUCN\": \"CRITICAL\", \"Value\": 1409.0, \"tri\": 6005.0, \"Proportion\": 0.23463780183180682}, {\"Country\": \"United States\", \"IUCN\": \"VULNERABLE\", \"Value\": 2965.0, \"tri\": 6005.0, \"Proportion\": 0.49375520399666945}, {\"Country\": \"United States\", \"IUCN\": \"ENDANGERED\", \"Value\": 1631.0, \"tri\": 6005.0, \"Proportion\": 0.27160699417152373}, {\"Country\": \"Germany\", \"IUCN\": \"VULNERABLE\", \"Value\": 2867.0, \"tri\": 5039.0, \"Proportion\": 0.5689620956538995}, {\"Country\": \"Germany\", \"IUCN\": \"ENDANGERED\", \"Value\": 1257.0, \"tri\": 5039.0, \"Proportion\": 0.24945425679698352}, {\"Country\": \"Germany\", \"IUCN\": \"CRITICAL\", \"Value\": 915.0, \"tri\": 5039.0, \"Proportion\": 0.18158364754911688}, {\"Country\": \"Slovak Republic\", \"IUCN\": \"ENDANGERED\", \"Value\": 731.0, \"tri\": 2833.0, \"Proportion\": 0.25803035651253087}, {\"Country\": \"Slovak Republic\", \"IUCN\": \"CRITICAL\", \"Value\": 594.0, \"tri\": 2833.0, \"Proportion\": 0.2096717260854218}, {\"Country\": \"Slovak Republic\", \"IUCN\": \"VULNERABLE\", \"Value\": 1508.0, \"tri\": 2833.0, \"Proportion\": 0.5322979174020473}, {\"Country\": \"Austria\", \"IUCN\": \"VULNERABLE\", \"Value\": 1284.0, \"tri\": 2826.0, \"Proportion\": 0.4543524416135881}, {\"Country\": \"Austria\", \"IUCN\": \"ENDANGERED\", \"Value\": 924.0, \"tri\": 2826.0, \"Proportion\": 0.32696390658174096}, {\"Country\": \"Austria\", \"IUCN\": \"CRITICAL\", \"Value\": 618.0, \"tri\": 2826.0, \"Proportion\": 0.21868365180467092}, {\"Country\": \"Switzerland\", \"IUCN\": \"VULNERABLE\", \"Value\": 1332.0, \"tri\": 2571.0, \"Proportion\": 0.5180863477246208}, {\"Country\": \"Switzerland\", \"IUCN\": \"ENDANGERED\", \"Value\": 756.0, \"tri\": 2571.0, \"Proportion\": 0.294049008168028}, {\"Country\": \"Switzerland\", \"IUCN\": \"CRITICAL\", \"Value\": 483.0, \"tri\": 2571.0, \"Proportion\": 0.18786464410735124}, {\"Country\": \"Japan\", \"IUCN\": \"VULNERABLE\", \"Value\": 1035.0, \"tri\": 2497.0, \"Proportion\": 0.4144973968762515}, {\"Country\": \"Japan\", \"IUCN\": \"ENDANGERED\", \"Value\": 834.0, \"tri\": 2497.0, \"Proportion\": 0.33400080096115337}, {\"Country\": \"Japan\", \"IUCN\": \"CRITICAL\", \"Value\": 628.0, \"tri\": 2497.0, \"Proportion\": 0.2515018021625951}, {\"Country\": \"Poland\", \"IUCN\": \"CRITICAL\", \"Value\": 485.0, \"tri\": 2308.0, \"Proportion\": 0.21013864818024264}, {\"Country\": \"Poland\", \"IUCN\": \"ENDANGERED\", \"Value\": 798.0, \"tri\": 2308.0, \"Proportion\": 0.34575389948006935}, {\"Country\": \"Poland\", \"IUCN\": \"VULNERABLE\", \"Value\": 1025.0, \"tri\": 2308.0, \"Proportion\": 0.44410745233968807}, {\"Country\": \"Brazil\", \"IUCN\": \"ENDANGERED\", \"Value\": 532.0, \"tri\": 1581.0, \"Proportion\": 0.33649588867805186}, {\"Country\": \"Brazil\", \"IUCN\": \"CRITICAL\", \"Value\": 453.0, \"tri\": 1581.0, \"Proportion\": 0.286527514231499}, {\"Country\": \"Brazil\", \"IUCN\": \"VULNERABLE\", \"Value\": 596.0, \"tri\": 1581.0, \"Proportion\": 0.37697659709044906}, {\"Country\": \"Belgium\", \"IUCN\": \"ENDANGERED\", \"Value\": 333.0, \"tri\": 1127.0, \"Proportion\": 0.29547471162378}, {\"Country\": \"Belgium\", \"IUCN\": \"CRITICAL\", \"Value\": 424.0, \"tri\": 1127.0, \"Proportion\": 0.3762200532386868}, {\"Country\": \"Belgium\", \"IUCN\": \"VULNERABLE\", \"Value\": 370.0, \"tri\": 1127.0, \"Proportion\": 0.3283052351375333}]}};\n",
       "var selector = \"#4ebb8324-ed5d-4e2e-af82-fb29031900e8\";\n",
       "var type = \"vega-lite\";\n",
       "\n",
       "var output_area = this;\n",
       "require(['nbextensions/jupyter-vega/index'], function(vega) {\n",
       "  vega.render(selector, spec, type, output_area);\n",
       "}, function (err) {\n",
       "  if (err.requireType !== 'scripterror') {\n",
       "    throw(err);\n",
       "  }\n",
       "});\n"
      ]
     },
     "metadata": {
      "jupyter-vega": "#4ebb8324-ed5d-4e2e-af82-fb29031900e8"
     },
     "output_type": "display_data"
    },
    {
     "data": {
      "image/png": "[encoded data removed]"
     },
     "metadata": {
      "jupyter-vega": "#4ebb8324-ed5d-4e2e-af82-fb29031900e8"
     },
     "output_type": "display_data"
    }
   ],
   "source": [
    "bar_especes_pays_iucn_10_p = Chart(especes_pays_iucn_10).\\\n",
    "    mark_bar().\\\n",
    "    encode(x = X('sum(Proportion)', title=\"Proportion d'espèces\"),\n",
    "           y = Y('Country', title=\"Pays\"),\n",
    "          color='IUCN')\n",
    "bar_especes_pays_iucn_10_p"
   ]
  },
  {
   "cell_type": "markdown",
   "metadata": {},
   "source": [
    "#### Points\n",
    "\n",
    "Remplacez \"barre\" par \"point\" et vous obtiendrez un diagramme en point."
   ]
  },
  {
   "cell_type": "code",
   "execution_count": 51,
   "metadata": {
    "scrolled": false
   },
   "outputs": [
    {
     "data": {
      "text/html": [
       "<div class=\"vega-embed\" id=\"a5ceec8d-c0eb-4670-b08d-f3457e47ebcd\"></div>\n",
       "\n",
       "<style>\n",
       ".vega-embed svg, .vega-embed canvas {\n",
       "  border: 1px dotted gray;\n",
       "}\n",
       "\n",
       ".vega-embed .vega-actions a {\n",
       "  margin-right: 6px;\n",
       "}\n",
       "</style>\n"
      ]
     },
     "metadata": {
      "jupyter-vega": "#a5ceec8d-c0eb-4670-b08d-f3457e47ebcd"
     },
     "output_type": "display_data"
    },
    {
     "data": {
      "application/javascript": [
       "var spec = {\"config\": {\"cell\": {\"width\": 500, \"height\": 350}}, \"encoding\": {\"color\": {\"field\": \"IUCN\", \"type\": \"nominal\"}, \"x\": {\"aggregate\": \"sum\", \"field\": \"Value\", \"title\": \"Nombre d'esp\\u00e8ces\", \"type\": \"quantitative\"}, \"y\": {\"field\": \"Country\", \"sort\": {\"field\": \"tri\", \"op\": \"sum\", \"order\": \"descending\"}, \"title\": \"Pays\", \"type\": \"nominal\"}}, \"mark\": \"point\", \"data\": {\"values\": [{\"Country\": \"Czech Republic\", \"IUCN\": \"ENDANGERED\", \"Value\": 2376.0, \"tri\": 7540.0, \"Proportion\": 0.31511936339522545}, {\"Country\": \"Czech Republic\", \"IUCN\": \"VULNERABLE\", \"Value\": 3005.0, \"tri\": 7540.0, \"Proportion\": 0.39854111405835546}, {\"Country\": \"Czech Republic\", \"IUCN\": \"CRITICAL\", \"Value\": 2159.0, \"tri\": 7540.0, \"Proportion\": 0.2863395225464191}, {\"Country\": \"United States\", \"IUCN\": \"CRITICAL\", \"Value\": 1409.0, \"tri\": 6005.0, \"Proportion\": 0.23463780183180682}, {\"Country\": \"United States\", \"IUCN\": \"VULNERABLE\", \"Value\": 2965.0, \"tri\": 6005.0, \"Proportion\": 0.49375520399666945}, {\"Country\": \"United States\", \"IUCN\": \"ENDANGERED\", \"Value\": 1631.0, \"tri\": 6005.0, \"Proportion\": 0.27160699417152373}, {\"Country\": \"Germany\", \"IUCN\": \"VULNERABLE\", \"Value\": 2867.0, \"tri\": 5039.0, \"Proportion\": 0.5689620956538995}, {\"Country\": \"Germany\", \"IUCN\": \"ENDANGERED\", \"Value\": 1257.0, \"tri\": 5039.0, \"Proportion\": 0.24945425679698352}, {\"Country\": \"Germany\", \"IUCN\": \"CRITICAL\", \"Value\": 915.0, \"tri\": 5039.0, \"Proportion\": 0.18158364754911688}, {\"Country\": \"Slovak Republic\", \"IUCN\": \"ENDANGERED\", \"Value\": 731.0, \"tri\": 2833.0, \"Proportion\": 0.25803035651253087}, {\"Country\": \"Slovak Republic\", \"IUCN\": \"CRITICAL\", \"Value\": 594.0, \"tri\": 2833.0, \"Proportion\": 0.2096717260854218}, {\"Country\": \"Slovak Republic\", \"IUCN\": \"VULNERABLE\", \"Value\": 1508.0, \"tri\": 2833.0, \"Proportion\": 0.5322979174020473}, {\"Country\": \"Austria\", \"IUCN\": \"VULNERABLE\", \"Value\": 1284.0, \"tri\": 2826.0, \"Proportion\": 0.4543524416135881}, {\"Country\": \"Austria\", \"IUCN\": \"ENDANGERED\", \"Value\": 924.0, \"tri\": 2826.0, \"Proportion\": 0.32696390658174096}, {\"Country\": \"Austria\", \"IUCN\": \"CRITICAL\", \"Value\": 618.0, \"tri\": 2826.0, \"Proportion\": 0.21868365180467092}, {\"Country\": \"Switzerland\", \"IUCN\": \"VULNERABLE\", \"Value\": 1332.0, \"tri\": 2571.0, \"Proportion\": 0.5180863477246208}, {\"Country\": \"Switzerland\", \"IUCN\": \"ENDANGERED\", \"Value\": 756.0, \"tri\": 2571.0, \"Proportion\": 0.294049008168028}, {\"Country\": \"Switzerland\", \"IUCN\": \"CRITICAL\", \"Value\": 483.0, \"tri\": 2571.0, \"Proportion\": 0.18786464410735124}, {\"Country\": \"Japan\", \"IUCN\": \"VULNERABLE\", \"Value\": 1035.0, \"tri\": 2497.0, \"Proportion\": 0.4144973968762515}, {\"Country\": \"Japan\", \"IUCN\": \"ENDANGERED\", \"Value\": 834.0, \"tri\": 2497.0, \"Proportion\": 0.33400080096115337}, {\"Country\": \"Japan\", \"IUCN\": \"CRITICAL\", \"Value\": 628.0, \"tri\": 2497.0, \"Proportion\": 0.2515018021625951}, {\"Country\": \"Poland\", \"IUCN\": \"CRITICAL\", \"Value\": 485.0, \"tri\": 2308.0, \"Proportion\": 0.21013864818024264}, {\"Country\": \"Poland\", \"IUCN\": \"ENDANGERED\", \"Value\": 798.0, \"tri\": 2308.0, \"Proportion\": 0.34575389948006935}, {\"Country\": \"Poland\", \"IUCN\": \"VULNERABLE\", \"Value\": 1025.0, \"tri\": 2308.0, \"Proportion\": 0.44410745233968807}, {\"Country\": \"Brazil\", \"IUCN\": \"ENDANGERED\", \"Value\": 532.0, \"tri\": 1581.0, \"Proportion\": 0.33649588867805186}, {\"Country\": \"Brazil\", \"IUCN\": \"CRITICAL\", \"Value\": 453.0, \"tri\": 1581.0, \"Proportion\": 0.286527514231499}, {\"Country\": \"Brazil\", \"IUCN\": \"VULNERABLE\", \"Value\": 596.0, \"tri\": 1581.0, \"Proportion\": 0.37697659709044906}, {\"Country\": \"Belgium\", \"IUCN\": \"ENDANGERED\", \"Value\": 333.0, \"tri\": 1127.0, \"Proportion\": 0.29547471162378}, {\"Country\": \"Belgium\", \"IUCN\": \"CRITICAL\", \"Value\": 424.0, \"tri\": 1127.0, \"Proportion\": 0.3762200532386868}, {\"Country\": \"Belgium\", \"IUCN\": \"VULNERABLE\", \"Value\": 370.0, \"tri\": 1127.0, \"Proportion\": 0.3283052351375333}]}};\n",
       "var selector = \"#a5ceec8d-c0eb-4670-b08d-f3457e47ebcd\";\n",
       "var type = \"vega-lite\";\n",
       "\n",
       "var output_area = this;\n",
       "require(['nbextensions/jupyter-vega/index'], function(vega) {\n",
       "  vega.render(selector, spec, type, output_area);\n",
       "}, function (err) {\n",
       "  if (err.requireType !== 'scripterror') {\n",
       "    throw(err);\n",
       "  }\n",
       "});\n"
      ]
     },
     "metadata": {
      "jupyter-vega": "#a5ceec8d-c0eb-4670-b08d-f3457e47ebcd"
     },
     "output_type": "display_data"
    },
    {
     "data": {
      "image/png": "[encoded data removed]"
     },
     "metadata": {
      "jupyter-vega": "#a5ceec8d-c0eb-4670-b08d-f3457e47ebcd"
     },
     "output_type": "display_data"
    }
   ],
   "source": [
    "Chart(especes_pays_iucn_10).\\\n",
    "    mark_point().\\\n",
    "    encode(x = X('sum(Value)', title=\"Nombre d'espèces\"),\n",
    "           y = Y('Country', title=\"Pays\", sort=SortField(field='tri', order='descending', op='sum')),\n",
    "          color='IUCN')"
   ]
  },
  {
   "cell_type": "markdown",
   "metadata": {},
   "source": [
    "#### Histogramme\n",
    "\n",
    "L'histogramme est un graphique permettant de donner une idée de la distribution des données. Pour le présenter, nous allons utiliser le [tableau de données *iris*](https://fr.wikipedia.org/wiki/Iris_de_Fisher_(jeu_de_données)), de Ronald Fisher (1936), dont les chiffres sont des mesures de dimensions de sépales et de pétales pour différentes espèces d'iris."
   ]
  },
  {
   "cell_type": "code",
   "execution_count": 43,
   "metadata": {},
   "outputs": [
    {
     "data": {
      "text/html": [
       "<div>\n",
       "<style>\n",
       "    .dataframe thead tr:only-child th {\n",
       "        text-align: right;\n",
       "    }\n",
       "\n",
       "    .dataframe thead th {\n",
       "        text-align: left;\n",
       "    }\n",
       "\n",
       "    .dataframe tbody tr th {\n",
       "        vertical-align: top;\n",
       "    }\n",
       "</style>\n",
       "<table border=\"1\" class=\"dataframe\">\n",
       "  <thead>\n",
       "    <tr style=\"text-align: right;\">\n",
       "      <th></th>\n",
       "      <th>Sepal.Length</th>\n",
       "      <th>Sepal.Width</th>\n",
       "      <th>Petal.Length</th>\n",
       "      <th>Petal.Width</th>\n",
       "      <th>Species</th>\n",
       "    </tr>\n",
       "    <tr>\n",
       "      <th>ID</th>\n",
       "      <th></th>\n",
       "      <th></th>\n",
       "      <th></th>\n",
       "      <th></th>\n",
       "      <th></th>\n",
       "    </tr>\n",
       "  </thead>\n",
       "  <tbody>\n",
       "    <tr>\n",
       "      <th>1</th>\n",
       "      <td>5.1</td>\n",
       "      <td>3.5</td>\n",
       "      <td>1.4</td>\n",
       "      <td>0.2</td>\n",
       "      <td>setosa</td>\n",
       "    </tr>\n",
       "    <tr>\n",
       "      <th>2</th>\n",
       "      <td>4.9</td>\n",
       "      <td>3.0</td>\n",
       "      <td>1.4</td>\n",
       "      <td>0.2</td>\n",
       "      <td>setosa</td>\n",
       "    </tr>\n",
       "    <tr>\n",
       "      <th>3</th>\n",
       "      <td>4.7</td>\n",
       "      <td>3.2</td>\n",
       "      <td>1.3</td>\n",
       "      <td>0.2</td>\n",
       "      <td>setosa</td>\n",
       "    </tr>\n",
       "    <tr>\n",
       "      <th>4</th>\n",
       "      <td>4.6</td>\n",
       "      <td>3.1</td>\n",
       "      <td>1.5</td>\n",
       "      <td>0.2</td>\n",
       "      <td>setosa</td>\n",
       "    </tr>\n",
       "    <tr>\n",
       "      <th>5</th>\n",
       "      <td>5.0</td>\n",
       "      <td>3.6</td>\n",
       "      <td>1.4</td>\n",
       "      <td>0.2</td>\n",
       "      <td>setosa</td>\n",
       "    </tr>\n",
       "  </tbody>\n",
       "</table>\n",
       "</div>"
      ],
      "text/plain": [
       "    Sepal.Length  Sepal.Width  Petal.Length  Petal.Width Species\n",
       "ID                                                              \n",
       "1            5.1          3.5           1.4          0.2  setosa\n",
       "2            4.9          3.0           1.4          0.2  setosa\n",
       "3            4.7          3.2           1.3          0.2  setosa\n",
       "4            4.6          3.1           1.5          0.2  setosa\n",
       "5            5.0          3.6           1.4          0.2  setosa"
      ]
     },
     "execution_count": 43,
     "metadata": {},
     "output_type": "execute_result"
    }
   ],
   "source": [
    "iris = pd.read_csv('data/iris.csv', sep=',', index_col=0)\n",
    "iris.head()"
   ]
  },
  {
   "cell_type": "markdown",
   "metadata": {},
   "source": [
    "Les chiffres de ce tableau pourraient être organisés en une seule colonne."
   ]
  },
  {
   "cell_type": "code",
   "execution_count": 47,
   "metadata": {},
   "outputs": [
    {
     "data": {
      "text/html": [
       "<div>\n",
       "<style>\n",
       "    .dataframe thead tr:only-child th {\n",
       "        text-align: right;\n",
       "    }\n",
       "\n",
       "    .dataframe thead th {\n",
       "        text-align: left;\n",
       "    }\n",
       "\n",
       "    .dataframe tbody tr th {\n",
       "        vertical-align: top;\n",
       "    }\n",
       "</style>\n",
       "<table border=\"1\" class=\"dataframe\">\n",
       "  <thead>\n",
       "    <tr style=\"text-align: right;\">\n",
       "      <th></th>\n",
       "      <th>Species</th>\n",
       "      <th>variable</th>\n",
       "      <th>value</th>\n",
       "    </tr>\n",
       "  </thead>\n",
       "  <tbody>\n",
       "    <tr>\n",
       "      <th>0</th>\n",
       "      <td>setosa</td>\n",
       "      <td>Sepal.Length</td>\n",
       "      <td>5.1</td>\n",
       "    </tr>\n",
       "    <tr>\n",
       "      <th>1</th>\n",
       "      <td>setosa</td>\n",
       "      <td>Sepal.Length</td>\n",
       "      <td>4.9</td>\n",
       "    </tr>\n",
       "    <tr>\n",
       "      <th>2</th>\n",
       "      <td>setosa</td>\n",
       "      <td>Sepal.Length</td>\n",
       "      <td>4.7</td>\n",
       "    </tr>\n",
       "    <tr>\n",
       "      <th>3</th>\n",
       "      <td>setosa</td>\n",
       "      <td>Sepal.Length</td>\n",
       "      <td>4.6</td>\n",
       "    </tr>\n",
       "    <tr>\n",
       "      <th>4</th>\n",
       "      <td>setosa</td>\n",
       "      <td>Sepal.Length</td>\n",
       "      <td>5.0</td>\n",
       "    </tr>\n",
       "  </tbody>\n",
       "</table>\n",
       "</div>"
      ],
      "text/plain": [
       "  Species      variable  value\n",
       "0  setosa  Sepal.Length    5.1\n",
       "1  setosa  Sepal.Length    4.9\n",
       "2  setosa  Sepal.Length    4.7\n",
       "3  setosa  Sepal.Length    4.6\n",
       "4  setosa  Sepal.Length    5.0"
      ]
     },
     "execution_count": 47,
     "metadata": {},
     "output_type": "execute_result"
    }
   ],
   "source": [
    "iris_m = iris.melt(id_vars='Species')\n",
    "iris_m.head()"
   ]
  },
  {
   "cell_type": "code",
   "execution_count": 50,
   "metadata": {},
   "outputs": [
    {
     "data": {
      "text/html": [
       "<div class=\"vega-embed\" id=\"e01ae399-4bdd-406d-acc3-2dda516d1eee\"></div>\n",
       "\n",
       "<style>\n",
       ".vega-embed svg, .vega-embed canvas {\n",
       "  border: 1px dotted gray;\n",
       "}\n",
       "\n",
       ".vega-embed .vega-actions a {\n",
       "  margin-right: 6px;\n",
       "}\n",
       "</style>\n"
      ]
     },
     "metadata": {
      "jupyter-vega": "#e01ae399-4bdd-406d-acc3-2dda516d1eee"
     },
     "output_type": "display_data"
    },
    {
     "data": {
      "application/javascript": [
       "var spec = {\"config\": {\"cell\": {\"width\": 500, \"height\": 350}}, \"encoding\": {\"x\": {\"bin\": {\"maxbins\": 30.0}, \"field\": \"value\", \"type\": \"quantitative\"}, \"y\": {\"aggregate\": \"count\", \"field\": \"*\", \"type\": \"quantitative\"}}, \"mark\": \"bar\", \"data\": {\"values\": [{\"Species\": \"setosa\", \"variable\": \"Sepal.Length\", \"value\": 5.1}, {\"Species\": \"setosa\", \"variable\": \"Sepal.Length\", \"value\": 4.9}, {\"Species\": \"setosa\", \"variable\": \"Sepal.Length\", \"value\": 4.7}, {\"Species\": \"setosa\", \"variable\": \"Sepal.Length\", \"value\": 4.6}, {\"Species\": \"setosa\", \"variable\": \"Sepal.Length\", \"value\": 5.0}, {\"Species\": \"setosa\", \"variable\": \"Sepal.Length\", \"value\": 5.4}, {\"Species\": \"setosa\", \"variable\": \"Sepal.Length\", \"value\": 4.6}, {\"Species\": \"setosa\", \"variable\": \"Sepal.Length\", \"value\": 5.0}, {\"Species\": \"setosa\", \"variable\": \"Sepal.Length\", \"value\": 4.4}, {\"Species\": \"setosa\", \"variable\": \"Sepal.Length\", \"value\": 4.9}, {\"Species\": \"setosa\", \"variable\": \"Sepal.Length\", \"value\": 5.4}, {\"Species\": \"setosa\", \"variable\": \"Sepal.Length\", \"value\": 4.8}, {\"Species\": \"setosa\", \"variable\": \"Sepal.Length\", \"value\": 4.8}, {\"Species\": \"setosa\", \"variable\": \"Sepal.Length\", \"value\": 4.3}, {\"Species\": \"setosa\", \"variable\": \"Sepal.Length\", \"value\": 5.8}, {\"Species\": \"setosa\", \"variable\": \"Sepal.Length\", \"value\": 5.7}, {\"Species\": \"setosa\", \"variable\": \"Sepal.Length\", \"value\": 5.4}, {\"Species\": \"setosa\", \"variable\": \"Sepal.Length\", \"value\": 5.1}, {\"Species\": \"setosa\", \"variable\": \"Sepal.Length\", \"value\": 5.7}, {\"Species\": \"setosa\", \"variable\": \"Sepal.Length\", \"value\": 5.1}, {\"Species\": \"setosa\", \"variable\": \"Sepal.Length\", \"value\": 5.4}, {\"Species\": \"setosa\", \"variable\": \"Sepal.Length\", \"value\": 5.1}, {\"Species\": \"setosa\", \"variable\": \"Sepal.Length\", \"value\": 4.6}, {\"Species\": \"setosa\", \"variable\": \"Sepal.Length\", \"value\": 5.1}, {\"Species\": \"setosa\", \"variable\": \"Sepal.Length\", \"value\": 4.8}, {\"Species\": \"setosa\", \"variable\": \"Sepal.Length\", \"value\": 5.0}, {\"Species\": \"setosa\", \"variable\": \"Sepal.Length\", \"value\": 5.0}, {\"Species\": \"setosa\", \"variable\": \"Sepal.Length\", \"value\": 5.2}, {\"Species\": \"setosa\", \"variable\": \"Sepal.Length\", \"value\": 5.2}, {\"Species\": \"setosa\", \"variable\": \"Sepal.Length\", \"value\": 4.7}, {\"Species\": \"setosa\", \"variable\": \"Sepal.Length\", \"value\": 4.8}, {\"Species\": \"setosa\", \"variable\": \"Sepal.Length\", \"value\": 5.4}, {\"Species\": \"setosa\", \"variable\": \"Sepal.Length\", \"value\": 5.2}, {\"Species\": \"setosa\", \"variable\": \"Sepal.Length\", \"value\": 5.5}, {\"Species\": \"setosa\", \"variable\": \"Sepal.Length\", \"value\": 4.9}, {\"Species\": \"setosa\", \"variable\": \"Sepal.Length\", \"value\": 5.0}, {\"Species\": \"setosa\", \"variable\": \"Sepal.Length\", \"value\": 5.5}, {\"Species\": \"setosa\", \"variable\": \"Sepal.Length\", \"value\": 4.9}, {\"Species\": \"setosa\", \"variable\": \"Sepal.Length\", \"value\": 4.4}, {\"Species\": \"setosa\", \"variable\": \"Sepal.Length\", \"value\": 5.1}, {\"Species\": \"setosa\", \"variable\": \"Sepal.Length\", \"value\": 5.0}, {\"Species\": \"setosa\", \"variable\": \"Sepal.Length\", \"value\": 4.5}, {\"Species\": \"setosa\", \"variable\": \"Sepal.Length\", \"value\": 4.4}, {\"Species\": \"setosa\", \"variable\": \"Sepal.Length\", \"value\": 5.0}, {\"Species\": \"setosa\", \"variable\": \"Sepal.Length\", \"value\": 5.1}, {\"Species\": \"setosa\", \"variable\": \"Sepal.Length\", \"value\": 4.8}, {\"Species\": \"setosa\", \"variable\": \"Sepal.Length\", \"value\": 5.1}, {\"Species\": \"setosa\", \"variable\": \"Sepal.Length\", \"value\": 4.6}, {\"Species\": \"setosa\", \"variable\": \"Sepal.Length\", \"value\": 5.3}, {\"Species\": \"setosa\", \"variable\": \"Sepal.Length\", \"value\": 5.0}, {\"Species\": \"versicolor\", \"variable\": \"Sepal.Length\", \"value\": 7.0}, {\"Species\": \"versicolor\", \"variable\": \"Sepal.Length\", \"value\": 6.4}, {\"Species\": \"versicolor\", \"variable\": \"Sepal.Length\", \"value\": 6.9}, {\"Species\": \"versicolor\", \"variable\": \"Sepal.Length\", \"value\": 5.5}, {\"Species\": \"versicolor\", \"variable\": \"Sepal.Length\", \"value\": 6.5}, {\"Species\": \"versicolor\", \"variable\": \"Sepal.Length\", \"value\": 5.7}, {\"Species\": \"versicolor\", \"variable\": \"Sepal.Length\", \"value\": 6.3}, {\"Species\": \"versicolor\", \"variable\": \"Sepal.Length\", \"value\": 4.9}, {\"Species\": \"versicolor\", \"variable\": \"Sepal.Length\", \"value\": 6.6}, {\"Species\": \"versicolor\", \"variable\": \"Sepal.Length\", \"value\": 5.2}, {\"Species\": \"versicolor\", \"variable\": \"Sepal.Length\", \"value\": 5.0}, {\"Species\": \"versicolor\", \"variable\": \"Sepal.Length\", \"value\": 5.9}, {\"Species\": \"versicolor\", \"variable\": \"Sepal.Length\", \"value\": 6.0}, {\"Species\": \"versicolor\", \"variable\": \"Sepal.Length\", \"value\": 6.1}, {\"Species\": \"versicolor\", \"variable\": \"Sepal.Length\", \"value\": 5.6}, {\"Species\": \"versicolor\", \"variable\": \"Sepal.Length\", \"value\": 6.7}, {\"Species\": \"versicolor\", \"variable\": \"Sepal.Length\", \"value\": 5.6}, {\"Species\": \"versicolor\", \"variable\": \"Sepal.Length\", \"value\": 5.8}, {\"Species\": \"versicolor\", \"variable\": \"Sepal.Length\", \"value\": 6.2}, {\"Species\": \"versicolor\", \"variable\": \"Sepal.Length\", \"value\": 5.6}, {\"Species\": \"versicolor\", \"variable\": \"Sepal.Length\", \"value\": 5.9}, {\"Species\": \"versicolor\", \"variable\": \"Sepal.Length\", \"value\": 6.1}, {\"Species\": \"versicolor\", \"variable\": \"Sepal.Length\", \"value\": 6.3}, {\"Species\": \"versicolor\", \"variable\": \"Sepal.Length\", \"value\": 6.1}, {\"Species\": \"versicolor\", \"variable\": \"Sepal.Length\", \"value\": 6.4}, {\"Species\": \"versicolor\", \"variable\": \"Sepal.Length\", \"value\": 6.6}, {\"Species\": \"versicolor\", \"variable\": \"Sepal.Length\", \"value\": 6.8}, {\"Species\": \"versicolor\", \"variable\": \"Sepal.Length\", \"value\": 6.7}, {\"Species\": \"versicolor\", \"variable\": \"Sepal.Length\", \"value\": 6.0}, {\"Species\": \"versicolor\", \"variable\": \"Sepal.Length\", \"value\": 5.7}, {\"Species\": \"versicolor\", \"variable\": \"Sepal.Length\", \"value\": 5.5}, {\"Species\": \"versicolor\", \"variable\": \"Sepal.Length\", \"value\": 5.5}, {\"Species\": \"versicolor\", \"variable\": \"Sepal.Length\", \"value\": 5.8}, {\"Species\": \"versicolor\", \"variable\": \"Sepal.Length\", \"value\": 6.0}, {\"Species\": \"versicolor\", \"variable\": \"Sepal.Length\", \"value\": 5.4}, {\"Species\": \"versicolor\", \"variable\": \"Sepal.Length\", \"value\": 6.0}, {\"Species\": \"versicolor\", \"variable\": \"Sepal.Length\", \"value\": 6.7}, {\"Species\": \"versicolor\", \"variable\": \"Sepal.Length\", \"value\": 6.3}, {\"Species\": \"versicolor\", \"variable\": \"Sepal.Length\", \"value\": 5.6}, {\"Species\": \"versicolor\", \"variable\": \"Sepal.Length\", \"value\": 5.5}, {\"Species\": \"versicolor\", \"variable\": \"Sepal.Length\", \"value\": 5.5}, {\"Species\": \"versicolor\", \"variable\": \"Sepal.Length\", \"value\": 6.1}, {\"Species\": \"versicolor\", \"variable\": \"Sepal.Length\", \"value\": 5.8}, {\"Species\": \"versicolor\", \"variable\": \"Sepal.Length\", \"value\": 5.0}, {\"Species\": \"versicolor\", \"variable\": \"Sepal.Length\", \"value\": 5.6}, {\"Species\": \"versicolor\", \"variable\": \"Sepal.Length\", \"value\": 5.7}, {\"Species\": \"versicolor\", \"variable\": \"Sepal.Length\", \"value\": 5.7}, {\"Species\": \"versicolor\", \"variable\": \"Sepal.Length\", \"value\": 6.2}, {\"Species\": \"versicolor\", \"variable\": \"Sepal.Length\", \"value\": 5.1}, {\"Species\": \"versicolor\", \"variable\": \"Sepal.Length\", \"value\": 5.7}, {\"Species\": \"virginica\", \"variable\": \"Sepal.Length\", \"value\": 6.3}, {\"Species\": \"virginica\", \"variable\": \"Sepal.Length\", \"value\": 5.8}, {\"Species\": \"virginica\", \"variable\": \"Sepal.Length\", \"value\": 7.1}, {\"Species\": \"virginica\", \"variable\": \"Sepal.Length\", \"value\": 6.3}, {\"Species\": \"virginica\", \"variable\": \"Sepal.Length\", \"value\": 6.5}, {\"Species\": \"virginica\", \"variable\": \"Sepal.Length\", \"value\": 7.6}, {\"Species\": \"virginica\", \"variable\": \"Sepal.Length\", \"value\": 4.9}, {\"Species\": \"virginica\", \"variable\": \"Sepal.Length\", \"value\": 7.3}, {\"Species\": \"virginica\", \"variable\": \"Sepal.Length\", \"value\": 6.7}, {\"Species\": \"virginica\", \"variable\": \"Sepal.Length\", \"value\": 7.2}, {\"Species\": \"virginica\", \"variable\": \"Sepal.Length\", \"value\": 6.5}, {\"Species\": \"virginica\", \"variable\": \"Sepal.Length\", \"value\": 6.4}, {\"Species\": \"virginica\", \"variable\": \"Sepal.Length\", \"value\": 6.8}, {\"Species\": \"virginica\", \"variable\": \"Sepal.Length\", \"value\": 5.7}, {\"Species\": \"virginica\", \"variable\": \"Sepal.Length\", \"value\": 5.8}, {\"Species\": \"virginica\", \"variable\": \"Sepal.Length\", \"value\": 6.4}, {\"Species\": \"virginica\", \"variable\": \"Sepal.Length\", \"value\": 6.5}, {\"Species\": \"virginica\", \"variable\": \"Sepal.Length\", \"value\": 7.7}, {\"Species\": \"virginica\", \"variable\": \"Sepal.Length\", \"value\": 7.7}, {\"Species\": \"virginica\", \"variable\": \"Sepal.Length\", \"value\": 6.0}, {\"Species\": \"virginica\", \"variable\": \"Sepal.Length\", \"value\": 6.9}, {\"Species\": \"virginica\", \"variable\": \"Sepal.Length\", \"value\": 5.6}, {\"Species\": \"virginica\", \"variable\": \"Sepal.Length\", \"value\": 7.7}, {\"Species\": \"virginica\", \"variable\": \"Sepal.Length\", \"value\": 6.3}, {\"Species\": \"virginica\", \"variable\": \"Sepal.Length\", \"value\": 6.7}, {\"Species\": \"virginica\", \"variable\": \"Sepal.Length\", \"value\": 7.2}, {\"Species\": \"virginica\", \"variable\": \"Sepal.Length\", \"value\": 6.2}, {\"Species\": \"virginica\", \"variable\": \"Sepal.Length\", \"value\": 6.1}, {\"Species\": \"virginica\", \"variable\": \"Sepal.Length\", \"value\": 6.4}, {\"Species\": \"virginica\", \"variable\": \"Sepal.Length\", \"value\": 7.2}, {\"Species\": \"virginica\", \"variable\": \"Sepal.Length\", \"value\": 7.4}, {\"Species\": \"virginica\", \"variable\": \"Sepal.Length\", \"value\": 7.9}, {\"Species\": \"virginica\", \"variable\": \"Sepal.Length\", \"value\": 6.4}, {\"Species\": \"virginica\", \"variable\": \"Sepal.Length\", \"value\": 6.3}, {\"Species\": \"virginica\", \"variable\": \"Sepal.Length\", \"value\": 6.1}, {\"Species\": \"virginica\", \"variable\": \"Sepal.Length\", \"value\": 7.7}, {\"Species\": \"virginica\", \"variable\": \"Sepal.Length\", \"value\": 6.3}, {\"Species\": \"virginica\", \"variable\": \"Sepal.Length\", \"value\": 6.4}, {\"Species\": \"virginica\", \"variable\": \"Sepal.Length\", \"value\": 6.0}, {\"Species\": \"virginica\", \"variable\": \"Sepal.Length\", \"value\": 6.9}, {\"Species\": \"virginica\", \"variable\": \"Sepal.Length\", \"value\": 6.7}, {\"Species\": \"virginica\", \"variable\": \"Sepal.Length\", \"value\": 6.9}, {\"Species\": \"virginica\", \"variable\": \"Sepal.Length\", \"value\": 5.8}, {\"Species\": \"virginica\", \"variable\": \"Sepal.Length\", \"value\": 6.8}, {\"Species\": \"virginica\", \"variable\": \"Sepal.Length\", \"value\": 6.7}, {\"Species\": \"virginica\", \"variable\": \"Sepal.Length\", \"value\": 6.7}, {\"Species\": \"virginica\", \"variable\": \"Sepal.Length\", \"value\": 6.3}, {\"Species\": \"virginica\", \"variable\": \"Sepal.Length\", \"value\": 6.5}, {\"Species\": \"virginica\", \"variable\": \"Sepal.Length\", \"value\": 6.2}, {\"Species\": \"virginica\", \"variable\": \"Sepal.Length\", \"value\": 5.9}, {\"Species\": \"setosa\", \"variable\": \"Sepal.Width\", \"value\": 3.5}, {\"Species\": \"setosa\", \"variable\": \"Sepal.Width\", \"value\": 3.0}, {\"Species\": \"setosa\", \"variable\": \"Sepal.Width\", \"value\": 3.2}, {\"Species\": \"setosa\", \"variable\": \"Sepal.Width\", \"value\": 3.1}, {\"Species\": \"setosa\", \"variable\": \"Sepal.Width\", \"value\": 3.6}, {\"Species\": \"setosa\", \"variable\": \"Sepal.Width\", \"value\": 3.9}, {\"Species\": \"setosa\", \"variable\": \"Sepal.Width\", \"value\": 3.4}, {\"Species\": \"setosa\", \"variable\": \"Sepal.Width\", \"value\": 3.4}, {\"Species\": \"setosa\", \"variable\": \"Sepal.Width\", \"value\": 2.9}, {\"Species\": \"setosa\", \"variable\": \"Sepal.Width\", \"value\": 3.1}, {\"Species\": \"setosa\", \"variable\": \"Sepal.Width\", \"value\": 3.7}, {\"Species\": \"setosa\", \"variable\": \"Sepal.Width\", \"value\": 3.4}, {\"Species\": \"setosa\", \"variable\": \"Sepal.Width\", \"value\": 3.0}, {\"Species\": \"setosa\", \"variable\": \"Sepal.Width\", \"value\": 3.0}, {\"Species\": \"setosa\", \"variable\": \"Sepal.Width\", \"value\": 4.0}, {\"Species\": \"setosa\", \"variable\": \"Sepal.Width\", \"value\": 4.4}, {\"Species\": \"setosa\", \"variable\": \"Sepal.Width\", \"value\": 3.9}, {\"Species\": \"setosa\", \"variable\": \"Sepal.Width\", \"value\": 3.5}, {\"Species\": \"setosa\", \"variable\": \"Sepal.Width\", \"value\": 3.8}, {\"Species\": \"setosa\", \"variable\": \"Sepal.Width\", \"value\": 3.8}, {\"Species\": \"setosa\", \"variable\": \"Sepal.Width\", \"value\": 3.4}, {\"Species\": \"setosa\", \"variable\": \"Sepal.Width\", \"value\": 3.7}, {\"Species\": \"setosa\", \"variable\": \"Sepal.Width\", \"value\": 3.6}, {\"Species\": \"setosa\", \"variable\": \"Sepal.Width\", \"value\": 3.3}, {\"Species\": \"setosa\", \"variable\": \"Sepal.Width\", \"value\": 3.4}, {\"Species\": \"setosa\", \"variable\": \"Sepal.Width\", \"value\": 3.0}, {\"Species\": \"setosa\", \"variable\": \"Sepal.Width\", \"value\": 3.4}, {\"Species\": \"setosa\", \"variable\": \"Sepal.Width\", \"value\": 3.5}, {\"Species\": \"setosa\", \"variable\": \"Sepal.Width\", \"value\": 3.4}, {\"Species\": \"setosa\", \"variable\": \"Sepal.Width\", \"value\": 3.2}, {\"Species\": \"setosa\", \"variable\": \"Sepal.Width\", \"value\": 3.1}, {\"Species\": \"setosa\", \"variable\": \"Sepal.Width\", \"value\": 3.4}, {\"Species\": \"setosa\", \"variable\": \"Sepal.Width\", \"value\": 4.1}, {\"Species\": \"setosa\", \"variable\": \"Sepal.Width\", \"value\": 4.2}, {\"Species\": \"setosa\", \"variable\": \"Sepal.Width\", \"value\": 3.1}, {\"Species\": \"setosa\", \"variable\": \"Sepal.Width\", \"value\": 3.2}, {\"Species\": \"setosa\", \"variable\": \"Sepal.Width\", \"value\": 3.5}, {\"Species\": \"setosa\", \"variable\": \"Sepal.Width\", \"value\": 3.6}, {\"Species\": \"setosa\", \"variable\": \"Sepal.Width\", \"value\": 3.0}, {\"Species\": \"setosa\", \"variable\": \"Sepal.Width\", \"value\": 3.4}, {\"Species\": \"setosa\", \"variable\": \"Sepal.Width\", \"value\": 3.5}, {\"Species\": \"setosa\", \"variable\": \"Sepal.Width\", \"value\": 2.3}, {\"Species\": \"setosa\", \"variable\": \"Sepal.Width\", \"value\": 3.2}, {\"Species\": \"setosa\", \"variable\": \"Sepal.Width\", \"value\": 3.5}, {\"Species\": \"setosa\", \"variable\": \"Sepal.Width\", \"value\": 3.8}, {\"Species\": \"setosa\", \"variable\": \"Sepal.Width\", \"value\": 3.0}, {\"Species\": \"setosa\", \"variable\": \"Sepal.Width\", \"value\": 3.8}, {\"Species\": \"setosa\", \"variable\": \"Sepal.Width\", \"value\": 3.2}, {\"Species\": \"setosa\", \"variable\": \"Sepal.Width\", \"value\": 3.7}, {\"Species\": \"setosa\", \"variable\": \"Sepal.Width\", \"value\": 3.3}, {\"Species\": \"versicolor\", \"variable\": \"Sepal.Width\", \"value\": 3.2}, {\"Species\": \"versicolor\", \"variable\": \"Sepal.Width\", \"value\": 3.2}, {\"Species\": \"versicolor\", \"variable\": \"Sepal.Width\", \"value\": 3.1}, {\"Species\": \"versicolor\", \"variable\": \"Sepal.Width\", \"value\": 2.3}, {\"Species\": \"versicolor\", \"variable\": \"Sepal.Width\", \"value\": 2.8}, {\"Species\": \"versicolor\", \"variable\": \"Sepal.Width\", \"value\": 2.8}, {\"Species\": \"versicolor\", \"variable\": \"Sepal.Width\", \"value\": 3.3}, {\"Species\": \"versicolor\", \"variable\": \"Sepal.Width\", \"value\": 2.4}, {\"Species\": \"versicolor\", \"variable\": \"Sepal.Width\", \"value\": 2.9}, {\"Species\": \"versicolor\", \"variable\": \"Sepal.Width\", \"value\": 2.7}, {\"Species\": \"versicolor\", \"variable\": \"Sepal.Width\", \"value\": 2.0}, {\"Species\": \"versicolor\", \"variable\": \"Sepal.Width\", \"value\": 3.0}, {\"Species\": \"versicolor\", \"variable\": \"Sepal.Width\", \"value\": 2.2}, {\"Species\": \"versicolor\", \"variable\": \"Sepal.Width\", \"value\": 2.9}, {\"Species\": \"versicolor\", \"variable\": \"Sepal.Width\", \"value\": 2.9}, {\"Species\": \"versicolor\", \"variable\": \"Sepal.Width\", \"value\": 3.1}, {\"Species\": \"versicolor\", \"variable\": \"Sepal.Width\", \"value\": 3.0}, {\"Species\": \"versicolor\", \"variable\": \"Sepal.Width\", \"value\": 2.7}, {\"Species\": \"versicolor\", \"variable\": \"Sepal.Width\", \"value\": 2.2}, {\"Species\": \"versicolor\", \"variable\": \"Sepal.Width\", \"value\": 2.5}, {\"Species\": \"versicolor\", \"variable\": \"Sepal.Width\", \"value\": 3.2}, {\"Species\": \"versicolor\", \"variable\": \"Sepal.Width\", \"value\": 2.8}, {\"Species\": \"versicolor\", \"variable\": \"Sepal.Width\", \"value\": 2.5}, {\"Species\": \"versicolor\", \"variable\": \"Sepal.Width\", \"value\": 2.8}, {\"Species\": \"versicolor\", \"variable\": \"Sepal.Width\", \"value\": 2.9}, {\"Species\": \"versicolor\", \"variable\": \"Sepal.Width\", \"value\": 3.0}, {\"Species\": \"versicolor\", \"variable\": \"Sepal.Width\", \"value\": 2.8}, {\"Species\": \"versicolor\", \"variable\": \"Sepal.Width\", \"value\": 3.0}, {\"Species\": \"versicolor\", \"variable\": \"Sepal.Width\", \"value\": 2.9}, {\"Species\": \"versicolor\", \"variable\": \"Sepal.Width\", \"value\": 2.6}, {\"Species\": \"versicolor\", \"variable\": \"Sepal.Width\", \"value\": 2.4}, {\"Species\": \"versicolor\", \"variable\": \"Sepal.Width\", \"value\": 2.4}, {\"Species\": \"versicolor\", \"variable\": \"Sepal.Width\", \"value\": 2.7}, {\"Species\": \"versicolor\", \"variable\": \"Sepal.Width\", \"value\": 2.7}, {\"Species\": \"versicolor\", \"variable\": \"Sepal.Width\", \"value\": 3.0}, {\"Species\": \"versicolor\", \"variable\": \"Sepal.Width\", \"value\": 3.4}, {\"Species\": \"versicolor\", \"variable\": \"Sepal.Width\", \"value\": 3.1}, {\"Species\": \"versicolor\", \"variable\": \"Sepal.Width\", \"value\": 2.3}, {\"Species\": \"versicolor\", \"variable\": \"Sepal.Width\", \"value\": 3.0}, {\"Species\": \"versicolor\", \"variable\": \"Sepal.Width\", \"value\": 2.5}, {\"Species\": \"versicolor\", \"variable\": \"Sepal.Width\", \"value\": 2.6}, {\"Species\": \"versicolor\", \"variable\": \"Sepal.Width\", \"value\": 3.0}, {\"Species\": \"versicolor\", \"variable\": \"Sepal.Width\", \"value\": 2.6}, {\"Species\": \"versicolor\", \"variable\": \"Sepal.Width\", \"value\": 2.3}, {\"Species\": \"versicolor\", \"variable\": \"Sepal.Width\", \"value\": 2.7}, {\"Species\": \"versicolor\", \"variable\": \"Sepal.Width\", \"value\": 3.0}, {\"Species\": \"versicolor\", \"variable\": \"Sepal.Width\", \"value\": 2.9}, {\"Species\": \"versicolor\", \"variable\": \"Sepal.Width\", \"value\": 2.9}, {\"Species\": \"versicolor\", \"variable\": \"Sepal.Width\", \"value\": 2.5}, {\"Species\": \"versicolor\", \"variable\": \"Sepal.Width\", \"value\": 2.8}, {\"Species\": \"virginica\", \"variable\": \"Sepal.Width\", \"value\": 3.3}, {\"Species\": \"virginica\", \"variable\": \"Sepal.Width\", \"value\": 2.7}, {\"Species\": \"virginica\", \"variable\": \"Sepal.Width\", \"value\": 3.0}, {\"Species\": \"virginica\", \"variable\": \"Sepal.Width\", \"value\": 2.9}, {\"Species\": \"virginica\", \"variable\": \"Sepal.Width\", \"value\": 3.0}, {\"Species\": \"virginica\", \"variable\": \"Sepal.Width\", \"value\": 3.0}, {\"Species\": \"virginica\", \"variable\": \"Sepal.Width\", \"value\": 2.5}, {\"Species\": \"virginica\", \"variable\": \"Sepal.Width\", \"value\": 2.9}, {\"Species\": \"virginica\", \"variable\": \"Sepal.Width\", \"value\": 2.5}, {\"Species\": \"virginica\", \"variable\": \"Sepal.Width\", \"value\": 3.6}, {\"Species\": \"virginica\", \"variable\": \"Sepal.Width\", \"value\": 3.2}, {\"Species\": \"virginica\", \"variable\": \"Sepal.Width\", \"value\": 2.7}, {\"Species\": \"virginica\", \"variable\": \"Sepal.Width\", \"value\": 3.0}, {\"Species\": \"virginica\", \"variable\": \"Sepal.Width\", \"value\": 2.5}, {\"Species\": \"virginica\", \"variable\": \"Sepal.Width\", \"value\": 2.8}, {\"Species\": \"virginica\", \"variable\": \"Sepal.Width\", \"value\": 3.2}, {\"Species\": \"virginica\", \"variable\": \"Sepal.Width\", \"value\": 3.0}, {\"Species\": \"virginica\", \"variable\": \"Sepal.Width\", \"value\": 3.8}, {\"Species\": \"virginica\", \"variable\": \"Sepal.Width\", \"value\": 2.6}, {\"Species\": \"virginica\", \"variable\": \"Sepal.Width\", \"value\": 2.2}, {\"Species\": \"virginica\", \"variable\": \"Sepal.Width\", \"value\": 3.2}, {\"Species\": \"virginica\", \"variable\": \"Sepal.Width\", \"value\": 2.8}, {\"Species\": \"virginica\", \"variable\": \"Sepal.Width\", \"value\": 2.8}, {\"Species\": \"virginica\", \"variable\": \"Sepal.Width\", \"value\": 2.7}, {\"Species\": \"virginica\", \"variable\": \"Sepal.Width\", \"value\": 3.3}, {\"Species\": \"virginica\", \"variable\": \"Sepal.Width\", \"value\": 3.2}, {\"Species\": \"virginica\", \"variable\": \"Sepal.Width\", \"value\": 2.8}, {\"Species\": \"virginica\", \"variable\": \"Sepal.Width\", \"value\": 3.0}, {\"Species\": \"virginica\", \"variable\": \"Sepal.Width\", \"value\": 2.8}, {\"Species\": \"virginica\", \"variable\": \"Sepal.Width\", \"value\": 3.0}, {\"Species\": \"virginica\", \"variable\": \"Sepal.Width\", \"value\": 2.8}, {\"Species\": \"virginica\", \"variable\": \"Sepal.Width\", \"value\": 3.8}, {\"Species\": \"virginica\", \"variable\": \"Sepal.Width\", \"value\": 2.8}, {\"Species\": \"virginica\", \"variable\": \"Sepal.Width\", \"value\": 2.8}, {\"Species\": \"virginica\", \"variable\": \"Sepal.Width\", \"value\": 2.6}, {\"Species\": \"virginica\", \"variable\": \"Sepal.Width\", \"value\": 3.0}, {\"Species\": \"virginica\", \"variable\": \"Sepal.Width\", \"value\": 3.4}, {\"Species\": \"virginica\", \"variable\": \"Sepal.Width\", \"value\": 3.1}, {\"Species\": \"virginica\", \"variable\": \"Sepal.Width\", \"value\": 3.0}, {\"Species\": \"virginica\", \"variable\": \"Sepal.Width\", \"value\": 3.1}, {\"Species\": \"virginica\", \"variable\": \"Sepal.Width\", \"value\": 3.1}, {\"Species\": \"virginica\", \"variable\": \"Sepal.Width\", \"value\": 3.1}, {\"Species\": \"virginica\", \"variable\": \"Sepal.Width\", \"value\": 2.7}, {\"Species\": \"virginica\", \"variable\": \"Sepal.Width\", \"value\": 3.2}, {\"Species\": \"virginica\", \"variable\": \"Sepal.Width\", \"value\": 3.3}, {\"Species\": \"virginica\", \"variable\": \"Sepal.Width\", \"value\": 3.0}, {\"Species\": \"virginica\", \"variable\": \"Sepal.Width\", \"value\": 2.5}, {\"Species\": \"virginica\", \"variable\": \"Sepal.Width\", \"value\": 3.0}, {\"Species\": \"virginica\", \"variable\": \"Sepal.Width\", \"value\": 3.4}, {\"Species\": \"virginica\", \"variable\": \"Sepal.Width\", \"value\": 3.0}, {\"Species\": \"setosa\", \"variable\": \"Petal.Length\", \"value\": 1.4}, {\"Species\": \"setosa\", \"variable\": \"Petal.Length\", \"value\": 1.4}, {\"Species\": \"setosa\", \"variable\": \"Petal.Length\", \"value\": 1.3}, {\"Species\": \"setosa\", \"variable\": \"Petal.Length\", \"value\": 1.5}, {\"Species\": \"setosa\", \"variable\": \"Petal.Length\", \"value\": 1.4}, {\"Species\": \"setosa\", \"variable\": \"Petal.Length\", \"value\": 1.7}, {\"Species\": \"setosa\", \"variable\": \"Petal.Length\", \"value\": 1.4}, {\"Species\": \"setosa\", \"variable\": \"Petal.Length\", \"value\": 1.5}, {\"Species\": \"setosa\", \"variable\": \"Petal.Length\", \"value\": 1.4}, {\"Species\": \"setosa\", \"variable\": \"Petal.Length\", \"value\": 1.5}, {\"Species\": \"setosa\", \"variable\": \"Petal.Length\", \"value\": 1.5}, {\"Species\": \"setosa\", \"variable\": \"Petal.Length\", \"value\": 1.6}, {\"Species\": \"setosa\", \"variable\": \"Petal.Length\", \"value\": 1.4}, {\"Species\": \"setosa\", \"variable\": \"Petal.Length\", \"value\": 1.1}, {\"Species\": \"setosa\", \"variable\": \"Petal.Length\", \"value\": 1.2}, {\"Species\": \"setosa\", \"variable\": \"Petal.Length\", \"value\": 1.5}, {\"Species\": \"setosa\", \"variable\": \"Petal.Length\", \"value\": 1.3}, {\"Species\": \"setosa\", \"variable\": \"Petal.Length\", \"value\": 1.4}, {\"Species\": \"setosa\", \"variable\": \"Petal.Length\", \"value\": 1.7}, {\"Species\": \"setosa\", \"variable\": \"Petal.Length\", \"value\": 1.5}, {\"Species\": \"setosa\", \"variable\": \"Petal.Length\", \"value\": 1.7}, {\"Species\": \"setosa\", \"variable\": \"Petal.Length\", \"value\": 1.5}, {\"Species\": \"setosa\", \"variable\": \"Petal.Length\", \"value\": 1.0}, {\"Species\": \"setosa\", \"variable\": \"Petal.Length\", \"value\": 1.7}, {\"Species\": \"setosa\", \"variable\": \"Petal.Length\", \"value\": 1.9}, {\"Species\": \"setosa\", \"variable\": \"Petal.Length\", \"value\": 1.6}, {\"Species\": \"setosa\", \"variable\": \"Petal.Length\", \"value\": 1.6}, {\"Species\": \"setosa\", \"variable\": \"Petal.Length\", \"value\": 1.5}, {\"Species\": \"setosa\", \"variable\": \"Petal.Length\", \"value\": 1.4}, {\"Species\": \"setosa\", \"variable\": \"Petal.Length\", \"value\": 1.6}, {\"Species\": \"setosa\", \"variable\": \"Petal.Length\", \"value\": 1.6}, {\"Species\": \"setosa\", \"variable\": \"Petal.Length\", \"value\": 1.5}, {\"Species\": \"setosa\", \"variable\": \"Petal.Length\", \"value\": 1.5}, {\"Species\": \"setosa\", \"variable\": \"Petal.Length\", \"value\": 1.4}, {\"Species\": \"setosa\", \"variable\": \"Petal.Length\", \"value\": 1.5}, {\"Species\": \"setosa\", \"variable\": \"Petal.Length\", \"value\": 1.2}, {\"Species\": \"setosa\", \"variable\": \"Petal.Length\", \"value\": 1.3}, {\"Species\": \"setosa\", \"variable\": \"Petal.Length\", \"value\": 1.4}, {\"Species\": \"setosa\", \"variable\": \"Petal.Length\", \"value\": 1.3}, {\"Species\": \"setosa\", \"variable\": \"Petal.Length\", \"value\": 1.5}, {\"Species\": \"setosa\", \"variable\": \"Petal.Length\", \"value\": 1.3}, {\"Species\": \"setosa\", \"variable\": \"Petal.Length\", \"value\": 1.3}, {\"Species\": \"setosa\", \"variable\": \"Petal.Length\", \"value\": 1.3}, {\"Species\": \"setosa\", \"variable\": \"Petal.Length\", \"value\": 1.6}, {\"Species\": \"setosa\", \"variable\": \"Petal.Length\", \"value\": 1.9}, {\"Species\": \"setosa\", \"variable\": \"Petal.Length\", \"value\": 1.4}, {\"Species\": \"setosa\", \"variable\": \"Petal.Length\", \"value\": 1.6}, {\"Species\": \"setosa\", \"variable\": \"Petal.Length\", \"value\": 1.4}, {\"Species\": \"setosa\", \"variable\": \"Petal.Length\", \"value\": 1.5}, {\"Species\": \"setosa\", \"variable\": \"Petal.Length\", \"value\": 1.4}, {\"Species\": \"versicolor\", \"variable\": \"Petal.Length\", \"value\": 4.7}, {\"Species\": \"versicolor\", \"variable\": \"Petal.Length\", \"value\": 4.5}, {\"Species\": \"versicolor\", \"variable\": \"Petal.Length\", \"value\": 4.9}, {\"Species\": \"versicolor\", \"variable\": \"Petal.Length\", \"value\": 4.0}, {\"Species\": \"versicolor\", \"variable\": \"Petal.Length\", \"value\": 4.6}, {\"Species\": \"versicolor\", \"variable\": \"Petal.Length\", \"value\": 4.5}, {\"Species\": \"versicolor\", \"variable\": \"Petal.Length\", \"value\": 4.7}, {\"Species\": \"versicolor\", \"variable\": \"Petal.Length\", \"value\": 3.3}, {\"Species\": \"versicolor\", \"variable\": \"Petal.Length\", \"value\": 4.6}, {\"Species\": \"versicolor\", \"variable\": \"Petal.Length\", \"value\": 3.9}, {\"Species\": \"versicolor\", \"variable\": \"Petal.Length\", \"value\": 3.5}, {\"Species\": \"versicolor\", \"variable\": \"Petal.Length\", \"value\": 4.2}, {\"Species\": \"versicolor\", \"variable\": \"Petal.Length\", \"value\": 4.0}, {\"Species\": \"versicolor\", \"variable\": \"Petal.Length\", \"value\": 4.7}, {\"Species\": \"versicolor\", \"variable\": \"Petal.Length\", \"value\": 3.6}, {\"Species\": \"versicolor\", \"variable\": \"Petal.Length\", \"value\": 4.4}, {\"Species\": \"versicolor\", \"variable\": \"Petal.Length\", \"value\": 4.5}, {\"Species\": \"versicolor\", \"variable\": \"Petal.Length\", \"value\": 4.1}, {\"Species\": \"versicolor\", \"variable\": \"Petal.Length\", \"value\": 4.5}, {\"Species\": \"versicolor\", \"variable\": \"Petal.Length\", \"value\": 3.9}, {\"Species\": \"versicolor\", \"variable\": \"Petal.Length\", \"value\": 4.8}, {\"Species\": \"versicolor\", \"variable\": \"Petal.Length\", \"value\": 4.0}, {\"Species\": \"versicolor\", \"variable\": \"Petal.Length\", \"value\": 4.9}, {\"Species\": \"versicolor\", \"variable\": \"Petal.Length\", \"value\": 4.7}, {\"Species\": \"versicolor\", \"variable\": \"Petal.Length\", \"value\": 4.3}, {\"Species\": \"versicolor\", \"variable\": \"Petal.Length\", \"value\": 4.4}, {\"Species\": \"versicolor\", \"variable\": \"Petal.Length\", \"value\": 4.8}, {\"Species\": \"versicolor\", \"variable\": \"Petal.Length\", \"value\": 5.0}, {\"Species\": \"versicolor\", \"variable\": \"Petal.Length\", \"value\": 4.5}, {\"Species\": \"versicolor\", \"variable\": \"Petal.Length\", \"value\": 3.5}, {\"Species\": \"versicolor\", \"variable\": \"Petal.Length\", \"value\": 3.8}, {\"Species\": \"versicolor\", \"variable\": \"Petal.Length\", \"value\": 3.7}, {\"Species\": \"versicolor\", \"variable\": \"Petal.Length\", \"value\": 3.9}, {\"Species\": \"versicolor\", \"variable\": \"Petal.Length\", \"value\": 5.1}, {\"Species\": \"versicolor\", \"variable\": \"Petal.Length\", \"value\": 4.5}, {\"Species\": \"versicolor\", \"variable\": \"Petal.Length\", \"value\": 4.5}, {\"Species\": \"versicolor\", \"variable\": \"Petal.Length\", \"value\": 4.7}, {\"Species\": \"versicolor\", \"variable\": \"Petal.Length\", \"value\": 4.4}, {\"Species\": \"versicolor\", \"variable\": \"Petal.Length\", \"value\": 4.1}, {\"Species\": \"versicolor\", \"variable\": \"Petal.Length\", \"value\": 4.0}, {\"Species\": \"versicolor\", \"variable\": \"Petal.Length\", \"value\": 4.4}, {\"Species\": \"versicolor\", \"variable\": \"Petal.Length\", \"value\": 4.6}, {\"Species\": \"versicolor\", \"variable\": \"Petal.Length\", \"value\": 4.0}, {\"Species\": \"versicolor\", \"variable\": \"Petal.Length\", \"value\": 3.3}, {\"Species\": \"versicolor\", \"variable\": \"Petal.Length\", \"value\": 4.2}, {\"Species\": \"versicolor\", \"variable\": \"Petal.Length\", \"value\": 4.2}, {\"Species\": \"versicolor\", \"variable\": \"Petal.Length\", \"value\": 4.2}, {\"Species\": \"versicolor\", \"variable\": \"Petal.Length\", \"value\": 4.3}, {\"Species\": \"versicolor\", \"variable\": \"Petal.Length\", \"value\": 3.0}, {\"Species\": \"versicolor\", \"variable\": \"Petal.Length\", \"value\": 4.1}, {\"Species\": \"virginica\", \"variable\": \"Petal.Length\", \"value\": 6.0}, {\"Species\": \"virginica\", \"variable\": \"Petal.Length\", \"value\": 5.1}, {\"Species\": \"virginica\", \"variable\": \"Petal.Length\", \"value\": 5.9}, {\"Species\": \"virginica\", \"variable\": \"Petal.Length\", \"value\": 5.6}, {\"Species\": \"virginica\", \"variable\": \"Petal.Length\", \"value\": 5.8}, {\"Species\": \"virginica\", \"variable\": \"Petal.Length\", \"value\": 6.6}, {\"Species\": \"virginica\", \"variable\": \"Petal.Length\", \"value\": 4.5}, {\"Species\": \"virginica\", \"variable\": \"Petal.Length\", \"value\": 6.3}, {\"Species\": \"virginica\", \"variable\": \"Petal.Length\", \"value\": 5.8}, {\"Species\": \"virginica\", \"variable\": \"Petal.Length\", \"value\": 6.1}, {\"Species\": \"virginica\", \"variable\": \"Petal.Length\", \"value\": 5.1}, {\"Species\": \"virginica\", \"variable\": \"Petal.Length\", \"value\": 5.3}, {\"Species\": \"virginica\", \"variable\": \"Petal.Length\", \"value\": 5.5}, {\"Species\": \"virginica\", \"variable\": \"Petal.Length\", \"value\": 5.0}, {\"Species\": \"virginica\", \"variable\": \"Petal.Length\", \"value\": 5.1}, {\"Species\": \"virginica\", \"variable\": \"Petal.Length\", \"value\": 5.3}, {\"Species\": \"virginica\", \"variable\": \"Petal.Length\", \"value\": 5.5}, {\"Species\": \"virginica\", \"variable\": \"Petal.Length\", \"value\": 6.7}, {\"Species\": \"virginica\", \"variable\": \"Petal.Length\", \"value\": 6.9}, {\"Species\": \"virginica\", \"variable\": \"Petal.Length\", \"value\": 5.0}, {\"Species\": \"virginica\", \"variable\": \"Petal.Length\", \"value\": 5.7}, {\"Species\": \"virginica\", \"variable\": \"Petal.Length\", \"value\": 4.9}, {\"Species\": \"virginica\", \"variable\": \"Petal.Length\", \"value\": 6.7}, {\"Species\": \"virginica\", \"variable\": \"Petal.Length\", \"value\": 4.9}, {\"Species\": \"virginica\", \"variable\": \"Petal.Length\", \"value\": 5.7}, {\"Species\": \"virginica\", \"variable\": \"Petal.Length\", \"value\": 6.0}, {\"Species\": \"virginica\", \"variable\": \"Petal.Length\", \"value\": 4.8}, {\"Species\": \"virginica\", \"variable\": \"Petal.Length\", \"value\": 4.9}, {\"Species\": \"virginica\", \"variable\": \"Petal.Length\", \"value\": 5.6}, {\"Species\": \"virginica\", \"variable\": \"Petal.Length\", \"value\": 5.8}, {\"Species\": \"virginica\", \"variable\": \"Petal.Length\", \"value\": 6.1}, {\"Species\": \"virginica\", \"variable\": \"Petal.Length\", \"value\": 6.4}, {\"Species\": \"virginica\", \"variable\": \"Petal.Length\", \"value\": 5.6}, {\"Species\": \"virginica\", \"variable\": \"Petal.Length\", \"value\": 5.1}, {\"Species\": \"virginica\", \"variable\": \"Petal.Length\", \"value\": 5.6}, {\"Species\": \"virginica\", \"variable\": \"Petal.Length\", \"value\": 6.1}, {\"Species\": \"virginica\", \"variable\": \"Petal.Length\", \"value\": 5.6}, {\"Species\": \"virginica\", \"variable\": \"Petal.Length\", \"value\": 5.5}, {\"Species\": \"virginica\", \"variable\": \"Petal.Length\", \"value\": 4.8}, {\"Species\": \"virginica\", \"variable\": \"Petal.Length\", \"value\": 5.4}, {\"Species\": \"virginica\", \"variable\": \"Petal.Length\", \"value\": 5.6}, {\"Species\": \"virginica\", \"variable\": \"Petal.Length\", \"value\": 5.1}, {\"Species\": \"virginica\", \"variable\": \"Petal.Length\", \"value\": 5.1}, {\"Species\": \"virginica\", \"variable\": \"Petal.Length\", \"value\": 5.9}, {\"Species\": \"virginica\", \"variable\": \"Petal.Length\", \"value\": 5.7}, {\"Species\": \"virginica\", \"variable\": \"Petal.Length\", \"value\": 5.2}, {\"Species\": \"virginica\", \"variable\": \"Petal.Length\", \"value\": 5.0}, {\"Species\": \"virginica\", \"variable\": \"Petal.Length\", \"value\": 5.2}, {\"Species\": \"virginica\", \"variable\": \"Petal.Length\", \"value\": 5.4}, {\"Species\": \"virginica\", \"variable\": \"Petal.Length\", \"value\": 5.1}, {\"Species\": \"setosa\", \"variable\": \"Petal.Width\", \"value\": 0.2}, {\"Species\": \"setosa\", \"variable\": \"Petal.Width\", \"value\": 0.2}, {\"Species\": \"setosa\", \"variable\": \"Petal.Width\", \"value\": 0.2}, {\"Species\": \"setosa\", \"variable\": \"Petal.Width\", \"value\": 0.2}, {\"Species\": \"setosa\", \"variable\": \"Petal.Width\", \"value\": 0.2}, {\"Species\": \"setosa\", \"variable\": \"Petal.Width\", \"value\": 0.4}, {\"Species\": \"setosa\", \"variable\": \"Petal.Width\", \"value\": 0.3}, {\"Species\": \"setosa\", \"variable\": \"Petal.Width\", \"value\": 0.2}, {\"Species\": \"setosa\", \"variable\": \"Petal.Width\", \"value\": 0.2}, {\"Species\": \"setosa\", \"variable\": \"Petal.Width\", \"value\": 0.1}, {\"Species\": \"setosa\", \"variable\": \"Petal.Width\", \"value\": 0.2}, {\"Species\": \"setosa\", \"variable\": \"Petal.Width\", \"value\": 0.2}, {\"Species\": \"setosa\", \"variable\": \"Petal.Width\", \"value\": 0.1}, {\"Species\": \"setosa\", \"variable\": \"Petal.Width\", \"value\": 0.1}, {\"Species\": \"setosa\", \"variable\": \"Petal.Width\", \"value\": 0.2}, {\"Species\": \"setosa\", \"variable\": \"Petal.Width\", \"value\": 0.4}, {\"Species\": \"setosa\", \"variable\": \"Petal.Width\", \"value\": 0.4}, {\"Species\": \"setosa\", \"variable\": \"Petal.Width\", \"value\": 0.3}, {\"Species\": \"setosa\", \"variable\": \"Petal.Width\", \"value\": 0.3}, {\"Species\": \"setosa\", \"variable\": \"Petal.Width\", \"value\": 0.3}, {\"Species\": \"setosa\", \"variable\": \"Petal.Width\", \"value\": 0.2}, {\"Species\": \"setosa\", \"variable\": \"Petal.Width\", \"value\": 0.4}, {\"Species\": \"setosa\", \"variable\": \"Petal.Width\", \"value\": 0.2}, {\"Species\": \"setosa\", \"variable\": \"Petal.Width\", \"value\": 0.5}, {\"Species\": \"setosa\", \"variable\": \"Petal.Width\", \"value\": 0.2}, {\"Species\": \"setosa\", \"variable\": \"Petal.Width\", \"value\": 0.2}, {\"Species\": \"setosa\", \"variable\": \"Petal.Width\", \"value\": 0.4}, {\"Species\": \"setosa\", \"variable\": \"Petal.Width\", \"value\": 0.2}, {\"Species\": \"setosa\", \"variable\": \"Petal.Width\", \"value\": 0.2}, {\"Species\": \"setosa\", \"variable\": \"Petal.Width\", \"value\": 0.2}, {\"Species\": \"setosa\", \"variable\": \"Petal.Width\", \"value\": 0.2}, {\"Species\": \"setosa\", \"variable\": \"Petal.Width\", \"value\": 0.4}, {\"Species\": \"setosa\", \"variable\": \"Petal.Width\", \"value\": 0.1}, {\"Species\": \"setosa\", \"variable\": \"Petal.Width\", \"value\": 0.2}, {\"Species\": \"setosa\", \"variable\": \"Petal.Width\", \"value\": 0.2}, {\"Species\": \"setosa\", \"variable\": \"Petal.Width\", \"value\": 0.2}, {\"Species\": \"setosa\", \"variable\": \"Petal.Width\", \"value\": 0.2}, {\"Species\": \"setosa\", \"variable\": \"Petal.Width\", \"value\": 0.1}, {\"Species\": \"setosa\", \"variable\": \"Petal.Width\", \"value\": 0.2}, {\"Species\": \"setosa\", \"variable\": \"Petal.Width\", \"value\": 0.2}, {\"Species\": \"setosa\", \"variable\": \"Petal.Width\", \"value\": 0.3}, {\"Species\": \"setosa\", \"variable\": \"Petal.Width\", \"value\": 0.3}, {\"Species\": \"setosa\", \"variable\": \"Petal.Width\", \"value\": 0.2}, {\"Species\": \"setosa\", \"variable\": \"Petal.Width\", \"value\": 0.6}, {\"Species\": \"setosa\", \"variable\": \"Petal.Width\", \"value\": 0.4}, {\"Species\": \"setosa\", \"variable\": \"Petal.Width\", \"value\": 0.3}, {\"Species\": \"setosa\", \"variable\": \"Petal.Width\", \"value\": 0.2}, {\"Species\": \"setosa\", \"variable\": \"Petal.Width\", \"value\": 0.2}, {\"Species\": \"setosa\", \"variable\": \"Petal.Width\", \"value\": 0.2}, {\"Species\": \"setosa\", \"variable\": \"Petal.Width\", \"value\": 0.2}, {\"Species\": \"versicolor\", \"variable\": \"Petal.Width\", \"value\": 1.4}, {\"Species\": \"versicolor\", \"variable\": \"Petal.Width\", \"value\": 1.5}, {\"Species\": \"versicolor\", \"variable\": \"Petal.Width\", \"value\": 1.5}, {\"Species\": \"versicolor\", \"variable\": \"Petal.Width\", \"value\": 1.3}, {\"Species\": \"versicolor\", \"variable\": \"Petal.Width\", \"value\": 1.5}, {\"Species\": \"versicolor\", \"variable\": \"Petal.Width\", \"value\": 1.3}, {\"Species\": \"versicolor\", \"variable\": \"Petal.Width\", \"value\": 1.6}, {\"Species\": \"versicolor\", \"variable\": \"Petal.Width\", \"value\": 1.0}, {\"Species\": \"versicolor\", \"variable\": \"Petal.Width\", \"value\": 1.3}, {\"Species\": \"versicolor\", \"variable\": \"Petal.Width\", \"value\": 1.4}, {\"Species\": \"versicolor\", \"variable\": \"Petal.Width\", \"value\": 1.0}, {\"Species\": \"versicolor\", \"variable\": \"Petal.Width\", \"value\": 1.5}, {\"Species\": \"versicolor\", \"variable\": \"Petal.Width\", \"value\": 1.0}, {\"Species\": \"versicolor\", \"variable\": \"Petal.Width\", \"value\": 1.4}, {\"Species\": \"versicolor\", \"variable\": \"Petal.Width\", \"value\": 1.3}, {\"Species\": \"versicolor\", \"variable\": \"Petal.Width\", \"value\": 1.4}, {\"Species\": \"versicolor\", \"variable\": \"Petal.Width\", \"value\": 1.5}, {\"Species\": \"versicolor\", \"variable\": \"Petal.Width\", \"value\": 1.0}, {\"Species\": \"versicolor\", \"variable\": \"Petal.Width\", \"value\": 1.5}, {\"Species\": \"versicolor\", \"variable\": \"Petal.Width\", \"value\": 1.1}, {\"Species\": \"versicolor\", \"variable\": \"Petal.Width\", \"value\": 1.8}, {\"Species\": \"versicolor\", \"variable\": \"Petal.Width\", \"value\": 1.3}, {\"Species\": \"versicolor\", \"variable\": \"Petal.Width\", \"value\": 1.5}, {\"Species\": \"versicolor\", \"variable\": \"Petal.Width\", \"value\": 1.2}, {\"Species\": \"versicolor\", \"variable\": \"Petal.Width\", \"value\": 1.3}, {\"Species\": \"versicolor\", \"variable\": \"Petal.Width\", \"value\": 1.4}, {\"Species\": \"versicolor\", \"variable\": \"Petal.Width\", \"value\": 1.4}, {\"Species\": \"versicolor\", \"variable\": \"Petal.Width\", \"value\": 1.7}, {\"Species\": \"versicolor\", \"variable\": \"Petal.Width\", \"value\": 1.5}, {\"Species\": \"versicolor\", \"variable\": \"Petal.Width\", \"value\": 1.0}, {\"Species\": \"versicolor\", \"variable\": \"Petal.Width\", \"value\": 1.1}, {\"Species\": \"versicolor\", \"variable\": \"Petal.Width\", \"value\": 1.0}, {\"Species\": \"versicolor\", \"variable\": \"Petal.Width\", \"value\": 1.2}, {\"Species\": \"versicolor\", \"variable\": \"Petal.Width\", \"value\": 1.6}, {\"Species\": \"versicolor\", \"variable\": \"Petal.Width\", \"value\": 1.5}, {\"Species\": \"versicolor\", \"variable\": \"Petal.Width\", \"value\": 1.6}, {\"Species\": \"versicolor\", \"variable\": \"Petal.Width\", \"value\": 1.5}, {\"Species\": \"versicolor\", \"variable\": \"Petal.Width\", \"value\": 1.3}, {\"Species\": \"versicolor\", \"variable\": \"Petal.Width\", \"value\": 1.3}, {\"Species\": \"versicolor\", \"variable\": \"Petal.Width\", \"value\": 1.3}, {\"Species\": \"versicolor\", \"variable\": \"Petal.Width\", \"value\": 1.2}, {\"Species\": \"versicolor\", \"variable\": \"Petal.Width\", \"value\": 1.4}, {\"Species\": \"versicolor\", \"variable\": \"Petal.Width\", \"value\": 1.2}, {\"Species\": \"versicolor\", \"variable\": \"Petal.Width\", \"value\": 1.0}, {\"Species\": \"versicolor\", \"variable\": \"Petal.Width\", \"value\": 1.3}, {\"Species\": \"versicolor\", \"variable\": \"Petal.Width\", \"value\": 1.2}, {\"Species\": \"versicolor\", \"variable\": \"Petal.Width\", \"value\": 1.3}, {\"Species\": \"versicolor\", \"variable\": \"Petal.Width\", \"value\": 1.3}, {\"Species\": \"versicolor\", \"variable\": \"Petal.Width\", \"value\": 1.1}, {\"Species\": \"versicolor\", \"variable\": \"Petal.Width\", \"value\": 1.3}, {\"Species\": \"virginica\", \"variable\": \"Petal.Width\", \"value\": 2.5}, {\"Species\": \"virginica\", \"variable\": \"Petal.Width\", \"value\": 1.9}, {\"Species\": \"virginica\", \"variable\": \"Petal.Width\", \"value\": 2.1}, {\"Species\": \"virginica\", \"variable\": \"Petal.Width\", \"value\": 1.8}, {\"Species\": \"virginica\", \"variable\": \"Petal.Width\", \"value\": 2.2}, {\"Species\": \"virginica\", \"variable\": \"Petal.Width\", \"value\": 2.1}, {\"Species\": \"virginica\", \"variable\": \"Petal.Width\", \"value\": 1.7}, {\"Species\": \"virginica\", \"variable\": \"Petal.Width\", \"value\": 1.8}, {\"Species\": \"virginica\", \"variable\": \"Petal.Width\", \"value\": 1.8}, {\"Species\": \"virginica\", \"variable\": \"Petal.Width\", \"value\": 2.5}, {\"Species\": \"virginica\", \"variable\": \"Petal.Width\", \"value\": 2.0}, {\"Species\": \"virginica\", \"variable\": \"Petal.Width\", \"value\": 1.9}, {\"Species\": \"virginica\", \"variable\": \"Petal.Width\", \"value\": 2.1}, {\"Species\": \"virginica\", \"variable\": \"Petal.Width\", \"value\": 2.0}, {\"Species\": \"virginica\", \"variable\": \"Petal.Width\", \"value\": 2.4}, {\"Species\": \"virginica\", \"variable\": \"Petal.Width\", \"value\": 2.3}, {\"Species\": \"virginica\", \"variable\": \"Petal.Width\", \"value\": 1.8}, {\"Species\": \"virginica\", \"variable\": \"Petal.Width\", \"value\": 2.2}, {\"Species\": \"virginica\", \"variable\": \"Petal.Width\", \"value\": 2.3}, {\"Species\": \"virginica\", \"variable\": \"Petal.Width\", \"value\": 1.5}, {\"Species\": \"virginica\", \"variable\": \"Petal.Width\", \"value\": 2.3}, {\"Species\": \"virginica\", \"variable\": \"Petal.Width\", \"value\": 2.0}, {\"Species\": \"virginica\", \"variable\": \"Petal.Width\", \"value\": 2.0}, {\"Species\": \"virginica\", \"variable\": \"Petal.Width\", \"value\": 1.8}, {\"Species\": \"virginica\", \"variable\": \"Petal.Width\", \"value\": 2.1}, {\"Species\": \"virginica\", \"variable\": \"Petal.Width\", \"value\": 1.8}, {\"Species\": \"virginica\", \"variable\": \"Petal.Width\", \"value\": 1.8}, {\"Species\": \"virginica\", \"variable\": \"Petal.Width\", \"value\": 1.8}, {\"Species\": \"virginica\", \"variable\": \"Petal.Width\", \"value\": 2.1}, {\"Species\": \"virginica\", \"variable\": \"Petal.Width\", \"value\": 1.6}, {\"Species\": \"virginica\", \"variable\": \"Petal.Width\", \"value\": 1.9}, {\"Species\": \"virginica\", \"variable\": \"Petal.Width\", \"value\": 2.0}, {\"Species\": \"virginica\", \"variable\": \"Petal.Width\", \"value\": 2.2}, {\"Species\": \"virginica\", \"variable\": \"Petal.Width\", \"value\": 1.5}, {\"Species\": \"virginica\", \"variable\": \"Petal.Width\", \"value\": 1.4}, {\"Species\": \"virginica\", \"variable\": \"Petal.Width\", \"value\": 2.3}, {\"Species\": \"virginica\", \"variable\": \"Petal.Width\", \"value\": 2.4}, {\"Species\": \"virginica\", \"variable\": \"Petal.Width\", \"value\": 1.8}, {\"Species\": \"virginica\", \"variable\": \"Petal.Width\", \"value\": 1.8}, {\"Species\": \"virginica\", \"variable\": \"Petal.Width\", \"value\": 2.1}, {\"Species\": \"virginica\", \"variable\": \"Petal.Width\", \"value\": 2.4}, {\"Species\": \"virginica\", \"variable\": \"Petal.Width\", \"value\": 2.3}, {\"Species\": \"virginica\", \"variable\": \"Petal.Width\", \"value\": 1.9}, {\"Species\": \"virginica\", \"variable\": \"Petal.Width\", \"value\": 2.3}, {\"Species\": \"virginica\", \"variable\": \"Petal.Width\", \"value\": 2.5}, {\"Species\": \"virginica\", \"variable\": \"Petal.Width\", \"value\": 2.3}, {\"Species\": \"virginica\", \"variable\": \"Petal.Width\", \"value\": 1.9}, {\"Species\": \"virginica\", \"variable\": \"Petal.Width\", \"value\": 2.0}, {\"Species\": \"virginica\", \"variable\": \"Petal.Width\", \"value\": 2.3}, {\"Species\": \"virginica\", \"variable\": \"Petal.Width\", \"value\": 1.8}]}};\n",
       "var selector = \"#e01ae399-4bdd-406d-acc3-2dda516d1eee\";\n",
       "var type = \"vega-lite\";\n",
       "\n",
       "var output_area = this;\n",
       "require(['nbextensions/jupyter-vega/index'], function(vega) {\n",
       "  vega.render(selector, spec, type, output_area);\n",
       "}, function (err) {\n",
       "  if (err.requireType !== 'scripterror') {\n",
       "    throw(err);\n",
       "  }\n",
       "});\n"
      ]
     },
     "metadata": {
      "jupyter-vega": "#e01ae399-4bdd-406d-acc3-2dda516d1eee"
     },
     "output_type": "display_data"
    },
    {
     "data": {
      "image/png": "[encoded data removed]"
     },
     "metadata": {
      "jupyter-vega": "#e01ae399-4bdd-406d-acc3-2dda516d1eee"
     },
     "output_type": "display_data"
    }
   ],
   "source": [
    "Chart(iris_m).mark_bar().encode(\n",
    "    x=X('value',\n",
    "        bin=Bin(\n",
    "            maxbins=30.0,\n",
    "        ),\n",
    "    ),\n",
    "    y='count(*):Q',\n",
    ")"
   ]
  },
  {
   "cell_type": "code",
   "execution_count": 34,
   "metadata": {},
   "outputs": [
    {
     "data": {
      "text/html": [
       "<div class=\"vega-embed\" id=\"5f0c3838-314b-4f40-a0c7-a7a851039a3d\"></div>\n",
       "\n",
       "<style>\n",
       ".vega-embed svg, .vega-embed canvas {\n",
       "  border: 1px dotted gray;\n",
       "}\n",
       "\n",
       ".vega-embed .vega-actions a {\n",
       "  margin-right: 6px;\n",
       "}\n",
       "</style>\n"
      ]
     },
     "metadata": {
      "jupyter-vega": "#5f0c3838-314b-4f40-a0c7-a7a851039a3d"
     },
     "output_type": "display_data"
    },
    {
     "data": {
      "application/javascript": [
       "var spec = {\"config\": {\"cell\": {\"width\": 500, \"height\": 350}}, \"encoding\": {\"row\": {\"field\": \"Origin\", \"type\": \"nominal\"}, \"x\": {\"bin\": {\"maxbins\": 15.0}, \"field\": \"Horsepower\", \"type\": \"quantitative\"}, \"y\": {\"aggregate\": \"count\", \"field\": \"*\", \"type\": \"quantitative\"}}, \"mark\": \"bar\", \"data\": {\"url\": \"http://vega.github.io/vega-lite/data/cars.json\"}};\n",
       "var selector = \"#5f0c3838-314b-4f40-a0c7-a7a851039a3d\";\n",
       "var type = \"vega-lite\";\n",
       "\n",
       "var output_area = this;\n",
       "require(['nbextensions/jupyter-vega/index'], function(vega) {\n",
       "  vega.render(selector, spec, type, output_area);\n",
       "}, function (err) {\n",
       "  if (err.requireType !== 'scripterror') {\n",
       "    throw(err);\n",
       "  }\n",
       "});\n"
      ]
     },
     "metadata": {
      "jupyter-vega": "#5f0c3838-314b-4f40-a0c7-a7a851039a3d"
     },
     "output_type": "display_data"
    },
    {
     "data": {
      "image/png": "[encoded data removed]"
     },
     "metadata": {
      "jupyter-vega": "#5f0c3838-314b-4f40-a0c7-a7a851039a3d"
     },
     "output_type": "display_data"
    }
   ],
   "source": [
    "Chart('http://vega.github.io/vega-lite/data/cars.json').mark_bar().encode(\n",
    "    row='Origin:N',\n",
    "    x=X('Horsepower:Q',\n",
    "        bin=Bin(\n",
    "            maxbins=15.0,\n",
    "        ),\n",
    "    ),\n",
    "    y='count(*):Q',\n",
    ")"
   ]
  },
  {
   "cell_type": "markdown",
   "metadata": {},
   "source": [
    "### Diagramme en pointes de tarte\n",
    "\n",
    "La plupart des spécialistes en visualisation sont d'avis que les diagrammes en pointes de tarte peuvent occasionner des problèmes de perception, et suggèrent de les éviter. [Ann K. Emery](http://annkemery.com/portfolio/pie/) suggère de limiter leur utilisation à des données compositionnelles: des catégories dont chacune est une proportion d'un tout à somme constante, comme 1 ou 100%. Il n'est pas approprié de présenter plusieurs diagrammes en pointes de tarte pour comparer des ensembles de proportion d'une situation à une autre, par exemple la proportion des espèces menacées de classes vulnérable, en danger et en état critique d'une année à l'autre (utilisez plutôt des barres empilées ou des diagrammes en pente, que nous verons plus loin). Enfin, un nombre trop élevé de pointes peut rendre le graphique illisible: n'utilisez pas plus de 3 classes.\n",
    "\n",
    "`altair` ne permet pas de dessiner ces diagrammes. C'est toutefois possible avec `pandas`."
   ]
  },
  {
   "cell_type": "code",
   "execution_count": 31,
   "metadata": {
    "scrolled": false
   },
   "outputs": [
    {
     "data": {
      "text/plain": [
       "<matplotlib.axes._subplots.AxesSubplot at 0x7fa5e14ea828>"
      ]
     },
     "execution_count": 31,
     "metadata": {},
     "output_type": "execute_result"
    },
    {
     "data": {
      "image/png": "[encoded data removed]",
      "text/plain": [
       "<matplotlib.figure.Figure at 0x7fa5e1769320>"
      ]
     },
     "metadata": {},
     "output_type": "display_data"
    }
   ],
   "source": [
    "germany_prop = especes_pays_iucn.loc[especes_pays_iucn.Country == 'Germany', 'Proportion']\n",
    "germany_prop.index = especes_pays_iucn.loc[especes_pays_iucn.Country == 'Germany', 'IUCN']\n",
    "germany_prop.plot.pie(figsize=(5, 5))"
   ]
  },
  {
   "cell_type": "markdown",
   "metadata": {},
   "source": [
    "Étant donnée que les étiquettes sont inscrite selon les indices des éléments de la série, la ligne `germany_prop.index = ...` permet de spécifier ces indices comme étant les IUCN."
   ]
  },
  {
   "cell_type": "markdown",
   "metadata": {},
   "source": [
    "### Nuage de points\n",
    "\n",
    "Général...\n",
    "\n",
    "Couleurs, formes, bulles\n",
    "\n",
    "#### Facet\n",
    "\n",
    "\n",
    "#### Bivarié"
   ]
  },
  {
   "cell_type": "markdown",
   "metadata": {},
   "source": [
    "### Lignes\n",
    "\n",
    "#### Séries\n",
    "\n",
    "#### Chemin\n",
    "\n",
    "#### Pentes\n",
    "\n",
    "#### Aires\n",
    "\n",
    "#### Aires empilées\n",
    "\n",
    "#### Densité"
   ]
  },
  {
   "cell_type": "markdown",
   "metadata": {},
   "source": [
    "### Autres\n",
    "\n",
    "#### Boxplot"
   ]
  },
  {
   "cell_type": "code",
   "execution_count": 25,
   "metadata": {},
   "outputs": [
    {
     "data": {
      "text/html": [
       "<div>\n",
       "<style>\n",
       "    .dataframe thead tr:only-child th {\n",
       "        text-align: right;\n",
       "    }\n",
       "\n",
       "    .dataframe thead th {\n",
       "        text-align: left;\n",
       "    }\n",
       "\n",
       "    .dataframe tbody tr th {\n",
       "        vertical-align: top;\n",
       "    }\n",
       "</style>\n",
       "<table border=\"1\" class=\"dataframe\">\n",
       "  <thead>\n",
       "    <tr style=\"text-align: right;\">\n",
       "      <th></th>\n",
       "      <th>Country</th>\n",
       "      <th>IUCN</th>\n",
       "      <th>Value</th>\n",
       "      <th>tri</th>\n",
       "      <th>Proportion</th>\n",
       "    </tr>\n",
       "  </thead>\n",
       "  <tbody>\n",
       "    <tr>\n",
       "      <th>24</th>\n",
       "      <td>Czech Republic</td>\n",
       "      <td>ENDANGERED</td>\n",
       "      <td>2376.0</td>\n",
       "      <td>7540.0</td>\n",
       "      <td>0.315119</td>\n",
       "    </tr>\n",
       "    <tr>\n",
       "      <th>25</th>\n",
       "      <td>Czech Republic</td>\n",
       "      <td>VULNERABLE</td>\n",
       "      <td>3005.0</td>\n",
       "      <td>7540.0</td>\n",
       "      <td>0.398541</td>\n",
       "    </tr>\n",
       "    <tr>\n",
       "      <th>23</th>\n",
       "      <td>Czech Republic</td>\n",
       "      <td>CRITICAL</td>\n",
       "      <td>2159.0</td>\n",
       "      <td>7540.0</td>\n",
       "      <td>0.28634</td>\n",
       "    </tr>\n",
       "    <tr>\n",
       "      <th>109</th>\n",
       "      <td>United States</td>\n",
       "      <td>CRITICAL</td>\n",
       "      <td>1409.0</td>\n",
       "      <td>6005.0</td>\n",
       "      <td>0.234638</td>\n",
       "    </tr>\n",
       "    <tr>\n",
       "      <th>111</th>\n",
       "      <td>United States</td>\n",
       "      <td>VULNERABLE</td>\n",
       "      <td>2965.0</td>\n",
       "      <td>6005.0</td>\n",
       "      <td>0.493755</td>\n",
       "    </tr>\n",
       "    <tr>\n",
       "      <th>110</th>\n",
       "      <td>United States</td>\n",
       "      <td>ENDANGERED</td>\n",
       "      <td>1631.0</td>\n",
       "      <td>6005.0</td>\n",
       "      <td>0.271607</td>\n",
       "    </tr>\n",
       "    <tr>\n",
       "      <th>40</th>\n",
       "      <td>Germany</td>\n",
       "      <td>VULNERABLE</td>\n",
       "      <td>2867.0</td>\n",
       "      <td>5039.0</td>\n",
       "      <td>0.568962</td>\n",
       "    </tr>\n",
       "    <tr>\n",
       "      <th>39</th>\n",
       "      <td>Germany</td>\n",
       "      <td>ENDANGERED</td>\n",
       "      <td>1257.0</td>\n",
       "      <td>5039.0</td>\n",
       "      <td>0.249454</td>\n",
       "    </tr>\n",
       "    <tr>\n",
       "      <th>38</th>\n",
       "      <td>Germany</td>\n",
       "      <td>CRITICAL</td>\n",
       "      <td>915.0</td>\n",
       "      <td>5039.0</td>\n",
       "      <td>0.181584</td>\n",
       "    </tr>\n",
       "    <tr>\n",
       "      <th>89</th>\n",
       "      <td>Slovak Republic</td>\n",
       "      <td>ENDANGERED</td>\n",
       "      <td>731.0</td>\n",
       "      <td>2833.0</td>\n",
       "      <td>0.25803</td>\n",
       "    </tr>\n",
       "    <tr>\n",
       "      <th>88</th>\n",
       "      <td>Slovak Republic</td>\n",
       "      <td>CRITICAL</td>\n",
       "      <td>594.0</td>\n",
       "      <td>2833.0</td>\n",
       "      <td>0.209672</td>\n",
       "    </tr>\n",
       "    <tr>\n",
       "      <th>90</th>\n",
       "      <td>Slovak Republic</td>\n",
       "      <td>VULNERABLE</td>\n",
       "      <td>1508.0</td>\n",
       "      <td>2833.0</td>\n",
       "      <td>0.532298</td>\n",
       "    </tr>\n",
       "    <tr>\n",
       "      <th>5</th>\n",
       "      <td>Austria</td>\n",
       "      <td>VULNERABLE</td>\n",
       "      <td>1284.0</td>\n",
       "      <td>2826.0</td>\n",
       "      <td>0.454352</td>\n",
       "    </tr>\n",
       "    <tr>\n",
       "      <th>4</th>\n",
       "      <td>Austria</td>\n",
       "      <td>ENDANGERED</td>\n",
       "      <td>924.0</td>\n",
       "      <td>2826.0</td>\n",
       "      <td>0.326964</td>\n",
       "    </tr>\n",
       "    <tr>\n",
       "      <th>3</th>\n",
       "      <td>Austria</td>\n",
       "      <td>CRITICAL</td>\n",
       "      <td>618.0</td>\n",
       "      <td>2826.0</td>\n",
       "      <td>0.218684</td>\n",
       "    </tr>\n",
       "    <tr>\n",
       "      <th>102</th>\n",
       "      <td>Switzerland</td>\n",
       "      <td>VULNERABLE</td>\n",
       "      <td>1332.0</td>\n",
       "      <td>2571.0</td>\n",
       "      <td>0.518086</td>\n",
       "    </tr>\n",
       "    <tr>\n",
       "      <th>101</th>\n",
       "      <td>Switzerland</td>\n",
       "      <td>ENDANGERED</td>\n",
       "      <td>756.0</td>\n",
       "      <td>2571.0</td>\n",
       "      <td>0.294049</td>\n",
       "    </tr>\n",
       "    <tr>\n",
       "      <th>100</th>\n",
       "      <td>Switzerland</td>\n",
       "      <td>CRITICAL</td>\n",
       "      <td>483.0</td>\n",
       "      <td>2571.0</td>\n",
       "      <td>0.187865</td>\n",
       "    </tr>\n",
       "    <tr>\n",
       "      <th>58</th>\n",
       "      <td>Japan</td>\n",
       "      <td>VULNERABLE</td>\n",
       "      <td>1035.0</td>\n",
       "      <td>2497.0</td>\n",
       "      <td>0.414497</td>\n",
       "    </tr>\n",
       "    <tr>\n",
       "      <th>57</th>\n",
       "      <td>Japan</td>\n",
       "      <td>ENDANGERED</td>\n",
       "      <td>834.0</td>\n",
       "      <td>2497.0</td>\n",
       "      <td>0.334001</td>\n",
       "    </tr>\n",
       "    <tr>\n",
       "      <th>56</th>\n",
       "      <td>Japan</td>\n",
       "      <td>CRITICAL</td>\n",
       "      <td>628.0</td>\n",
       "      <td>2497.0</td>\n",
       "      <td>0.251502</td>\n",
       "    </tr>\n",
       "    <tr>\n",
       "      <th>82</th>\n",
       "      <td>Poland</td>\n",
       "      <td>CRITICAL</td>\n",
       "      <td>485.0</td>\n",
       "      <td>2308.0</td>\n",
       "      <td>0.210139</td>\n",
       "    </tr>\n",
       "    <tr>\n",
       "      <th>83</th>\n",
       "      <td>Poland</td>\n",
       "      <td>ENDANGERED</td>\n",
       "      <td>798.0</td>\n",
       "      <td>2308.0</td>\n",
       "      <td>0.345754</td>\n",
       "    </tr>\n",
       "    <tr>\n",
       "      <th>84</th>\n",
       "      <td>Poland</td>\n",
       "      <td>VULNERABLE</td>\n",
       "      <td>1025.0</td>\n",
       "      <td>2308.0</td>\n",
       "      <td>0.444107</td>\n",
       "    </tr>\n",
       "    <tr>\n",
       "      <th>32</th>\n",
       "      <td>Finland</td>\n",
       "      <td>CRITICAL</td>\n",
       "      <td>272.0</td>\n",
       "      <td>1987.0</td>\n",
       "      <td>0.13689</td>\n",
       "    </tr>\n",
       "    <tr>\n",
       "      <th>33</th>\n",
       "      <td>Finland</td>\n",
       "      <td>ENDANGERED</td>\n",
       "      <td>650.0</td>\n",
       "      <td>1987.0</td>\n",
       "      <td>0.327126</td>\n",
       "    </tr>\n",
       "    <tr>\n",
       "      <th>34</th>\n",
       "      <td>Finland</td>\n",
       "      <td>VULNERABLE</td>\n",
       "      <td>1065.0</td>\n",
       "      <td>1987.0</td>\n",
       "      <td>0.535984</td>\n",
       "    </tr>\n",
       "    <tr>\n",
       "      <th>79</th>\n",
       "      <td>Norway</td>\n",
       "      <td>CRITICAL</td>\n",
       "      <td>208.0</td>\n",
       "      <td>1898.0</td>\n",
       "      <td>0.109589</td>\n",
       "    </tr>\n",
       "    <tr>\n",
       "      <th>80</th>\n",
       "      <td>Norway</td>\n",
       "      <td>ENDANGERED</td>\n",
       "      <td>714.0</td>\n",
       "      <td>1898.0</td>\n",
       "      <td>0.376185</td>\n",
       "    </tr>\n",
       "    <tr>\n",
       "      <th>81</th>\n",
       "      <td>Norway</td>\n",
       "      <td>VULNERABLE</td>\n",
       "      <td>976.0</td>\n",
       "      <td>1898.0</td>\n",
       "      <td>0.514226</td>\n",
       "    </tr>\n",
       "    <tr>\n",
       "      <th>...</th>\n",
       "      <td>...</td>\n",
       "      <td>...</td>\n",
       "      <td>...</td>\n",
       "      <td>...</td>\n",
       "      <td>...</td>\n",
       "    </tr>\n",
       "    <tr>\n",
       "      <th>43</th>\n",
       "      <td>Greece</td>\n",
       "      <td>VULNERABLE</td>\n",
       "      <td>283.0</td>\n",
       "      <td>487.0</td>\n",
       "      <td>0.581109</td>\n",
       "    </tr>\n",
       "    <tr>\n",
       "      <th>64</th>\n",
       "      <td>Latvia</td>\n",
       "      <td>VULNERABLE</td>\n",
       "      <td>160.0</td>\n",
       "      <td>427.0</td>\n",
       "      <td>0.374707</td>\n",
       "    </tr>\n",
       "    <tr>\n",
       "      <th>63</th>\n",
       "      <td>Latvia</td>\n",
       "      <td>ENDANGERED</td>\n",
       "      <td>231.0</td>\n",
       "      <td>427.0</td>\n",
       "      <td>0.540984</td>\n",
       "    </tr>\n",
       "    <tr>\n",
       "      <th>62</th>\n",
       "      <td>Latvia</td>\n",
       "      <td>CRITICAL</td>\n",
       "      <td>36.0</td>\n",
       "      <td>427.0</td>\n",
       "      <td>0.0843091</td>\n",
       "    </tr>\n",
       "    <tr>\n",
       "      <th>69</th>\n",
       "      <td>Luxembourg</td>\n",
       "      <td>VULNERABLE</td>\n",
       "      <td>139.0</td>\n",
       "      <td>413.0</td>\n",
       "      <td>0.336562</td>\n",
       "    </tr>\n",
       "    <tr>\n",
       "      <th>68</th>\n",
       "      <td>Luxembourg</td>\n",
       "      <td>ENDANGERED</td>\n",
       "      <td>138.0</td>\n",
       "      <td>413.0</td>\n",
       "      <td>0.33414</td>\n",
       "    </tr>\n",
       "    <tr>\n",
       "      <th>67</th>\n",
       "      <td>Luxembourg</td>\n",
       "      <td>CRITICAL</td>\n",
       "      <td>136.0</td>\n",
       "      <td>413.0</td>\n",
       "      <td>0.329298</td>\n",
       "    </tr>\n",
       "    <tr>\n",
       "      <th>99</th>\n",
       "      <td>Sweden</td>\n",
       "      <td>VULNERABLE</td>\n",
       "      <td>177.0</td>\n",
       "      <td>384.0</td>\n",
       "      <td>0.460938</td>\n",
       "    </tr>\n",
       "    <tr>\n",
       "      <th>98</th>\n",
       "      <td>Sweden</td>\n",
       "      <td>ENDANGERED</td>\n",
       "      <td>141.0</td>\n",
       "      <td>384.0</td>\n",
       "      <td>0.367188</td>\n",
       "    </tr>\n",
       "    <tr>\n",
       "      <th>97</th>\n",
       "      <td>Sweden</td>\n",
       "      <td>CRITICAL</td>\n",
       "      <td>66.0</td>\n",
       "      <td>384.0</td>\n",
       "      <td>0.171875</td>\n",
       "    </tr>\n",
       "    <tr>\n",
       "      <th>78</th>\n",
       "      <td>New Zealand</td>\n",
       "      <td>VULNERABLE</td>\n",
       "      <td>105.0</td>\n",
       "      <td>340.0</td>\n",
       "      <td>0.308824</td>\n",
       "    </tr>\n",
       "    <tr>\n",
       "      <th>77</th>\n",
       "      <td>New Zealand</td>\n",
       "      <td>ENDANGERED</td>\n",
       "      <td>76.0</td>\n",
       "      <td>340.0</td>\n",
       "      <td>0.223529</td>\n",
       "    </tr>\n",
       "    <tr>\n",
       "      <th>76</th>\n",
       "      <td>New Zealand</td>\n",
       "      <td>CRITICAL</td>\n",
       "      <td>159.0</td>\n",
       "      <td>340.0</td>\n",
       "      <td>0.467647</td>\n",
       "    </tr>\n",
       "    <tr>\n",
       "      <th>46</th>\n",
       "      <td>Hungary</td>\n",
       "      <td>VULNERABLE</td>\n",
       "      <td>191.0</td>\n",
       "      <td>280.0</td>\n",
       "      <td>0.682143</td>\n",
       "    </tr>\n",
       "    <tr>\n",
       "      <th>45</th>\n",
       "      <td>Hungary</td>\n",
       "      <td>ENDANGERED</td>\n",
       "      <td>76.0</td>\n",
       "      <td>280.0</td>\n",
       "      <td>0.271429</td>\n",
       "    </tr>\n",
       "    <tr>\n",
       "      <th>44</th>\n",
       "      <td>Hungary</td>\n",
       "      <td>CRITICAL</td>\n",
       "      <td>13.0</td>\n",
       "      <td>280.0</td>\n",
       "      <td>0.0464286</td>\n",
       "    </tr>\n",
       "    <tr>\n",
       "      <th>66</th>\n",
       "      <td>Lithuania</td>\n",
       "      <td>VULNERABLE</td>\n",
       "      <td>137.0</td>\n",
       "      <td>267.0</td>\n",
       "      <td>0.513109</td>\n",
       "    </tr>\n",
       "    <tr>\n",
       "      <th>65</th>\n",
       "      <td>Lithuania</td>\n",
       "      <td>ENDANGERED</td>\n",
       "      <td>130.0</td>\n",
       "      <td>267.0</td>\n",
       "      <td>0.486891</td>\n",
       "    </tr>\n",
       "    <tr>\n",
       "      <th>22</th>\n",
       "      <td>Costa Rica</td>\n",
       "      <td>VULNERABLE</td>\n",
       "      <td>120.0</td>\n",
       "      <td>228.0</td>\n",
       "      <td>0.526316</td>\n",
       "    </tr>\n",
       "    <tr>\n",
       "      <th>20</th>\n",
       "      <td>Costa Rica</td>\n",
       "      <td>CRITICAL</td>\n",
       "      <td>40.0</td>\n",
       "      <td>228.0</td>\n",
       "      <td>0.175439</td>\n",
       "    </tr>\n",
       "    <tr>\n",
       "      <th>21</th>\n",
       "      <td>Costa Rica</td>\n",
       "      <td>ENDANGERED</td>\n",
       "      <td>68.0</td>\n",
       "      <td>228.0</td>\n",
       "      <td>0.298246</td>\n",
       "    </tr>\n",
       "    <tr>\n",
       "      <th>87</th>\n",
       "      <td>Portugal</td>\n",
       "      <td>VULNERABLE</td>\n",
       "      <td>86.0</td>\n",
       "      <td>176.0</td>\n",
       "      <td>0.488636</td>\n",
       "    </tr>\n",
       "    <tr>\n",
       "      <th>86</th>\n",
       "      <td>Portugal</td>\n",
       "      <td>ENDANGERED</td>\n",
       "      <td>51.0</td>\n",
       "      <td>176.0</td>\n",
       "      <td>0.289773</td>\n",
       "    </tr>\n",
       "    <tr>\n",
       "      <th>85</th>\n",
       "      <td>Portugal</td>\n",
       "      <td>CRITICAL</td>\n",
       "      <td>39.0</td>\n",
       "      <td>176.0</td>\n",
       "      <td>0.221591</td>\n",
       "    </tr>\n",
       "    <tr>\n",
       "      <th>49</th>\n",
       "      <td>Iceland</td>\n",
       "      <td>VULNERABLE</td>\n",
       "      <td>16.0</td>\n",
       "      <td>33.0</td>\n",
       "      <td>0.484848</td>\n",
       "    </tr>\n",
       "    <tr>\n",
       "      <th>48</th>\n",
       "      <td>Iceland</td>\n",
       "      <td>ENDANGERED</td>\n",
       "      <td>11.0</td>\n",
       "      <td>33.0</td>\n",
       "      <td>0.333333</td>\n",
       "    </tr>\n",
       "    <tr>\n",
       "      <th>47</th>\n",
       "      <td>Iceland</td>\n",
       "      <td>CRITICAL</td>\n",
       "      <td>6.0</td>\n",
       "      <td>33.0</td>\n",
       "      <td>0.181818</td>\n",
       "    </tr>\n",
       "    <tr>\n",
       "      <th>103</th>\n",
       "      <td>Turkey</td>\n",
       "      <td>CRITICAL</td>\n",
       "      <td>2.0</td>\n",
       "      <td>10.0</td>\n",
       "      <td>0.2</td>\n",
       "    </tr>\n",
       "    <tr>\n",
       "      <th>104</th>\n",
       "      <td>Turkey</td>\n",
       "      <td>ENDANGERED</td>\n",
       "      <td>4.0</td>\n",
       "      <td>10.0</td>\n",
       "      <td>0.4</td>\n",
       "    </tr>\n",
       "    <tr>\n",
       "      <th>105</th>\n",
       "      <td>Turkey</td>\n",
       "      <td>VULNERABLE</td>\n",
       "      <td>4.0</td>\n",
       "      <td>10.0</td>\n",
       "      <td>0.4</td>\n",
       "    </tr>\n",
       "  </tbody>\n",
       "</table>\n",
       "<p>112 rows × 5 columns</p>\n",
       "</div>"
      ],
      "text/plain": [
       "             Country        IUCN   Value     tri Proportion\n",
       "24    Czech Republic  ENDANGERED  2376.0  7540.0   0.315119\n",
       "25    Czech Republic  VULNERABLE  3005.0  7540.0   0.398541\n",
       "23    Czech Republic    CRITICAL  2159.0  7540.0    0.28634\n",
       "109    United States    CRITICAL  1409.0  6005.0   0.234638\n",
       "111    United States  VULNERABLE  2965.0  6005.0   0.493755\n",
       "110    United States  ENDANGERED  1631.0  6005.0   0.271607\n",
       "40           Germany  VULNERABLE  2867.0  5039.0   0.568962\n",
       "39           Germany  ENDANGERED  1257.0  5039.0   0.249454\n",
       "38           Germany    CRITICAL   915.0  5039.0   0.181584\n",
       "89   Slovak Republic  ENDANGERED   731.0  2833.0    0.25803\n",
       "88   Slovak Republic    CRITICAL   594.0  2833.0   0.209672\n",
       "90   Slovak Republic  VULNERABLE  1508.0  2833.0   0.532298\n",
       "5            Austria  VULNERABLE  1284.0  2826.0   0.454352\n",
       "4            Austria  ENDANGERED   924.0  2826.0   0.326964\n",
       "3            Austria    CRITICAL   618.0  2826.0   0.218684\n",
       "102      Switzerland  VULNERABLE  1332.0  2571.0   0.518086\n",
       "101      Switzerland  ENDANGERED   756.0  2571.0   0.294049\n",
       "100      Switzerland    CRITICAL   483.0  2571.0   0.187865\n",
       "58             Japan  VULNERABLE  1035.0  2497.0   0.414497\n",
       "57             Japan  ENDANGERED   834.0  2497.0   0.334001\n",
       "56             Japan    CRITICAL   628.0  2497.0   0.251502\n",
       "82            Poland    CRITICAL   485.0  2308.0   0.210139\n",
       "83            Poland  ENDANGERED   798.0  2308.0   0.345754\n",
       "84            Poland  VULNERABLE  1025.0  2308.0   0.444107\n",
       "32           Finland    CRITICAL   272.0  1987.0    0.13689\n",
       "33           Finland  ENDANGERED   650.0  1987.0   0.327126\n",
       "34           Finland  VULNERABLE  1065.0  1987.0   0.535984\n",
       "79            Norway    CRITICAL   208.0  1898.0   0.109589\n",
       "80            Norway  ENDANGERED   714.0  1898.0   0.376185\n",
       "81            Norway  VULNERABLE   976.0  1898.0   0.514226\n",
       "..               ...         ...     ...     ...        ...\n",
       "43            Greece  VULNERABLE   283.0   487.0   0.581109\n",
       "64            Latvia  VULNERABLE   160.0   427.0   0.374707\n",
       "63            Latvia  ENDANGERED   231.0   427.0   0.540984\n",
       "62            Latvia    CRITICAL    36.0   427.0  0.0843091\n",
       "69        Luxembourg  VULNERABLE   139.0   413.0   0.336562\n",
       "68        Luxembourg  ENDANGERED   138.0   413.0    0.33414\n",
       "67        Luxembourg    CRITICAL   136.0   413.0   0.329298\n",
       "99            Sweden  VULNERABLE   177.0   384.0   0.460938\n",
       "98            Sweden  ENDANGERED   141.0   384.0   0.367188\n",
       "97            Sweden    CRITICAL    66.0   384.0   0.171875\n",
       "78       New Zealand  VULNERABLE   105.0   340.0   0.308824\n",
       "77       New Zealand  ENDANGERED    76.0   340.0   0.223529\n",
       "76       New Zealand    CRITICAL   159.0   340.0   0.467647\n",
       "46           Hungary  VULNERABLE   191.0   280.0   0.682143\n",
       "45           Hungary  ENDANGERED    76.0   280.0   0.271429\n",
       "44           Hungary    CRITICAL    13.0   280.0  0.0464286\n",
       "66         Lithuania  VULNERABLE   137.0   267.0   0.513109\n",
       "65         Lithuania  ENDANGERED   130.0   267.0   0.486891\n",
       "22        Costa Rica  VULNERABLE   120.0   228.0   0.526316\n",
       "20        Costa Rica    CRITICAL    40.0   228.0   0.175439\n",
       "21        Costa Rica  ENDANGERED    68.0   228.0   0.298246\n",
       "87          Portugal  VULNERABLE    86.0   176.0   0.488636\n",
       "86          Portugal  ENDANGERED    51.0   176.0   0.289773\n",
       "85          Portugal    CRITICAL    39.0   176.0   0.221591\n",
       "49           Iceland  VULNERABLE    16.0    33.0   0.484848\n",
       "48           Iceland  ENDANGERED    11.0    33.0   0.333333\n",
       "47           Iceland    CRITICAL     6.0    33.0   0.181818\n",
       "103           Turkey    CRITICAL     2.0    10.0        0.2\n",
       "104           Turkey  ENDANGERED     4.0    10.0        0.4\n",
       "105           Turkey  VULNERABLE     4.0    10.0        0.4\n",
       "\n",
       "[112 rows x 5 columns]"
      ]
     },
     "execution_count": 25,
     "metadata": {},
     "output_type": "execute_result"
    }
   ],
   "source": [
    "especes_pays_iucn"
   ]
  },
  {
   "cell_type": "markdown",
   "metadata": {},
   "source": [
    "### Choisir les bonnes couleurs\n",
    "\n",
    "*La couleur est une information*. Les couleurs devraient être sélectionnées d'abord pour être lisibles par les personnes ne percevant pas les couleurs, selon le support (apte à être photocopié, lisible à l'écran, lisible sur des documents imprimés en noir et blanc) et selon le type de données.\n",
    "- Données continues ou catégorielles ordinales: gradient (transition graduelle d'une couleur à l'autre), séquence (transition saccadée selon des groupes de données continues) ou divergentes (transition saccadée d'une couleur à l'autre vers des couleurs divergentes, par exemple orange vers blanc vers bleu).\n",
    "- Données catégorielles nominales: couleurs éloignées d'une catégorie à une autre (plus il y a de catégories, plus les couleurs sont susceptibles de se ressembler).\n",
    "\n",
    "<center> \n",
    "  <img src=\"images/colorbrewer2.png\" width=\"200\">\n",
    "  Capture d'écran de [colorbrewer2.org](http://colorbrewer2.org), qui propose des palettes de couleurs pour créer des cartes, mais l'information est pertinente pour tout type de graphique.\n",
    "</center>\n"
   ]
  },
  {
   "cell_type": "markdown",
   "metadata": {},
   "source": [
    "Présenter un tableau de trois dessins, avec describe.\n",
    "\n",
    "Pour montrer que ce n'est pas suffisant, présenter des boxplots\n",
    "\n",
    "Puis des scatter\n",
    "\n",
    "Puis cette image"
   ]
  },
  {
   "cell_type": "markdown",
   "metadata": {},
   "source": []
  },
  {
   "cell_type": "markdown",
   "metadata": {},
   "source": [
    "Pour montrer le danger des boxplots.\n",
    "\n",
    "![](https://d2f99xq7vri1nk.cloudfront.net/boxplots.gif)"
   ]
  },
  {
   "cell_type": "markdown",
   "metadata": {},
   "source": []
  },
  {
   "cell_type": "code",
   "execution_count": 4,
   "metadata": {
    "collapsed": true
   },
   "outputs": [],
   "source": [
    "ascombe = pd.read_csv('data/ascombe.csv', sep=';') # réserver ascombe pour les stats"
   ]
  },
  {
   "cell_type": "markdown",
   "metadata": {},
   "source": [
    "Besoins:\n",
    "\n",
    "- scatter\n",
    "    - Altair: Oui\n",
    "- boxplot\n",
    "    - Altair: Non\n",
    "    - pandas: oui\n",
    "- density\n",
    "    - Altair: oui, avec scipy (voir ci-dessous)\n",
    "    - pndas: oui\n",
    "- superposition\n",
    "    - Altair: LayeredChart\n",
    "- polygones (e.g. ellipses)\n",
    "    - Altair: Path?\n",
    "- texte\n",
    "    - Altair: mark text\n",
    "- facet\n",
    "    - Altair: oui\n",
    "- légendes\n",
    "    - Altair: oui\n",
    "- annotations\n",
    "    - Altair: mark text\n",
    "- intervalles de confiance\n",
    "    - Altair: custom\n",
    "- barres\n",
    "    - Altair: oui\n",
    "- histogrammes\n",
    "    - Altair: oui\n",
    "- cartes\n",
    "    - Altair: non\n",
    "    - geopandas: oui"
   ]
  },
  {
   "cell_type": "code",
   "execution_count": 1,
   "metadata": {
    "collapsed": true
   },
   "outputs": [],
   "source": [
    "import scipy.stats as stats\n",
    "import numpy as np\n",
    "import matplotlib.pylab as plt\n",
    "import pandas as pd\n",
    "%matplotlib inline"
   ]
  },
  {
   "cell_type": "code",
   "execution_count": 2,
   "metadata": {
    "collapsed": true
   },
   "outputs": [],
   "source": [
    "A = np.random.normal(loc=0, scale=1, size=10)\n",
    "B = np.random.normal(loc=1, scale=0.5, size=10)\n",
    "kernelA = stats.gaussian_kde(dataset=A)\n",
    "kernelB = stats.gaussian_kde(dataset=B)\n",
    "\n",
    "x = np.linspace(start=-3, #np.min(np.hstack((A, B))),\n",
    "                stop=3,#np.max(np.hstack((A, B))),\n",
    "                num=100)\n",
    "yA = kernelA(x)\n",
    "yB = kernelB(x)"
   ]
  },
  {
   "cell_type": "code",
   "execution_count": 3,
   "metadata": {
    "inputHidden": false,
    "outputHidden": false
   },
   "outputs": [
    {
     "data": {
      "text/plain": [
       "[<matplotlib.lines.Line2D at 0x7fc68ec614e0>,\n",
       " <matplotlib.lines.Line2D at 0x7fc68ec61e48>]"
      ]
     },
     "execution_count": 3,
     "metadata": {},
     "output_type": "execute_result"
    },
    {
     "data": {
      "image/png": "[encoded data removed]",
      "text/plain": [
       "<matplotlib.figure.Figure at 0x7fc6c451b4e0>"
      ]
     },
     "metadata": {},
     "output_type": "display_data"
    }
   ],
   "source": [
    "plt.plot(x, yA, x, yB)"
   ]
  },
  {
   "cell_type": "code",
   "execution_count": 4,
   "metadata": {
    "collapsed": true,
    "inputHidden": false,
    "outputHidden": false
   },
   "outputs": [],
   "source": [
    "kde_df = pd.DataFrame({'x': x, 'yA': yA, 'yB': yB}).melt(id_vars='x')"
   ]
  },
  {
   "cell_type": "code",
   "execution_count": 12,
   "metadata": {
    "collapsed": true,
    "inputHidden": false,
    "outputHidden": false
   },
   "outputs": [],
   "source": [
    "from altair import Chart, LayeredChart"
   ]
  },
  {
   "cell_type": "code",
   "execution_count": 15,
   "metadata": {
    "inputHidden": false,
    "outputHidden": false
   },
   "outputs": [
    {
     "data": {
      "text/html": [
       "<div class=\"vega-embed\" id=\"ad95e753-3794-4f2e-ba0b-8dab391aaae2\"></div>\n",
       "\n",
       "<style>\n",
       ".vega-embed svg, .vega-embed canvas {\n",
       "  border: 1px dotted gray;\n",
       "}\n",
       "\n",
       ".vega-embed .vega-actions a {\n",
       "  margin-right: 6px;\n",
       "}\n",
       "</style>\n"
      ]
     },
     "metadata": {
      "jupyter-vega": "#ad95e753-3794-4f2e-ba0b-8dab391aaae2"
     },
     "output_type": "display_data"
    },
    {
     "data": {
      "application/javascript": [
       "var spec = {\"config\": {\"cell\": {\"width\": 500, \"height\": 350}}, \"layers\": [{\"config\": {\"mark\": {\"opacity\": 0.5}}, \"encoding\": {\"color\": {\"field\": \"variable\", \"type\": \"nominal\"}, \"x\": {\"field\": \"x\", \"type\": \"quantitative\"}, \"y\": {\"field\": \"value\", \"type\": \"quantitative\"}}, \"mark\": \"area\"}, {\"encoding\": {\"color\": {\"field\": \"variable\", \"type\": \"nominal\"}, \"x\": {\"field\": \"x\", \"type\": \"quantitative\"}, \"y\": {\"field\": \"value\", \"type\": \"quantitative\"}}, \"mark\": \"line\"}], \"data\": {\"values\": [{\"x\": -3.0, \"variable\": \"yA\", \"value\": 0.049818154931987886}, {\"x\": -2.9393939393939394, \"variable\": \"yA\", \"value\": 0.05400364074583449}, {\"x\": -2.878787878787879, \"variable\": \"yA\", \"value\": 0.05791663057126151}, {\"x\": -2.8181818181818183, \"variable\": \"yA\", \"value\": 0.061458257572433735}, {\"x\": -2.757575757575758, \"variable\": \"yA\", \"value\": 0.06453946175441885}, {\"x\": -2.696969696969697, \"variable\": \"yA\", \"value\": 0.0670867653526151}, {\"x\": -2.6363636363636362, \"variable\": \"yA\", \"value\": 0.0690477807766285}, {\"x\": -2.5757575757575757, \"variable\": \"yA\", \"value\": 0.07039611336940008}, {\"x\": -2.515151515151515, \"variable\": \"yA\", \"value\": 0.0711353496930318}, {\"x\": -2.4545454545454546, \"variable\": \"yA\", \"value\": 0.07130187416877298}, {\"x\": -2.393939393939394, \"variable\": \"yA\", \"value\": 0.07096632725454351}, {\"x\": -2.333333333333333, \"variable\": \"yA\", \"value\": 0.07023359958044145}, {\"x\": -2.2727272727272725, \"variable\": \"yA\", \"value\": 0.06924134029079487}, {\"x\": -2.212121212121212, \"variable\": \"yA\", \"value\": 0.06815703618683579}, {\"x\": -2.1515151515151514, \"variable\": \"yA\", \"value\": 0.06717378438535164}, {\"x\": -2.090909090909091, \"variable\": \"yA\", \"value\": 0.06650493060053721}, {\"x\": -2.0303030303030303, \"variable\": \"yA\", \"value\": 0.0663777760952279}, {\"x\": -1.9696969696969697, \"variable\": \"yA\", \"value\": 0.06702656998609943}, {\"x\": -1.9090909090909092, \"variable\": \"yA\", \"value\": 0.06868500357871707}, {\"x\": -1.8484848484848484, \"variable\": \"yA\", \"value\": 0.07157841512346971}, {\"x\": -1.7878787878787878, \"variable\": \"yA\", \"value\": 0.07591590284769552}, {\"x\": -1.7272727272727273, \"variable\": \"yA\", \"value\": 0.08188253684647681}, {\"x\": -1.6666666666666665, \"variable\": \"yA\", \"value\": 0.08963186033402123}, {\"x\": -1.606060606060606, \"variable\": \"yA\", \"value\": 0.09927887941530869}, {\"x\": -1.5454545454545454, \"variable\": \"yA\", \"value\": 0.11089375670834245}, {\"x\": -1.4848484848484849, \"variable\": \"yA\", \"value\": 0.12449644392645014}, {\"x\": -1.4242424242424243, \"variable\": \"yA\", \"value\": 0.14005250589897478}, {\"x\": -1.3636363636363635, \"variable\": \"yA\", \"value\": 0.15747039628724213}, {\"x\": -1.303030303030303, \"variable\": \"yA\", \"value\": 0.1766004362935544}, {\"x\": -1.2424242424242424, \"variable\": \"yA\", \"value\": 0.1972357161007641}, {\"x\": -1.1818181818181817, \"variable\": \"yA\", \"value\": 0.21911508115404946}, {\"x\": -1.121212121212121, \"variable\": \"yA\", \"value\": 0.24192828144511447}, {\"x\": -1.0606060606060606, \"variable\": \"yA\", \"value\": 0.26532325499975484}, {\"x\": -1.0, \"variable\": \"yA\", \"value\": 0.28891539357558016}, {\"x\": -0.9393939393939394, \"variable\": \"yA\", \"value\": 0.31229850877115567}, {\"x\": -0.8787878787878789, \"variable\": \"yA\", \"value\": 0.33505709179632565}, {\"x\": -0.8181818181818183, \"variable\": \"yA\", \"value\": 0.3567793520854092}, {\"x\": -0.7575757575757573, \"variable\": \"yA\", \"value\": 0.3770704399640117}, {\"x\": -0.6969696969696968, \"variable\": \"yA\", \"value\": 0.39556521580032944}, {\"x\": -0.6363636363636362, \"variable\": \"yA\", \"value\": 0.41193992839061033}, {\"x\": -0.5757575757575757, \"variable\": \"yA\", \"value\": 0.425922210763951}, {\"x\": -0.5151515151515151, \"variable\": \"yA\", \"value\": 0.43729889000827454}, {\"x\": -0.4545454545454546, \"variable\": \"yA\", \"value\": 0.44592123302068193}, {\"x\": -0.39393939393939403, \"variable\": \"yA\", \"value\": 0.4517074028258889}, {\"x\": -0.33333333333333304, \"variable\": \"yA\", \"value\": 0.4546420684369369}, {\"x\": -0.2727272727272725, \"variable\": \"yA\", \"value\": 0.45477328205966505}, {\"x\": -0.21212121212121193, \"variable\": \"yA\", \"value\": 0.45220689766831945}, {\"x\": -0.15151515151515138, \"variable\": \"yA\", \"value\": 0.44709894268414413}, {\"x\": -0.09090909090909083, \"variable\": \"yA\", \"value\": 0.4396464599408165}, {\"x\": -0.030303030303030276, \"variable\": \"yA\", \"value\": 0.4300774035275927}, {\"x\": 0.030303030303030276, \"variable\": \"yA\", \"value\": 0.4186401960453567}, {\"x\": 0.09090909090909083, \"variable\": \"yA\", \"value\": 0.40559353635838535}, {\"x\": 0.15151515151515138, \"variable\": \"yA\", \"value\": 0.39119698942660736}, {\"x\": 0.21212121212121238, \"variable\": \"yA\", \"value\": 0.3757027994372597}, {\"x\": 0.27272727272727293, \"variable\": \"yA\", \"value\": 0.35934925257315486}, {\"x\": 0.3333333333333335, \"variable\": \"yA\", \"value\": 0.3423557861097325}, {\"x\": 0.39393939393939403, \"variable\": \"yA\", \"value\": 0.324919906455119}, {\"x\": 0.4545454545454546, \"variable\": \"yA\", \"value\": 0.30721585033782967}, {\"x\": 0.5151515151515151, \"variable\": \"yA\", \"value\": 0.28939480973967124}, {\"x\": 0.5757575757575757, \"variable\": \"yA\", \"value\": 0.27158644990601766}, {\"x\": 0.6363636363636367, \"variable\": \"yA\", \"value\": 0.25390138629979686}, {\"x\": 0.6969696969696972, \"variable\": \"yA\", \"value\": 0.23643425375275115}, {\"x\": 0.7575757575757578, \"variable\": \"yA\", \"value\": 0.21926699981320869}, {\"x\": 0.8181818181818183, \"variable\": \"yA\", \"value\": 0.2024720623951977}, {\"x\": 0.8787878787878789, \"variable\": \"yA\", \"value\": 0.18611514502966053}, {\"x\": 0.9393939393939394, \"variable\": \"yA\", \"value\": 0.17025737517580675}, {\"x\": 1.0, \"variable\": \"yA\", \"value\": 0.15495671474655393}, {\"x\": 1.0606060606060606, \"variable\": \"yA\", \"value\": 0.14026857919933863}, {\"x\": 1.121212121212121, \"variable\": \"yA\", \"value\": 0.1262457043265525}, {\"x\": 1.1818181818181817, \"variable\": \"yA\", \"value\": 0.11293737117765652}, {\"x\": 1.2424242424242422, \"variable\": \"yA\", \"value\": 0.10038815376838128}, {\"x\": 1.3030303030303028, \"variable\": \"yA\", \"value\": 0.08863638775304966}, {\"x\": 1.3636363636363633, \"variable\": \"yA\", \"value\": 0.07771256965341314}, {\"x\": 1.4242424242424248, \"variable\": \"yA\", \"value\": 0.06763788640148409}, {\"x\": 1.4848484848484853, \"variable\": \"yA\", \"value\": 0.05842304674325139}, {\"x\": 1.5454545454545459, \"variable\": \"yA\", \"value\": 0.05006754393626682}, {\"x\": 1.6060606060606064, \"variable\": \"yA\", \"value\": 0.04255942863072372}, {\"x\": 1.666666666666667, \"variable\": \"yA\", \"value\": 0.03587561766079972}, {\"x\": 1.7272727272727275, \"variable\": \"yA\", \"value\": 0.02998271418102358}, {\"x\": 1.787878787878788, \"variable\": \"yA\", \"value\": 0.02483827176727916}, {\"x\": 1.8484848484848486, \"variable\": \"yA\", \"value\": 0.020392403075959138}, {\"x\": 1.9090909090909092, \"variable\": \"yA\", \"value\": 0.016589614219396257}, {\"x\": 1.9696969696969697, \"variable\": \"yA\", \"value\": 0.01337073944690646}, {\"x\": 2.0303030303030303, \"variable\": \"yA\", \"value\": 0.010674855934850772}, {\"x\": 2.090909090909091, \"variable\": \"yA\", \"value\": 0.008441073347797187}, {\"x\": 2.1515151515151514, \"variable\": \"yA\", \"value\": 0.006610114530754772}, {\"x\": 2.212121212121212, \"variable\": \"yA\", \"value\": 0.005125629166308966}, {\"x\": 2.2727272727272725, \"variable\": \"yA\", \"value\": 0.003935208535239468}, {\"x\": 2.333333333333334, \"variable\": \"yA\", \"value\": 0.002991094128462845}, {\"x\": 2.3939393939393945, \"variable\": \"yA\", \"value\": 0.0022505938638354467}, {\"x\": 2.454545454545455, \"variable\": \"yA\", \"value\": 0.0016762358650501792}, {\"x\": 2.5151515151515156, \"variable\": \"yA\", \"value\": 0.0012357006643560302}, {\"x\": 2.575757575757576, \"variable\": \"yA\", \"value\": 0.0009015784122561669}, {\"x\": 2.6363636363636367, \"variable\": \"yA\", \"value\": 0.0006509988048367677}, {\"x\": 2.6969696969696972, \"variable\": \"yA\", \"value\": 0.00046517887068139337}, {\"x\": 2.757575757575758, \"variable\": \"yA\", \"value\": 0.0003289285378473937}, {\"x\": 2.8181818181818183, \"variable\": \"yA\", \"value\": 0.00023014707438782553}, {\"x\": 2.878787878787879, \"variable\": \"yA\", \"value\": 0.00015933600611956898}, {\"x\": 2.9393939393939394, \"variable\": \"yA\", \"value\": 0.00010914673097120879}, {\"x\": 3.0, \"variable\": \"yA\", \"value\": 7.397433117554622e-05}, {\"x\": -3.0, \"variable\": \"yB\", \"value\": 1.777292467805186e-18}, {\"x\": -2.9393939393939394, \"variable\": \"yB\", \"value\": 7.592936240353788e-18}, {\"x\": -2.878787878787879, \"variable\": \"yB\", \"value\": 3.155691587555137e-17}, {\"x\": -2.8181818181818183, \"variable\": \"yB\", \"value\": 1.275905325840483e-16}, {\"x\": -2.757575757575758, \"variable\": \"yB\", \"value\": 5.018651434737286e-16}, {\"x\": -2.696969696969697, \"variable\": \"yB\", \"value\": 1.9204648313858018e-15}, {\"x\": -2.6363636363636362, \"variable\": \"yB\", \"value\": 7.149620622185767e-15}, {\"x\": -2.5757575757575757, \"variable\": \"yB\", \"value\": 2.5895486966159818e-14}, {\"x\": -2.515151515151515, \"variable\": \"yB\", \"value\": 9.12509418929566e-14}, {\"x\": -2.4545454545454546, \"variable\": \"yB\", \"value\": 3.1284644785364235e-13}, {\"x\": -2.393939393939394, \"variable\": \"yB\", \"value\": 1.0435537832774224e-12}, {\"x\": -2.333333333333333, \"variable\": \"yB\", \"value\": 3.3868667780951376e-12}, {\"x\": -2.2727272727272725, \"variable\": \"yB\", \"value\": 1.0695272632573927e-11}, {\"x\": -2.212121212121212, \"variable\": \"yB\", \"value\": 3.286304650387427e-11}, {\"x\": -2.1515151515151514, \"variable\": \"yB\", \"value\": 9.82559328207909e-11}, {\"x\": -2.090909090909091, \"variable\": \"yB\", \"value\": 2.8586346990466147e-10}, {\"x\": -2.0303030303030303, \"variable\": \"yB\", \"value\": 8.093243546136956e-10}, {\"x\": -1.9696969696969697, \"variable\": \"yB\", \"value\": 2.229806297806031e-09}, {\"x\": -1.9090909090909092, \"variable\": \"yB\", \"value\": 5.978747825983675e-09}, {\"x\": -1.8484848484848484, \"variable\": \"yB\", \"value\": 1.560168539618297e-08}, {\"x\": -1.7878787878787878, \"variable\": \"yB\", \"value\": 3.96252819161299e-08}, {\"x\": -1.7272727272727273, \"variable\": \"yB\", \"value\": 9.795714333719577e-08}, {\"x\": -1.6666666666666665, \"variable\": \"yB\", \"value\": 2.3571553817354086e-07}, {\"x\": -1.606060606060606, \"variable\": \"yB\", \"value\": 5.521492040702354e-07}, {\"x\": -1.5454545454545454, \"variable\": \"yB\", \"value\": 1.2591317126449743e-06}, {\"x\": -1.4848484848484849, \"variable\": \"yB\", \"value\": 2.7955384757933735e-06}, {\"x\": -1.4242424242424243, \"variable\": \"yB\", \"value\": 6.043319691451482e-06}, {\"x\": -1.3636363636363635, \"variable\": \"yB\", \"value\": 1.2721577752328622e-05}, {\"x\": -1.303030303030303, \"variable\": \"yB\", \"value\": 2.6079837814144686e-05}, {\"x\": -1.2424242424242424, \"variable\": \"yB\", \"value\": 5.207322674354503e-05}, {\"x\": -1.1818181818181817, \"variable\": \"yB\", \"value\": 0.00010127945394778604}, {\"x\": -1.121212121212121, \"variable\": \"yB\", \"value\": 0.00019190301805888774}, {\"x\": -1.0606060606060606, \"variable\": \"yB\", \"value\": 0.00035428876644695134}, {\"x\": -1.0, \"variable\": \"yB\", \"value\": 0.0006374047014586829}, {\"x\": -0.9393939393939394, \"variable\": \"yB\", \"value\": 0.0011177089971043037}, {\"x\": -0.8787878787878789, \"variable\": \"yB\", \"value\": 0.0019106350765926753}, {\"x\": -0.8181818181818183, \"variable\": \"yB\", \"value\": 0.003184558826956094}, {\"x\": -0.7575757575757573, \"variable\": \"yB\", \"value\": 0.005176520460743787}, {\"x\": -0.6969696969696968, \"variable\": \"yB\", \"value\": 0.008208170364900673}, {\"x\": -0.6363636363636362, \"variable\": \"yB\", \"value\": 0.012699470852769318}, {\"x\": -0.5757575757575757, \"variable\": \"yB\", \"value\": 0.019176772889426805}, {\"x\": -0.5151515151515151, \"variable\": \"yB\", \"value\": 0.02827123280861038}, {\"x\": -0.4545454545454546, \"variable\": \"yB\", \"value\": 0.04070341352611252}, {\"x\": -0.39393939393939403, \"variable\": \"yB\", \"value\": 0.057250578797723786}, {\"x\": -0.33333333333333304, \"variable\": \"yB\", \"value\": 0.07869478232230388}, {\"x\": -0.2727272727272725, \"variable\": \"yB\", \"value\": 0.10575233619595169}, {\"x\": -0.21212121212121193, \"variable\": \"yB\", \"value\": 0.13898834741703836}, {\"x\": -0.15151515151515138, \"variable\": \"yB\", \"value\": 0.1787232568976735}, {\"x\": -0.09090909090909083, \"variable\": \"yB\", \"value\": 0.2249410966174196}, {\"x\": -0.030303030303030276, \"variable\": \"yB\", \"value\": 0.2772109043229049}, {\"x\": 0.030303030303030276, \"variable\": \"yB\", \"value\": 0.33463297475184256}, {\"x\": 0.09090909090909083, \"variable\": \"yB\", \"value\": 0.39582023403017935}, {\"x\": 0.15151515151515138, \"variable\": \"yB\", \"value\": 0.4589221600796492}, {\"x\": 0.21212121212121238, \"variable\": \"yB\", \"value\": 0.5216947365106244}, {\"x\": 0.27272727272727293, \"variable\": \"yB\", \"value\": 0.5816154215049857}, {\"x\": 0.3333333333333335, \"variable\": \"yB\", \"value\": 0.6360374920936193}, {\"x\": 0.39393939393939403, \"variable\": \"yB\", \"value\": 0.6823737134079585}, {\"x\": 0.4545454545454546, \"variable\": \"yB\", \"value\": 0.7182952976448975}, {\"x\": 0.5151515151515151, \"variable\": \"yB\", \"value\": 0.7419287796876953}, {\"x\": 0.5757575757575757, \"variable\": \"yB\", \"value\": 0.7520311147684162}, {\"x\": 0.6363636363636367, \"variable\": \"yB\", \"value\": 0.7481225887973941}, {\"x\": 0.6969696969696972, \"variable\": \"yB\", \"value\": 0.7305587587399338}, {\"x\": 0.7575757575757578, \"variable\": \"yB\", \"value\": 0.7005272421150217}, {\"x\": 0.8181818181818183, \"variable\": \"yB\", \"value\": 0.6599629374099112}, {\"x\": 0.8787878787878789, \"variable\": \"yB\", \"value\": 0.6113856098484612}, {\"x\": 0.9393939393939394, \"variable\": \"yB\", \"value\": 0.557675271398809}, {\"x\": 1.0, \"variable\": \"yB\", \"value\": 0.5018112688697419}, {\"x\": 1.0606060606060606, \"variable\": \"yB\", \"value\": 0.44660808351978876}, {\"x\": 1.121212121212121, \"variable\": \"yB\", \"value\": 0.3944825672589747}, {\"x\": 1.1818181818181817, \"variable\": \"yB\", \"value\": 0.3472827642806646}, {\"x\": 1.2424242424242422, \"variable\": \"yB\", \"value\": 0.30619810220723703}, {\"x\": 1.3030303030303028, \"variable\": \"yB\", \"value\": 0.2717565438985338}, {\"x\": 1.3636363636363633, \"variable\": \"yB\", \"value\": 0.243899270985131}, {\"x\": 1.4242424242424248, \"variable\": \"yB\", \"value\": 0.22211092858952436}, {\"x\": 1.4848484848484853, \"variable\": \"yB\", \"value\": 0.20557614738646363}, {\"x\": 1.5454545454545459, \"variable\": \"yB\", \"value\": 0.19333243030912586}, {\"x\": 1.6060606060606064, \"variable\": \"yB\", \"value\": 0.1843953131478523}, {\"x\": 1.666666666666667, \"variable\": \"yB\", \"value\": 0.177842127236519}, {\"x\": 1.7272727272727275, \"variable\": \"yB\", \"value\": 0.17285276018113585}, {\"x\": 1.787878787878788, \"variable\": \"yB\", \"value\": 0.16871631935034467}, {\"x\": 1.8484848484848486, \"variable\": \"yB\", \"value\": 0.1648189848761107}, {\"x\": 1.9090909090909092, \"variable\": \"yB\", \"value\": 0.16062936129403427}, {\"x\": 1.9696969696969697, \"variable\": \"yB\", \"value\": 0.15569368127336566}, {\"x\": 2.0303030303030303, \"variable\": \"yB\", \"value\": 0.14964606179002957}, {\"x\": 2.090909090909091, \"variable\": \"yB\", \"value\": 0.14223121180216372}, {\"x\": 2.1515151515151514, \"variable\": \"yB\", \"value\": 0.13333102840274222}, {\"x\": 2.212121212121212, \"variable\": \"yB\", \"value\": 0.1229840669074145}, {\"x\": 2.2727272727272725, \"variable\": \"yB\", \"value\": 0.111388346496524}, {\"x\": 2.333333333333334, \"variable\": \"yB\", \"value\": 0.09888251786251186}, {\"x\": 2.3939393939393945, \"variable\": \"yB\", \"value\": 0.08590637581086291}, {\"x\": 2.454545454545455, \"variable\": \"yB\", \"value\": 0.07294712075097569}, {\"x\": 2.5151515151515156, \"variable\": \"yB\", \"value\": 0.060481126048172344}, {\"x\": 2.575757575757576, \"variable\": \"yB\", \"value\": 0.04892153179200646}, {\"x\": 2.6363636363636367, \"variable\": \"yB\", \"value\": 0.03857994854334684}, {\"x\": 2.6969696969696972, \"variable\": \"yB\", \"value\": 0.029646814568058927}, {\"x\": 2.757575757575758, \"variable\": \"yB\", \"value\": 0.0221907260689363}, {\"x\": 2.8181818181818183, \"variable\": \"yB\", \"value\": 0.01617347905601023}, {\"x\": 2.878787878787879, \"variable\": \"yB\", \"value\": 0.01147535620660666}, {\"x\": 2.9393939393939394, \"variable\": \"yB\", \"value\": 0.007924581182752837}, {\"x\": 3.0, \"variable\": \"yB\", \"value\": 0.00532561168000665}]}};\n",
       "var selector = \"#ad95e753-3794-4f2e-ba0b-8dab391aaae2\";\n",
       "var type = \"vega-lite\";\n",
       "\n",
       "var output_area = this;\n",
       "require(['nbextensions/jupyter-vega/index'], function(vega) {\n",
       "  vega.render(selector, spec, type, output_area);\n",
       "}, function (err) {\n",
       "  if (err.requireType !== 'scripterror') {\n",
       "    throw(err);\n",
       "  }\n",
       "});\n"
      ]
     },
     "metadata": {
      "jupyter-vega": "#ad95e753-3794-4f2e-ba0b-8dab391aaae2"
     },
     "output_type": "display_data"
    },
    {
     "data": {
      "image/png": "[encoded data removed]"
     },
     "metadata": {
      "jupyter-vega": "#ad95e753-3794-4f2e-ba0b-8dab391aaae2"
     },
     "output_type": "display_data"
    }
   ],
   "source": [
    "kdeplot = LayeredChart(kde_df)\n",
    "kdeplot += Chart().\\\n",
    "    mark_area(opacity=0.5).\\\n",
    "    encode(x='x', y='value', color='variable')\n",
    "kdeplot += Chart().\\\n",
    "    mark_line().\\\n",
    "    encode(x='x', y='value', color='variable')\n",
    "kdeplot"
   ]
  },
  {
   "cell_type": "code",
   "execution_count": null,
   "metadata": {
    "collapsed": true,
    "inputHidden": false,
    "outputHidden": false
   },
   "outputs": [],
   "source": []
  },
  {
   "cell_type": "code",
   "execution_count": null,
   "metadata": {
    "collapsed": true,
    "inputHidden": false,
    "outputHidden": false
   },
   "outputs": [],
   "source": []
  },
  {
   "cell_type": "code",
   "execution_count": null,
   "metadata": {
    "collapsed": true,
    "inputHidden": false,
    "outputHidden": false
   },
   "outputs": [],
   "source": []
  },
  {
   "cell_type": "code",
   "execution_count": null,
   "metadata": {
    "collapsed": true,
    "inputHidden": false,
    "outputHidden": false
   },
   "outputs": [],
   "source": []
  },
  {
   "cell_type": "code",
   "execution_count": null,
   "metadata": {
    "collapsed": true,
    "inputHidden": false,
    "outputHidden": false
   },
   "outputs": [],
   "source": []
  },
  {
   "cell_type": "code",
   "execution_count": null,
   "metadata": {
    "collapsed": true,
    "inputHidden": false,
    "outputHidden": false
   },
   "outputs": [],
   "source": []
  },
  {
   "cell_type": "markdown",
   "metadata": {
    "inputHidden": false,
    "outputHidden": false
   },
   "source": [
    "Un coup d'oeil sur bokeh, ggpy/plotine."
   ]
  },
  {
   "cell_type": "markdown",
   "metadata": {},
   "source": [
    "Utilisation de Inkscape pour les retouches."
   ]
  }
 ],
 "metadata": {
  "kernel_info": {
   "name": "python3"
  },
  "kernelspec": {
   "display_name": "Python 3",
   "language": "python",
   "name": "python3"
  },
  "language_info": {
   "codemirror_mode": {
    "name": "ipython",
    "version": 3
   },
   "file_extension": ".py",
   "mimetype": "text/x-python",
   "name": "python",
   "nbconvert_exporter": "python",
   "pygments_lexer": "ipython3",
   "version": "3.6.1"
  }
 },
 "nbformat": 4,
 "nbformat_minor": 2
}
