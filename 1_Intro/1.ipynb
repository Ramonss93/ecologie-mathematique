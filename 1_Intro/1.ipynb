{
  "cells": [
    {
      "cell_type": "markdown",
      "source": [
        "# [1.1]() Appréhender le cours"
      ],
      "metadata": {}
    },
    {
      "cell_type": "markdown",
      "source": [
        "Le génie écologique est une dicipline émergeante vouée à l'analyse, la modélisation, la conception et la construction de systèmes vivants dans le but de résoudre de manière efficace des problèmes liés à l'écologie et une panoplie de domaines qui lui sont raccordés. L'agriculture est l'un de ces domaines. C'est d'emblée la discipline qui sera prisée dans ce manuel. Néanmoins, les principes qui seront discutés sont transférable à l'écologie générale comme à la foresterie."
      ],
      "metadata": {}
    },
    {
      "cell_type": "markdown",
      "source": [
        "_**C**alcul **s**cientifique en **g**énie **é**cologique_, CSGE, est un manuel distribuée librement (license [MIT](LIEN)) créé dans un environnement intéractif de type *carnet de notes* ([Jupyter lab](https://jupyter.org), [nteract](https://nteract.io)). Ce format permet aussi de travailler avec le langage de programmation Python, qui sera ici l'outil privilégié pour le calcul scientifique."
      ],
      "metadata": {}
    },
    {
      "cell_type": "markdown",
      "source": [
        "## Les logiciels libres\n",
        "\n",
        "Vous noterez que tous les outils numériques qui sont proposés dans ce cours sont des logiciels libres:\n",
        "\n",
        "> « Logiciel libre » [free software] désigne des logiciels qui respectent la liberté des utilisateurs. En gros, cela veut dire que les utilisateurs ont la liberté d'exécuter, copier, distribuer, étudier, modifier et améliorer ces logiciels. Ainsi, « logiciel libre » fait référence à la liberté, pas au prix1 (pour comprendre ce concept, vous devez penser à « liberté d'expression », pas à « entrée libre »). - [Projet GNU](https://www.gnu.org/philosophy/free-sw.fr.html)\n",
        "\n",
        "Donc: codes sources ouverts, développement souvent communautaire, gratuité. Plusieurs [raisons éthiques](https://www.youtube.com/watch?v=Ag1AKIl_2GM), principalement liées au contrôle de l'environnement virtuel par les utilisateurs et les communautés, peuvent justifier l'utilisation de logiciels libres. Plusieurs raisons pratiques justifient aussi cette orientation. Les logiciels libres vous permettent de transporter vos outils avec vous, d'une entreprise à l'autre, au bureau, ou à la maison, et ce, sans vous soucier d'acheter de coûteuses licences.\n",
        "\nOn soulève avec justesse les risques liés aux erreurs de calculs. Pour les scientifiques, une erreur peu mener à une étude retirée de la littérature et potentiellement des politiques publiques mal avisées. Pour les ingénieurs, les conséquences pourraient être dramatiques. **Comme professionnel.le, cous êtes responsabile des outils que vous utilisez: vous devez vous assurer de la bonne qualité d'un logiciel, qu'il soit propriétaire ou communautaire**. Alors que la qualité des logiciels propriétaires est généralement suivie par audits, celle des logiciels libres est plutôt soumise à la vigilance communautaire. Chaque approche a ses avantages et inconvénients, mais elles ne sont pas exclusives. Ainsi les logiciels libres peuvent être audités à l'externe par quiconque décide de le faire. Différentes entreprises, souvent concurantes, participent tant à cette vigilance qu'au développement des logiciels libres: elles en sont même souvent les instigatrices."
      ],
      "metadata": {}
    },
    {
      "cell_type": "markdown",
      "source": [
        "## Pourquoi Python?\n",
        "\n",
        "En plus d'être libre, Python est un langage de programmation dynamique et générique apprécié pour sa polyvalence et sa simplicité. Son développement est supporté par la [Python Software Foundation](https://www.python.org/psf/). Python est utilisé autant pour créer des logiciels ou des sites web que pour le calcul scientifique. Ainsi, Python peut être utilisé en interopérabilité avec une panoplie de logiciels libres, comme [QGIS](http://www.qgis.org) pour la cartorgaphie et [FreeCAD](https://github.com/FreeCAD/FreeCAD) pour le dessin technique.\n",
        "\n",
        "Mais par dessus tout, une fois implémenté avec des modules de calcul scientifique (que nous couvrirons au long du cours), Python devient un outil de calcul convivial, rapide et fiable pour le génie écologique.\n",
        "\n",
        "![](https://imgs.xkcd.com/comics/python.png)\n",
        "Source: [xkcd](https://xkcd.com/353/)"
      ],
      "metadata": {}
    },
    {
      "cell_type": "markdown",
      "source": [
        "## Pourquoi pas R?\n",
        "Des comparaisons peuvent inévitablement être dressées avec des langages offrant des possibilités similaires. En particulier, [R](https://www.r-project.org/) est un langage de programmation orienté pour le calcul statistique. Davantage que Python à ce jour, R comprend une quantité impressionnante de modules destinés à toutes sortes d'applications scientifiques. Il est prisé en biologie, en écologie et en agronomie pour sa simplicité et la grande qualité de ses modules. Sa popularité reste moindre pour effectuer des calculs numériques liés à l'ingénierie ou pour déployer des algorithmes sous forme de logiciel.\n",
        "\nBien que leurs possibilités se superposent largement, ce serait une erreur d'aborder R et Python comme des langages rivaux. Les deux ont une structure similaire et s'inspirent mutuellement: apprendre à travailler avec l'un vient à apprendre l'autre. Par ailleurs, il est possible d'intégrer R dans un flux de travail en Python via le module [`rpy2`](https://rpy2.bitbucket.io/)."
      ],
      "metadata": {}
    },
    {
      "cell_type": "markdown",
      "source": [
        "D'autres languages realtivement similaires à Python, comme [Julia](http://julialang.org), [Scala](http://www.scala-lang.org) et [Ruby](http://sciruby.com), sont aussi utilisés en calcul scientifique. Des languages de plus bas niveau, comme Fortran et C++, viennent souvent appuyer les fonctions des autres langages: ces langages sont plus ardus à utiliser au jour le jour, mais leur rapidité de calcul est imbatable."
      ],
      "metadata": {}
    },
    {
      "cell_type": "markdown",
      "source": [
        "## Pourquoi pas Matlab?\n",
        "Parce qu'on est en 2017."
      ],
      "metadata": {}
    },
    {
      "cell_type": "markdown",
      "source": [
        "## [1.1.1](#1) Qui devrait lire CSGE?"
      ],
      "metadata": {}
    },
    {
      "cell_type": "markdown",
      "source": [
        "Le cours de CSGE vise à introduire des étudiants gradués en agronomie, biologie, écologie, sols, génie agroenvironnemental, génie civil et génie écologique au calcul scientifique dans leur domaine, tant pour les appuyer pour leurs travaux de recherche que pour leur fournir une trousse d'outil émancipatrice pour leur cheminement professionnel. Plus spécifiquement, vous serez accompagné à découvrir différents outils numériques qui vous permettront d'appréhender vos données, d'en faire émerger l'information et de construire des maquettes décrivant les mécanismes qui les sousentendent."
      ],
      "metadata": {}
    },
    {
      "cell_type": "markdown",
      "source": [
        "Bien que des connaissances en programmation et en statistiques aideront grandement les étudiant⦁e⦁s à appréhender ce document, une littéracie informatique n'est pas requise. Par ailleurs, le chapitre 2 est une introduction au statistiques avec Python. Quoi qu'il en soit, quiconque voudra tirer profit de ce manuel devra faire preuve d'autonomie. Vous serez guidés vers des ressources et des références, mais je vous suggère vivement de développer votre propre bibliothèque adaptée à vos besoins et à votre manière de comprendre."
      ],
      "metadata": {}
    },
    {
      "cell_type": "markdown",
      "source": [
        "## [1.1.2](#2) Comment lire CSGE?"
      ],
      "metadata": {}
    },
    {
      "cell_type": "markdown",
      "source": [
        "## [1.1.5](#5) Lectures complémentaires"
      ],
      "metadata": {}
    },
    {
      "cell_type": "markdown",
      "source": [
        "### Génie écologique\n",
        "\n",
        "- [Numerical ecology](https://www.elsevier.com/books/numerical-ecology/legendre/978-0-444-53868-0). L'ouvrage hautement détaillé des frères Legendre est non seulement fondamental, mais aussi fondateur d'une science qui évolue encore aujourd'hui: l'analyse des données écologiques.\n",
        "- [A practical guide to ecological modelling](http://www.springer.com/us/book/9781402086236). Soetaert et Herman portent une attention particulière à la présentation des principes de modélisation dans un langage accessible. Les modèles présentés concernent principalement les bilans de masse, en terme de systèmes de réactions chimiques et de relations biologiques.\n",
        "- [Modélisation mathématique en écologie](http://www.documentation.ird.fr/hor/fdi:010050350). Rare livre en modélisation écologique publié en français, la première partie s'attarde aux concepts mathématiques, alors que la deuxième planche à les appliquer. Si le haut niveau d'abstraction de la première partie vous rebute (ce fut mon cas), n'hésitez pas débuter par la seconde partie et de vous référer à la première au besoin.\n",
        "- Ecological engineering. Principle and Practice.\n",
        "- Ecological processes handbook.\n",
        "- Modeling groundwater flow and contaminant transport\n",
        "- Modeling complex ecological dynamics\n",
        "- [A new ecology: systems perspective](https://www.elsevier.com/books/a-new-ecology/jorgensen/978-0-444-53160-5). Principalement grâce au soleil, la Terre forme un ensemble de gradients d'énergie qui se déclinent en des systèmes d'une étonnante complexité. C'est ainsi que le regreté Sven Erik Jørgensenn (1934-2016) et ses collaborateurs décrivent les écosystèmes dans cet ouvrage qui fait suite aux travaux fondateurs de Howard Thomas Odum.\n",
        "\n",
        "### Programmation\n",
        "\n",
        "- [Numerical ecology with R](http://www.springer.com/la/book/9781441979759). Daniel Borcard enseigne l'écologie numérique à l'Université de Montréal. Son cours est condensé dans ce livre recettes voué à l'application des principes lourdement décrits dans [Numerical ecology](https://www.elsevier.com/books/numerical-ecology/legendre/978-0-444-53868-0).\n",
        "- Python for data analysis\n",
        "- Soil physics with Python\n",
        "- Python geospatial development\n",
        "- stack overflow et cross-validate\n",
        "\n",
        "### Divers\n",
        "- [The truthful art](http://www.thefunctionalart.com/p/the-truthful-art-book.html). Cet ouvrage de Alberto Cairo s'intéresse à l'utilisation des données et de leurs présentation pour fournir une information adéquate à différents publics."
      ],
      "metadata": {}
    },
    {
      "cell_type": "markdown",
      "source": [
        "## [1.1.6](#6) Besoin d'aide?"
      ],
      "metadata": {}
    },
    {
      "cell_type": "markdown",
      "source": [
        "Les ouvrages de référence reconnus vous offrent des bases solides sur lesquelles vous pouvez vous appuyer dans vos travaux. Mais au delà des principes, au jour le jour, vous vous butterez inmanquablement à toutes sortes de petits problèmes. Quel module utiliser pour cette tâche précise? Que veut dire ce message d'erreur? Comment interpréter ce résultat? Pour tous les petits accorcs du quotidien en calcul scientifique, internet offre de nombreuses ressources qui sont très hétérogènes en qualité. Vous aprendrez à reconnaître les ressources fiables à celles qui sont douteuses. Les plate formes basées sur Stack Exchange, comme [Stack Overflow](https://stackoverflow.com) et [Cross Validated](https://stats.stackexchange.com), m'ont souvent été d'une aide précieuse. Vous aurez avantage à vous contruire une petite banque d'information en collectant des liens, en prenant en notes certaines recettes et en suivant des sites d'intérêt avec des flux RSS. À ce titre, les logiciels d'organisation de notes comme [Framanotes](https://framanotes.org) (une alternative libre à Evernote) sont particulièrement utiles."
      ],
      "metadata": {}
    },
    {
      "cell_type": "markdown",
      "source": [
        "## [1.1.7](#7) Contribuer à CSGE"
      ],
      "metadata": {}
    },
    {
      "cell_type": "markdown",
      "source": [
        "## [1.1.8](#8) À propos de l'auteur"
      ],
      "metadata": {}
    },
    {
      "cell_type": "markdown",
      "source": [
        "Je m'appelle Serge-Étienne Parent. Je suis ingénieur écologue et professeur adjoint au Département des sols et de génie agroalimentaire de l'Université Laval, Québec, Canada. Je crois que la science est le meilleur moyen d'appréhender le monde pour prendre des décisions avisées, particulièrement en écologie, une science maltraitée de toute part."
      ],
      "metadata": {}
    },
    {
      "cell_type": "markdown",
      "source": [
        "## [1.1.9](#9) Remerciements"
      ],
      "metadata": {}
    },
    {
      "cell_type": "code",
      "source": [],
      "outputs": [],
      "execution_count": 1,
      "metadata": {
        "collapsed": true
      }
    },
    {
      "cell_type": "code",
      "source": [],
      "outputs": [],
      "execution_count": null,
      "metadata": {
        "collapsed": false,
        "outputHidden": false,
        "inputHidden": false
      }
    }
  ],
  "metadata": {
    "anaconda-cloud": {},
    "kernelspec": {
      "name": "python3",
      "language": "python",
      "display_name": "Python 3"
    },
    "language_info": {
      "name": "python",
      "version": "3.5.3",
      "nbconvert_exporter": "python",
      "file_extension": ".py",
      "pygments_lexer": "ipython3",
      "mimetype": "text/x-python",
      "codemirror_mode": {
        "name": "ipython",
        "version": 3
      }
    },
    "kernel_info": {
      "name": "python3"
    }
  },
  "nbformat": 4,
  "nbformat_minor": 2
}