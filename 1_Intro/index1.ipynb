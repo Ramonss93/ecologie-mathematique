{
 "cells": [
  {
   "cell_type": "markdown",
   "metadata": {},
   "source": [
    "# [1]() Démarrer"
   ]
  },
  {
   "cell_type": "markdown",
   "metadata": {},
   "source": [
    "**Table des matières**\n",
    "0. [Lire CSGE](index.ipynb#1)\n",
    "    0. [Qui devrait lire CSGE?](1.ipynb#1)\n",
    "    0. [Comment lire CSGE?](1.ipynb#2)\n",
    "    0. [Utiliser Jupyter lab](1.ipynb#4)\n",
    "    0. [Lectures complémentaires](1.ipynb#5)\n",
    "        0. [Getting started with Biology](1.ipynb#5.1)\n",
    "        0. [Getting started with Computer Science and programming](1.ipynb#5.2)\n",
    "        0. [Philosophy of biology and popular science books](1.ipynb#5.3)\n",
    "    0. [Besoin d'aide?](1.ipynb#6)\n",
    "    0. [Contribuer à CSGE](1.ipynb#7)\n",
    "    0. [À propos de l'auteur](1.ipynb#8)\n",
    "    0. [Remerciements](1.ipynb#9)"
   ]
  }
 ],
 "metadata": {
  "anaconda-cloud": {},
  "kernelspec": {
   "display_name": "Python [default]",
   "language": "python",
   "name": "python3"
  },
  "language_info": {
   "codemirror_mode": {
    "name": "ipython",
    "version": 3
   },
   "file_extension": ".py",
   "mimetype": "text/x-python",
   "name": "python",
   "nbconvert_exporter": "python",
   "pygments_lexer": "ipython3",
   "version": "3.5.2"
  }
 },
 "nbformat": 4,
 "nbformat_minor": 2
}
