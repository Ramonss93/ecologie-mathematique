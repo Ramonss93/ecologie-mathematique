{
 "cells": [
  {
   "cell_type": "markdown",
   "metadata": {},
   "source": [
    "# Méta-analyse\n",
    "\n",
    "La littérature scientifique est une grande bibliothèque où l'on retrouve de l'information dont la qualité est hétérogène sur des sujets très variés la plupart du temps très pointus. Afin de répondre à des questions d'ordre plus général, on peut effectuer de la \"recherche sur la recherche\". On procédera alors par revue systématique ou par méta-analyse.\n",
    "\n",
    "Une revue systématique consiste à examiner et synthétiser la littérature scientifique de manière méthodique sur un sujet en particulier. La méta-analyse est une technique qui permet de tester statistiquement un effet — comme l’effet d’un traitement par rapport à un placébo ou d’un système de culture par rapport à un autre — en combinant plusieurs études tirées d’une revue systématique. Les deux approches montrent des cartes à grande échelle, moins détaillées que les études individuelles mais offrant des aperçus plus généraux. Ainsi, un seul article, en soi, ne contredit pas à lui seul un aperçu général de la littérature.\n",
    "\n",
    "En combinant plusieurs études, une méta-analyse \"accroit la puissance statistique d'un test, explore l'hétérogénéité des études, identifie des structures de grande ampleur et facilite la prise de décision basé sur les évidences\" ([Stewart, 2009](http://rsbl.royalsocietypublishing.org/content/6/1/78)). \n",
    "\n",
    "À ma connaissance, on n'a toujours pas développé de module de méta-analyse en Python. Ce n'est pas du tout le cas pour R, qui en inclut plusieurs. L'un d'entre eux, **meta**, est conçu pour être facile d'approche. Pour installer R, nous allons créer un nouvel environnement virtuel. Nous avons vu que cela s'effectue avec la commande `conda create`. L'option `--name` précède le nom de l'environnement virtuel. L'option `--channel`, quant à elle, précède le nom d'un dépôt où conda est autorisé à chercher pour télécharger les modules. Ici, on recherche le dépôt `r`. La suite spécifie les modules complémentaires pour l'utilisation de R avec conda.\n",
    "\n",
    "```\n",
    "conda create --name Renv --channel r r r-irkernel r-recommended r-essentials\n",
    "source activate Renv\n",
    "```"
   ]
  },
  {
   "cell_type": "code",
   "execution_count": 7,
   "metadata": {
    "collapsed": false,
    "scrolled": false
   },
   "outputs": [],
   "source": [
    "options(jupyter.plot_mimetypes = 'image/png')\n",
    "#install.packages(\"meta\")\n",
    "library(\"meta\")"
   ]
  },
  {
   "cell_type": "code",
   "execution_count": 8,
   "metadata": {
    "collapsed": false
   },
   "outputs": [
    {
     "data": {
      "text/plain": [
       "      SMD             95%-CI %W(fixed) %W(random)\n",
       "1 -0.3399 [-1.1152;  0.4354]      11.5       11.5\n",
       "2 -0.5659 [-1.0274; -0.1044]      32.6       32.6\n",
       "3 -0.2999 [-0.7712;  0.1714]      31.2       31.2\n",
       "4  0.1250 [-0.4954;  0.7455]      18.0       18.0\n",
       "5 -0.7346 [-1.7575;  0.2883]       6.6        6.6\n",
       "\n",
       "Number of studies combined: k = 5\n",
       "\n",
       "                         SMD             95%-CI     z  p-value\n",
       "Fixed effect model   -0.3434 [-0.6068; -0.0800] -2.56   0.0106\n",
       "Random effects model -0.3434 [-0.6068; -0.0800] -2.56   0.0106\n",
       "\n",
       "Quantifying heterogeneity:\n",
       " tau^2 = 0; H = 1.00 [1.00; 2.10]; I^2 = 0.0% [0.0%; 77.4%];\n",
       " Rb = 0.0% [0.0%; 100.0%]\n",
       "\n",
       "Test of heterogeneity:\n",
       "    Q d.f.  p-value\n",
       " 3.68    4   0.4515\n",
       "\n",
       "Details on meta-analytical method:\n",
       "- Inverse variance method\n",
       "- DerSimonian-Laird estimator for tau^2\n",
       "- Hedges' g (bias corrected standardised mean difference)"
      ]
     },
     "metadata": {},
     "output_type": "display_data"
    }
   ],
   "source": [
    "data(Fleiss93cont)\n",
    "meta1 <- metacont(n.e, mean.e, sd.e, n.c, mean.c, sd.c, data=Fleiss93cont, sm=\"SMD\")\n",
    "meta1"
   ]
  },
  {
   "cell_type": "code",
   "execution_count": 4,
   "metadata": {
    "collapsed": false
   },
   "outputs": [
    {
     "data": {
      "image/png": "[encoded data removed]"
     },
     "metadata": {},
     "output_type": "display_data"
    }
   ],
   "source": [
    "forest(meta1)"
   ]
  },
  {
   "cell_type": "markdown",
   "metadata": {
    "collapsed": true
   },
   "source": [
    "[Stewart, Gavin, 2009. Meta-analysis in applied ecology. Biology Letter, DOI: 10.1098/rsbl.2009.0546.](http://rsbl.royalsocietypublishing.org/content/6/1/78)"
   ]
  },
  {
   "cell_type": "markdown",
   "metadata": {},
   "source": [
    "#### SI rpy2\n",
    "\n",
    "Toutefois, à cause d'un bug, le canal conda-forge doit être désactivé temporairement. Pour se faire, recherchez le fichier .condarc (fichier caché dans le dossier mère de l'utilisateur), puis supprimez la ligne `- conda-forge`. Une fois l'environnement installé, vous pourrez l'ajouter de nouveau.\n",
    "\n",
    "```\n",
    "conda create --name Renv --channel r r r-irkernel r-recommended r-essentials rpy2 python=3\n",
    "source activate Renv\n",
    "```"
   ]
  },
  {
   "cell_type": "code",
   "execution_count": 12,
   "metadata": {
    "collapsed": false
   },
   "outputs": [
    {
     "name": "stderr",
     "output_type": "stream",
     "text": [
      "/home/essicolo/bin/anaconda3/envs/Renv/lib/python3.6/site-packages/rpy2/rinterface/__init__.py:186: RRuntimeWarning: Installation du package dans ‘/home/essicolo/R/x86_64-pc-linux-gnu-library/3.3’\n",
      "(car ‘lib’ n'est pas spécifié)\n",
      "\n",
      "  warnings.warn(x, RRuntimeWarning)\n",
      "/home/essicolo/bin/anaconda3/envs/Renv/lib/python3.6/site-packages/rpy2/rinterface/__init__.py:186: RRuntimeWarning: essai de l'URL 'https://cloud.r-project.org/src/contrib/meta_4.7-0.tar.gz'\n",
      "\n",
      "  warnings.warn(x, RRuntimeWarning)\n",
      "/home/essicolo/bin/anaconda3/envs/Renv/lib/python3.6/site-packages/rpy2/rinterface/__init__.py:186: RRuntimeWarning: Content type 'application/x-gzip'\n",
      "  warnings.warn(x, RRuntimeWarning)\n",
      "/home/essicolo/bin/anaconda3/envs/Renv/lib/python3.6/site-packages/rpy2/rinterface/__init__.py:186: RRuntimeWarning:  length 217892 bytes (212 KB)\n",
      "\n",
      "  warnings.warn(x, RRuntimeWarning)\n",
      "/home/essicolo/bin/anaconda3/envs/Renv/lib/python3.6/site-packages/rpy2/rinterface/__init__.py:186: RRuntimeWarning: =\n",
      "  warnings.warn(x, RRuntimeWarning)\n",
      "/home/essicolo/bin/anaconda3/envs/Renv/lib/python3.6/site-packages/rpy2/rinterface/__init__.py:186: RRuntimeWarning: \n",
      "\n",
      "  warnings.warn(x, RRuntimeWarning)\n",
      "/home/essicolo/bin/anaconda3/envs/Renv/lib/python3.6/site-packages/rpy2/rinterface/__init__.py:186: RRuntimeWarning: downloaded 212 KB\n",
      "\n",
      "\n",
      "  warnings.warn(x, RRuntimeWarning)\n",
      "/home/essicolo/bin/anaconda3/envs/Renv/lib/python3.6/site-packages/rpy2/rinterface/__init__.py:186: RRuntimeWarning: \n",
      "  warnings.warn(x, RRuntimeWarning)\n",
      "/home/essicolo/bin/anaconda3/envs/Renv/lib/python3.6/site-packages/rpy2/rinterface/__init__.py:186: RRuntimeWarning: Les packages source téléchargés sont dans\n",
      "\t‘/tmp/RtmpTzcFlJ/downloaded_packages’\n",
      "  warnings.warn(x, RRuntimeWarning)\n"
     ]
    },
    {
     "data": {
      "text/plain": [
       "rpy2.rinterface.NULL"
      ]
     },
     "execution_count": 12,
     "metadata": {},
     "output_type": "execute_result"
    }
   ],
   "source": [
    "import rpy2.robjects.packages as rpackages\n",
    "utils = rpackages.importr('utils')\n",
    "utils.chooseCRANmirror(ind=1)\n",
    "utils.install_packages('meta')"
   ]
  },
  {
   "cell_type": "code",
   "execution_count": 19,
   "metadata": {
    "collapsed": false
   },
   "outputs": [],
   "source": [
    "from rpy2.robjects.packages import importr\n",
    "meta = importr('meta')"
   ]
  },
  {
   "cell_type": "code",
   "execution_count": 21,
   "metadata": {
    "collapsed": false,
    "scrolled": true
   },
   "outputs": [
    {
     "ename": "ValueError",
     "evalue": "Data set \"Fleiss93cont\" cannot be found",
     "output_type": "error",
     "traceback": [
      "\u001b[0;31m---------------------------------------------------------------------------\u001b[0m",
      "\u001b[0;31mValueError\u001b[0m                                Traceback (most recent call last)",
      "\u001b[0;32m<ipython-input-21-3b7f22e2b476>\u001b[0m in \u001b[0;36m<module>\u001b[0;34m()\u001b[0m\n\u001b[1;32m      1\u001b[0m \u001b[0;32mfrom\u001b[0m \u001b[0mrpy2\u001b[0m\u001b[0;34m.\u001b[0m\u001b[0mrobjects\u001b[0m\u001b[0;34m.\u001b[0m\u001b[0mpackages\u001b[0m \u001b[0;32mimport\u001b[0m \u001b[0mimportr\u001b[0m\u001b[0;34m,\u001b[0m \u001b[0mdata\u001b[0m\u001b[0;34m\u001b[0m\u001b[0m\n\u001b[1;32m      2\u001b[0m \u001b[0mdatasets\u001b[0m \u001b[0;34m=\u001b[0m \u001b[0mimportr\u001b[0m\u001b[0;34m(\u001b[0m\u001b[0;34m'datasets'\u001b[0m\u001b[0;34m)\u001b[0m\u001b[0;34m\u001b[0m\u001b[0m\n\u001b[0;32m----> 3\u001b[0;31m \u001b[0mfleiss93cont\u001b[0m \u001b[0;34m=\u001b[0m \u001b[0mdata\u001b[0m\u001b[0;34m(\u001b[0m\u001b[0mdatasets\u001b[0m\u001b[0;34m)\u001b[0m\u001b[0;34m.\u001b[0m\u001b[0mfetch\u001b[0m\u001b[0;34m(\u001b[0m\u001b[0;34m'Fleiss93cont'\u001b[0m\u001b[0;34m)\u001b[0m\u001b[0;34m[\u001b[0m\u001b[0;34m'Fleiss93cont'\u001b[0m\u001b[0;34m]\u001b[0m \u001b[0;31m# data(Fleiss93cont)\u001b[0m\u001b[0;34m\u001b[0m\u001b[0m\n\u001b[0m",
      "\u001b[0;32m/home/essicolo/bin/anaconda3/envs/Renv/lib/python3.6/site-packages/rpy2/robjects/packages.py\u001b[0m in \u001b[0;36mfetch\u001b[0;34m(self, name)\u001b[0m\n\u001b[1;32m    143\u001b[0m \u001b[0;34m\u001b[0m\u001b[0m\n\u001b[1;32m    144\u001b[0m         \u001b[0;32mif\u001b[0m \u001b[0mname\u001b[0m \u001b[0;32mnot\u001b[0m \u001b[0;32min\u001b[0m \u001b[0mself\u001b[0m\u001b[0;34m.\u001b[0m\u001b[0m_datasets\u001b[0m\u001b[0;34m:\u001b[0m\u001b[0;34m\u001b[0m\u001b[0m\n\u001b[0;32m--> 145\u001b[0;31m             \u001b[0;32mraise\u001b[0m \u001b[0mValueError\u001b[0m\u001b[0;34m(\u001b[0m\u001b[0;34m'Data set \"%s\" cannot be found'\u001b[0m \u001b[0;34m%\u001b[0m \u001b[0mname\u001b[0m\u001b[0;34m)\u001b[0m\u001b[0;34m\u001b[0m\u001b[0m\n\u001b[0m\u001b[1;32m    146\u001b[0m         \u001b[0menv\u001b[0m \u001b[0;34m=\u001b[0m \u001b[0m_new_env\u001b[0m\u001b[0;34m(\u001b[0m\u001b[0;34m)\u001b[0m\u001b[0;34m\u001b[0m\u001b[0m\n\u001b[1;32m    147\u001b[0m         _data(StrSexpVector((name, )),\n",
      "\u001b[0;31mValueError\u001b[0m: Data set \"Fleiss93cont\" cannot be found"
     ]
    }
   ],
   "source": [
    "from rpy2.robjects.packages import importr, data\n",
    "datasets = importr('datasets')\n",
    "fleiss93cont = data(datasets).fetch('Fleiss93cont')['Fleiss93cont'] # data(Fleiss93cont)"
   ]
  }
 ],
 "metadata": {
  "anaconda-cloud": {},
  "kernelspec": {
   "display_name": "R",
   "language": "R",
   "name": "ir"
  },
  "language_info": {
   "codemirror_mode": "r",
   "file_extension": ".r",
   "mimetype": "text/x-r-source",
   "name": "R",
   "pygments_lexer": "r",
   "version": "3.3.2"
  }
 },
 "nbformat": 4,
 "nbformat_minor": 2
}
