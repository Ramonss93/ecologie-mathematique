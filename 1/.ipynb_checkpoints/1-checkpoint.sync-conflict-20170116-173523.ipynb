{
 "cells": [
  {
   "cell_type": "markdown",
   "metadata": {},
   "source": [
    "TITRE_DU_COURS: Concepts de génie bionumérique\n",
    "SOUSTITRE_DU_COURS: Calcul scientifique pour la biosphère"
   ]
  },
  {
   "cell_type": "markdown",
   "metadata": {},
   "source": [
    "# Chapitre 1: Introduction\n",
    "\n",
    "Le cours de TITRE_DU_COURS vise à vous introduire au génie bionumérique, une discipline émergeante vouée à l'analyse, la modélisation et la conception de systèmes vivants. Plus spécifiquement, vous serez accompagné à découvrir différents outils numériques qui vous permettront d'appréhender vos données, d'en faire émerger l'information et de construire des maquettes décrivant les mécanismes qui les sousentendent.\n",
    "\n",
    "Ce cours est complémentaire aux cours de biostatistique offerts à l'Université de Montréal ([1](https://admission.umontreal.ca/cours-et-horaires/cours/bio-2041/), [2](https://admission.umontreal.ca/cours-et-horaires/cours/bio-2042/)).\n",
    "...\n",
    "\n",
    "NOTE: M'inspirer de l'intro Soil physics with Python et Numerical ecology"
   ]
  },
  {
   "cell_type": "markdown",
   "metadata": {},
   "source": [
    "## Prérequis\n",
    "\n",
    "Le calcul scientifique est en constante évolution. Bien que des connaissances en programmation et en statistiques aideront grandement les étudiant⦁e⦁s à appréhender ce document, quiconque voudra en tirer profit devra faire preuve d'autonomie. Vous serez guidés vers des ressources et des références, mais je vous suggère vivement de développer votre propre bibliothèque adaptée à vos besoins et à votre manière de comprendre.\n"
   ]
  },
  {
   "cell_type": "markdown",
   "metadata": {},
   "source": [
    "## Ressources\n",
    "\n",
    "Fichiers d'aide\n",
    "stack overflow\n",
    "cross-validate"
   ]
  },
  {
   "cell_type": "markdown",
   "metadata": {},
   "source": [
    "## Pourquoi Python?\n",
    "\n",
    "Vous noterez que tous les outils numériques qui sont proposés dans ce cours sont sous licence libre, c'est-à-dire qu'ils sont gratuits, que leurs codes sources sont ouverts et qu'ils sont souvent développés par des communautés. Plusieurs raisons éthiques peuvent justifier ce choix. Pratiquement, les logiciels libres vous permettent de transporter vos outils avec vous, d'une entreprise à l'autre, au bureau, ou à la maison, et ce, sans vous soucier d'acheter de coûteuses licences.\n",
    "\n",
    "Python est un langage de programmation libre, dynamique et générique apprécié pour sa polyvalence et sa simplicité. Il est utilisé autant pour créer des logiciels ou des sites web que pour le calcul scientifique.\n",
    "\n",
    "Ainsi, Python peut être utilisé en interopérabilité avec une panoplie de logiciels libres: QGIS pour la cartorgaphie, FreeCAD pour le dessin technique, ????"
   ]
  },
  {
   "cell_type": "markdown",
   "metadata": {},
   "source": [
    "## Pourquoi pas R?\n",
    "Des comparaisons peuvent inévitablement être dressées avec des langages offrant des possibilités similaires. En particulier, [R](https://www.r-project.org/) est un langage de programmation orienté pour le calcul statistique. Davantage que Python à ce jour, R comprend une quantité impressionnante de modules destinés à toutes sortes d'applications scientifiques. Il est prisé en biologie, en écologie et en agronomie pour sa simplicité et la grande qualité de ses modules. Sa popularité reste moindre pour effectuer des calculs numériques liés à l'ingénierie ou pour déployer des algorithmes sous forme de logiciel. Bien que leurs possibilités se superposent largement, ce serait une erreur d'aborder R et Python comme des langages rivaux. Les deux fonctionnent selon une logique similaire, et apprendre à travailler avec l'un vient à apprendre l'autre. Par ailleurs, il est possible d'intégrer R dans un flux de travail en Python via le module [`rpy2`](https://rpy2.bitbucket.io/), et nous le ferons pour des applications spécifiques."
   ]
  }
 ],
 "metadata": {
  "anaconda-cloud": {},
  "kernelspec": {
   "display_name": "Python 3",
   "language": "python",
   "name": "python3"
  },
  "language_info": {
   "codemirror_mode": {
    "name": "ipython",
    "version": 3
   },
   "file_extension": ".py",
   "mimetype": "text/x-python",
   "name": "python",
   "nbconvert_exporter": "python",
   "pygments_lexer": "ipython3",
   "version": "3.5.2"
  }
 },
 "nbformat": 4,
 "nbformat_minor": 2
}
